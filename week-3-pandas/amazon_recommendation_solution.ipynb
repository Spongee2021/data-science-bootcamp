{
  "nbformat": 4,
  "nbformat_minor": 0,
  "metadata": {
    "colab": {
      "name": "amazon_recommendation_solution.ipynb",
      "provenance": [],
      "collapsed_sections": [],
      "toc_visible": true
    },
    "kernelspec": {
      "display_name": "Python 3",
      "language": "python",
      "name": "python3"
    },
    "language_info": {
      "codemirror_mode": {
        "name": "ipython",
        "version": 3
      },
      "file_extension": ".py",
      "mimetype": "text/x-python",
      "name": "python",
      "nbconvert_exporter": "python",
      "pygments_lexer": "ipython3",
      "version": "3.8.5"
    }
  },
  "cells": [
    {
      "cell_type": "markdown",
      "metadata": {
        "id": "view-in-github"
      },
      "source": [
        "<a href=\"https://colab.research.google.com/github/vvthakral/data-science-bootcamp/blob/main/amazon_recommendation.ipynb\" target=\"_parent\"><img src=\"https://colab.research.google.com/assets/colab-badge.svg\" alt=\"Open In Colab\"/></a>"
      ]
    },
    {
      "cell_type": "markdown",
      "metadata": {
        "id": "afgJxK-Om4d2"
      },
      "source": [
        "# Problem Statement\n",
        "\n",
        "You are given subset of Amazon Transaction data for year 2019. Recommend a second product to the user based on users input (1st product in cart). The recommendation does not need to involve Machine Learning but simply be based on the count of most commonly purchased products (together) from the purchase history in the dataset.To limit the scope, you can target only San Francisco instead of entire USA.\n",
        "\n",
        "\n",
        "Learnings:<br>\n",
        "How to handle huge dataset<br>\n",
        "How to deal with Textual data<br>\n",
        "How to build prototype recommender system <br>\n",
        "How to make recommendations more efficient<br>"
      ]
    },
    {
      "cell_type": "code",
      "metadata": {
        "id": "5LZjZa19nWpw"
      },
      "source": [
        "import pandas as pd\r\n",
        "import numpy as np"
      ],
      "execution_count": null,
      "outputs": []
    },
    {
      "cell_type": "markdown",
      "metadata": {
        "id": "FyWESdcfm4eA"
      },
      "source": [
        "# Reading Data"
      ]
    },
    {
      "cell_type": "code",
      "metadata": {
        "colab": {
          "resources": {
            "http://localhost:8080/nbextensions/google.colab/files.js": {
              "data": "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",
              "ok": true,
              "headers": [
                [
                  "content-type",
                  "application/javascript"
                ]
              ],
              "status": 200,
              "status_text": ""
            }
          },
          "base_uri": "https://localhost:8080/",
          "height": 73
        },
        "id": "xAYXnTqSHOaW",
        "outputId": "e40efef8-8e71-48c3-ab15-e9ac3aca66e8"
      },
      "source": [
        "from google.colab import files\n",
        "uploaded = files.upload()"
      ],
      "execution_count": null,
      "outputs": [
        {
          "output_type": "display_data",
          "data": {
            "text/html": [
              "\n",
              "     <input type=\"file\" id=\"files-84fb5338-e26e-4f4f-99e2-67e50e31f604\" name=\"files[]\" multiple disabled\n",
              "        style=\"border:none\" />\n",
              "     <output id=\"result-84fb5338-e26e-4f4f-99e2-67e50e31f604\">\n",
              "      Upload widget is only available when the cell has been executed in the\n",
              "      current browser session. Please rerun this cell to enable.\n",
              "      </output>\n",
              "      <script src=\"/nbextensions/google.colab/files.js\"></script> "
            ],
            "text/plain": [
              "<IPython.core.display.HTML object>"
            ]
          },
          "metadata": {
            "tags": []
          }
        },
        {
          "output_type": "stream",
          "text": [
            "Saving amazon_transaction.csv to amazon_transaction.csv\n"
          ],
          "name": "stdout"
        }
      ]
    },
    {
      "cell_type": "code",
      "metadata": {
        "colab": {
          "base_uri": "https://localhost:8080/",
          "height": 343
        },
        "id": "UOOblFxTsKfH",
        "outputId": "b8bd037c-3e4b-42e3-bcf9-35ec9917e10e"
      },
      "source": [
        "df = pd.read_csv(\"amazon_transaction.csv\")\r\n",
        "df.head(10)"
      ],
      "execution_count": null,
      "outputs": [
        {
          "output_type": "execute_result",
          "data": {
            "text/html": [
              "<div>\n",
              "<style scoped>\n",
              "    .dataframe tbody tr th:only-of-type {\n",
              "        vertical-align: middle;\n",
              "    }\n",
              "\n",
              "    .dataframe tbody tr th {\n",
              "        vertical-align: top;\n",
              "    }\n",
              "\n",
              "    .dataframe thead th {\n",
              "        text-align: right;\n",
              "    }\n",
              "</style>\n",
              "<table border=\"1\" class=\"dataframe\">\n",
              "  <thead>\n",
              "    <tr style=\"text-align: right;\">\n",
              "      <th></th>\n",
              "      <th>Order ID</th>\n",
              "      <th>Product</th>\n",
              "      <th>Quantity Ordered</th>\n",
              "      <th>Price Each</th>\n",
              "      <th>Order Date</th>\n",
              "      <th>Purchase Address</th>\n",
              "    </tr>\n",
              "  </thead>\n",
              "  <tbody>\n",
              "    <tr>\n",
              "      <th>0</th>\n",
              "      <td>176558</td>\n",
              "      <td>USB-C Charging Cable</td>\n",
              "      <td>2</td>\n",
              "      <td>11.95</td>\n",
              "      <td>04/19/19 08:46</td>\n",
              "      <td>917 1st St, Dallas, TX 75001</td>\n",
              "    </tr>\n",
              "    <tr>\n",
              "      <th>1</th>\n",
              "      <td>NaN</td>\n",
              "      <td>NaN</td>\n",
              "      <td>NaN</td>\n",
              "      <td>NaN</td>\n",
              "      <td>NaN</td>\n",
              "      <td>NaN</td>\n",
              "    </tr>\n",
              "    <tr>\n",
              "      <th>2</th>\n",
              "      <td>176559</td>\n",
              "      <td>Bose SoundSport Headphones</td>\n",
              "      <td>1</td>\n",
              "      <td>99.99</td>\n",
              "      <td>04/07/19 22:30</td>\n",
              "      <td>682 Chestnut St, Boston, MA 02215</td>\n",
              "    </tr>\n",
              "    <tr>\n",
              "      <th>3</th>\n",
              "      <td>176560</td>\n",
              "      <td>Google Phone</td>\n",
              "      <td>1</td>\n",
              "      <td>600</td>\n",
              "      <td>04/12/19 14:38</td>\n",
              "      <td>669 Spruce St, Los Angeles, CA 90001</td>\n",
              "    </tr>\n",
              "    <tr>\n",
              "      <th>4</th>\n",
              "      <td>176560</td>\n",
              "      <td>Wired Headphones</td>\n",
              "      <td>1</td>\n",
              "      <td>11.99</td>\n",
              "      <td>04/12/19 14:38</td>\n",
              "      <td>669 Spruce St, Los Angeles, CA 90001</td>\n",
              "    </tr>\n",
              "    <tr>\n",
              "      <th>5</th>\n",
              "      <td>176561</td>\n",
              "      <td>Wired Headphones</td>\n",
              "      <td>1</td>\n",
              "      <td>11.99</td>\n",
              "      <td>04/30/19 09:27</td>\n",
              "      <td>333 8th St, Los Angeles, CA 90001</td>\n",
              "    </tr>\n",
              "    <tr>\n",
              "      <th>6</th>\n",
              "      <td>176562</td>\n",
              "      <td>USB-C Charging Cable</td>\n",
              "      <td>1</td>\n",
              "      <td>11.95</td>\n",
              "      <td>04/29/19 13:03</td>\n",
              "      <td>381 Wilson St, San Francisco, CA 94016</td>\n",
              "    </tr>\n",
              "    <tr>\n",
              "      <th>7</th>\n",
              "      <td>176563</td>\n",
              "      <td>Bose SoundSport Headphones</td>\n",
              "      <td>1</td>\n",
              "      <td>99.99</td>\n",
              "      <td>04/02/19 07:46</td>\n",
              "      <td>668 Center St, Seattle, WA 98101</td>\n",
              "    </tr>\n",
              "    <tr>\n",
              "      <th>8</th>\n",
              "      <td>176564</td>\n",
              "      <td>USB-C Charging Cable</td>\n",
              "      <td>1</td>\n",
              "      <td>11.95</td>\n",
              "      <td>04/12/19 10:58</td>\n",
              "      <td>790 Ridge St, Atlanta, GA 30301</td>\n",
              "    </tr>\n",
              "    <tr>\n",
              "      <th>9</th>\n",
              "      <td>176565</td>\n",
              "      <td>Macbook Pro Laptop</td>\n",
              "      <td>1</td>\n",
              "      <td>1700</td>\n",
              "      <td>04/24/19 10:38</td>\n",
              "      <td>915 Willow St, San Francisco, CA 94016</td>\n",
              "    </tr>\n",
              "  </tbody>\n",
              "</table>\n",
              "</div>"
            ],
            "text/plain": [
              "  Order ID  ...                        Purchase Address\n",
              "0   176558  ...            917 1st St, Dallas, TX 75001\n",
              "1      NaN  ...                                     NaN\n",
              "2   176559  ...       682 Chestnut St, Boston, MA 02215\n",
              "3   176560  ...    669 Spruce St, Los Angeles, CA 90001\n",
              "4   176560  ...    669 Spruce St, Los Angeles, CA 90001\n",
              "5   176561  ...       333 8th St, Los Angeles, CA 90001\n",
              "6   176562  ...  381 Wilson St, San Francisco, CA 94016\n",
              "7   176563  ...        668 Center St, Seattle, WA 98101\n",
              "8   176564  ...         790 Ridge St, Atlanta, GA 30301\n",
              "9   176565  ...  915 Willow St, San Francisco, CA 94016\n",
              "\n",
              "[10 rows x 6 columns]"
            ]
          },
          "metadata": {
            "tags": []
          },
          "execution_count": 65
        }
      ]
    },
    {
      "cell_type": "markdown",
      "metadata": {
        "id": "UAwrsnz00iKI"
      },
      "source": [
        "#Data Understanding"
      ]
    },
    {
      "cell_type": "code",
      "metadata": {
        "colab": {
          "base_uri": "https://localhost:8080/"
        },
        "id": "mlvL-ROpum0C",
        "outputId": "d70bde13-4a20-416e-cccf-ebe04fb35a65"
      },
      "source": [
        "#Check for nulls and remove the rows\r\n",
        "df.isnull().sum()"
      ],
      "execution_count": null,
      "outputs": [
        {
          "output_type": "execute_result",
          "data": {
            "text/plain": [
              "Order ID            545\n",
              "Product             545\n",
              "Quantity Ordered    545\n",
              "Price Each          545\n",
              "Order Date          545\n",
              "Purchase Address    545\n",
              "dtype: int64"
            ]
          },
          "metadata": {
            "tags": []
          },
          "execution_count": 66
        }
      ]
    },
    {
      "cell_type": "code",
      "metadata": {
        "id": "RR-M2yjjv2Dy"
      },
      "source": [
        "df.dropna(inplace=True)"
      ],
      "execution_count": null,
      "outputs": []
    },
    {
      "cell_type": "code",
      "metadata": {
        "colab": {
          "base_uri": "https://localhost:8080/",
          "height": 166
        },
        "id": "nxyvYhOQtP5p",
        "outputId": "5cd2372f-6373-41cd-b2da-a694ba5b2299"
      },
      "source": [
        "#Get basic stats\r\n",
        "df.describe()"
      ],
      "execution_count": null,
      "outputs": [
        {
          "output_type": "execute_result",
          "data": {
            "text/html": [
              "<div>\n",
              "<style scoped>\n",
              "    .dataframe tbody tr th:only-of-type {\n",
              "        vertical-align: middle;\n",
              "    }\n",
              "\n",
              "    .dataframe tbody tr th {\n",
              "        vertical-align: top;\n",
              "    }\n",
              "\n",
              "    .dataframe thead th {\n",
              "        text-align: right;\n",
              "    }\n",
              "</style>\n",
              "<table border=\"1\" class=\"dataframe\">\n",
              "  <thead>\n",
              "    <tr style=\"text-align: right;\">\n",
              "      <th></th>\n",
              "      <th>Order ID</th>\n",
              "      <th>Product</th>\n",
              "      <th>Quantity Ordered</th>\n",
              "      <th>Price Each</th>\n",
              "      <th>Order Date</th>\n",
              "      <th>Purchase Address</th>\n",
              "    </tr>\n",
              "  </thead>\n",
              "  <tbody>\n",
              "    <tr>\n",
              "      <th>count</th>\n",
              "      <td>186305</td>\n",
              "      <td>186305</td>\n",
              "      <td>186305</td>\n",
              "      <td>186305</td>\n",
              "      <td>186305</td>\n",
              "      <td>186305</td>\n",
              "    </tr>\n",
              "    <tr>\n",
              "      <th>unique</th>\n",
              "      <td>178438</td>\n",
              "      <td>20</td>\n",
              "      <td>10</td>\n",
              "      <td>24</td>\n",
              "      <td>142396</td>\n",
              "      <td>140788</td>\n",
              "    </tr>\n",
              "    <tr>\n",
              "      <th>top</th>\n",
              "      <td>Order ID</td>\n",
              "      <td>USB-C Charging Cable</td>\n",
              "      <td>1</td>\n",
              "      <td>11.95</td>\n",
              "      <td>Order Date</td>\n",
              "      <td>Purchase Address</td>\n",
              "    </tr>\n",
              "    <tr>\n",
              "      <th>freq</th>\n",
              "      <td>355</td>\n",
              "      <td>21903</td>\n",
              "      <td>168552</td>\n",
              "      <td>21903</td>\n",
              "      <td>355</td>\n",
              "      <td>355</td>\n",
              "    </tr>\n",
              "  </tbody>\n",
              "</table>\n",
              "</div>"
            ],
            "text/plain": [
              "        Order ID               Product  ...  Order Date  Purchase Address\n",
              "count     186305                186305  ...      186305            186305\n",
              "unique    178438                    20  ...      142396            140788\n",
              "top     Order ID  USB-C Charging Cable  ...  Order Date  Purchase Address\n",
              "freq         355                 21903  ...         355               355\n",
              "\n",
              "[4 rows x 6 columns]"
            ]
          },
          "metadata": {
            "tags": []
          },
          "execution_count": 68
        }
      ]
    },
    {
      "cell_type": "code",
      "metadata": {
        "id": "z61X0uhNz3wY"
      },
      "source": [
        "df = df[df['Purchase Address'] != 'Purchase Address']"
      ],
      "execution_count": null,
      "outputs": []
    },
    {
      "cell_type": "code",
      "metadata": {
        "colab": {
          "base_uri": "https://localhost:8080/"
        },
        "id": "Mf-z4d6Dwp5X",
        "outputId": "b287f2eb-3bf9-471a-ad64-0546b64268dc"
      },
      "source": [
        "df['Order ID'].count() - len(df['Order ID'].unique())"
      ],
      "execution_count": null,
      "outputs": [
        {
          "output_type": "execute_result",
          "data": {
            "text/plain": [
              "7513"
            ]
          },
          "metadata": {
            "tags": []
          },
          "execution_count": 83
        }
      ]
    },
    {
      "cell_type": "markdown",
      "metadata": {
        "id": "wyGL_YKXwODt"
      },
      "source": [
        "We have 7513 duplicate order id i.e purchase of more than 1 product was made on these order id. \r\n",
        "\r\n",
        "This is the data we will be using for making recommendations."
      ]
    },
    {
      "cell_type": "code",
      "metadata": {
        "colab": {
          "base_uri": "https://localhost:8080/",
          "height": 402
        },
        "id": "LZG_LDp2vIQM",
        "outputId": "07cb3bd2-7230-4526-d24c-06031d0c5903"
      },
      "source": [
        "df = df[df['Order ID'].duplicated(keep=False)]\r\n",
        "df"
      ],
      "execution_count": null,
      "outputs": [
        {
          "output_type": "execute_result",
          "data": {
            "text/html": [
              "<div>\n",
              "<style scoped>\n",
              "    .dataframe tbody tr th:only-of-type {\n",
              "        vertical-align: middle;\n",
              "    }\n",
              "\n",
              "    .dataframe tbody tr th {\n",
              "        vertical-align: top;\n",
              "    }\n",
              "\n",
              "    .dataframe thead th {\n",
              "        text-align: right;\n",
              "    }\n",
              "</style>\n",
              "<table border=\"1\" class=\"dataframe\">\n",
              "  <thead>\n",
              "    <tr style=\"text-align: right;\">\n",
              "      <th></th>\n",
              "      <th>Order ID</th>\n",
              "      <th>Product</th>\n",
              "      <th>Quantity Ordered</th>\n",
              "      <th>Price Each</th>\n",
              "      <th>Order Date</th>\n",
              "      <th>Purchase Address</th>\n",
              "    </tr>\n",
              "  </thead>\n",
              "  <tbody>\n",
              "    <tr>\n",
              "      <th>3</th>\n",
              "      <td>176560</td>\n",
              "      <td>Google Phone</td>\n",
              "      <td>1</td>\n",
              "      <td>600</td>\n",
              "      <td>04/12/19 14:38</td>\n",
              "      <td>669 Spruce St, Los Angeles, CA 90001</td>\n",
              "    </tr>\n",
              "    <tr>\n",
              "      <th>4</th>\n",
              "      <td>176560</td>\n",
              "      <td>Wired Headphones</td>\n",
              "      <td>1</td>\n",
              "      <td>11.99</td>\n",
              "      <td>04/12/19 14:38</td>\n",
              "      <td>669 Spruce St, Los Angeles, CA 90001</td>\n",
              "    </tr>\n",
              "    <tr>\n",
              "      <th>18</th>\n",
              "      <td>176574</td>\n",
              "      <td>Google Phone</td>\n",
              "      <td>1</td>\n",
              "      <td>600</td>\n",
              "      <td>04/03/19 19:42</td>\n",
              "      <td>20 Hill St, Los Angeles, CA 90001</td>\n",
              "    </tr>\n",
              "    <tr>\n",
              "      <th>19</th>\n",
              "      <td>176574</td>\n",
              "      <td>USB-C Charging Cable</td>\n",
              "      <td>1</td>\n",
              "      <td>11.95</td>\n",
              "      <td>04/03/19 19:42</td>\n",
              "      <td>20 Hill St, Los Angeles, CA 90001</td>\n",
              "    </tr>\n",
              "    <tr>\n",
              "      <th>30</th>\n",
              "      <td>176585</td>\n",
              "      <td>Bose SoundSport Headphones</td>\n",
              "      <td>1</td>\n",
              "      <td>99.99</td>\n",
              "      <td>04/07/19 11:31</td>\n",
              "      <td>823 Highland St, Boston, MA 02215</td>\n",
              "    </tr>\n",
              "    <tr>\n",
              "      <th>...</th>\n",
              "      <td>...</td>\n",
              "      <td>...</td>\n",
              "      <td>...</td>\n",
              "      <td>...</td>\n",
              "      <td>...</td>\n",
              "      <td>...</td>\n",
              "    </tr>\n",
              "    <tr>\n",
              "      <th>186792</th>\n",
              "      <td>259303</td>\n",
              "      <td>AA Batteries (4-pack)</td>\n",
              "      <td>1</td>\n",
              "      <td>3.84</td>\n",
              "      <td>09/20/19 20:18</td>\n",
              "      <td>106 7th St, Atlanta, GA 30301</td>\n",
              "    </tr>\n",
              "    <tr>\n",
              "      <th>186803</th>\n",
              "      <td>259314</td>\n",
              "      <td>Wired Headphones</td>\n",
              "      <td>1</td>\n",
              "      <td>11.99</td>\n",
              "      <td>09/16/19 00:25</td>\n",
              "      <td>241 Highland St, Atlanta, GA 30301</td>\n",
              "    </tr>\n",
              "    <tr>\n",
              "      <th>186804</th>\n",
              "      <td>259314</td>\n",
              "      <td>AAA Batteries (4-pack)</td>\n",
              "      <td>2</td>\n",
              "      <td>2.99</td>\n",
              "      <td>09/16/19 00:25</td>\n",
              "      <td>241 Highland St, Atlanta, GA 30301</td>\n",
              "    </tr>\n",
              "    <tr>\n",
              "      <th>186841</th>\n",
              "      <td>259350</td>\n",
              "      <td>Google Phone</td>\n",
              "      <td>1</td>\n",
              "      <td>600</td>\n",
              "      <td>09/30/19 13:49</td>\n",
              "      <td>519 Maple St, San Francisco, CA 94016</td>\n",
              "    </tr>\n",
              "    <tr>\n",
              "      <th>186842</th>\n",
              "      <td>259350</td>\n",
              "      <td>USB-C Charging Cable</td>\n",
              "      <td>1</td>\n",
              "      <td>11.95</td>\n",
              "      <td>09/30/19 13:49</td>\n",
              "      <td>519 Maple St, San Francisco, CA 94016</td>\n",
              "    </tr>\n",
              "  </tbody>\n",
              "</table>\n",
              "<p>14649 rows × 6 columns</p>\n",
              "</div>"
            ],
            "text/plain": [
              "       Order ID  ...                       Purchase Address\n",
              "3        176560  ...   669 Spruce St, Los Angeles, CA 90001\n",
              "4        176560  ...   669 Spruce St, Los Angeles, CA 90001\n",
              "18       176574  ...      20 Hill St, Los Angeles, CA 90001\n",
              "19       176574  ...      20 Hill St, Los Angeles, CA 90001\n",
              "30       176585  ...      823 Highland St, Boston, MA 02215\n",
              "...         ...  ...                                    ...\n",
              "186792   259303  ...          106 7th St, Atlanta, GA 30301\n",
              "186803   259314  ...     241 Highland St, Atlanta, GA 30301\n",
              "186804   259314  ...     241 Highland St, Atlanta, GA 30301\n",
              "186841   259350  ...  519 Maple St, San Francisco, CA 94016\n",
              "186842   259350  ...  519 Maple St, San Francisco, CA 94016\n",
              "\n",
              "[14649 rows x 6 columns]"
            ]
          },
          "metadata": {
            "tags": []
          },
          "execution_count": 84
        }
      ]
    },
    {
      "cell_type": "markdown",
      "metadata": {
        "id": "fciYLbC6O0w0"
      },
      "source": [
        "#Feature Engineering"
      ]
    },
    {
      "cell_type": "code",
      "metadata": {
        "colab": {
          "base_uri": "https://localhost:8080/",
          "height": 343
        },
        "id": "mAfb6Zyc02bJ",
        "outputId": "ec6e67e8-1e33-4458-d7f7-74bc7e251709"
      },
      "source": [
        "#extract city from address\r\n",
        "def get_city(address):\r\n",
        "  return address.split(\",\")[1].strip(\" \")\r\n",
        "\r\n",
        "df['city'] = df['Purchase Address'].apply(get_city)\r\n",
        "df.head(10)"
      ],
      "execution_count": null,
      "outputs": [
        {
          "output_type": "execute_result",
          "data": {
            "text/html": [
              "<div>\n",
              "<style scoped>\n",
              "    .dataframe tbody tr th:only-of-type {\n",
              "        vertical-align: middle;\n",
              "    }\n",
              "\n",
              "    .dataframe tbody tr th {\n",
              "        vertical-align: top;\n",
              "    }\n",
              "\n",
              "    .dataframe thead th {\n",
              "        text-align: right;\n",
              "    }\n",
              "</style>\n",
              "<table border=\"1\" class=\"dataframe\">\n",
              "  <thead>\n",
              "    <tr style=\"text-align: right;\">\n",
              "      <th></th>\n",
              "      <th>Order ID</th>\n",
              "      <th>Product</th>\n",
              "      <th>Quantity Ordered</th>\n",
              "      <th>Price Each</th>\n",
              "      <th>Order Date</th>\n",
              "      <th>Purchase Address</th>\n",
              "      <th>city</th>\n",
              "    </tr>\n",
              "  </thead>\n",
              "  <tbody>\n",
              "    <tr>\n",
              "      <th>3</th>\n",
              "      <td>176560</td>\n",
              "      <td>Google Phone</td>\n",
              "      <td>1</td>\n",
              "      <td>600</td>\n",
              "      <td>04/12/19 14:38</td>\n",
              "      <td>669 Spruce St, Los Angeles, CA 90001</td>\n",
              "      <td>Los Angeles</td>\n",
              "    </tr>\n",
              "    <tr>\n",
              "      <th>4</th>\n",
              "      <td>176560</td>\n",
              "      <td>Wired Headphones</td>\n",
              "      <td>1</td>\n",
              "      <td>11.99</td>\n",
              "      <td>04/12/19 14:38</td>\n",
              "      <td>669 Spruce St, Los Angeles, CA 90001</td>\n",
              "      <td>Los Angeles</td>\n",
              "    </tr>\n",
              "    <tr>\n",
              "      <th>18</th>\n",
              "      <td>176574</td>\n",
              "      <td>Google Phone</td>\n",
              "      <td>1</td>\n",
              "      <td>600</td>\n",
              "      <td>04/03/19 19:42</td>\n",
              "      <td>20 Hill St, Los Angeles, CA 90001</td>\n",
              "      <td>Los Angeles</td>\n",
              "    </tr>\n",
              "    <tr>\n",
              "      <th>19</th>\n",
              "      <td>176574</td>\n",
              "      <td>USB-C Charging Cable</td>\n",
              "      <td>1</td>\n",
              "      <td>11.95</td>\n",
              "      <td>04/03/19 19:42</td>\n",
              "      <td>20 Hill St, Los Angeles, CA 90001</td>\n",
              "      <td>Los Angeles</td>\n",
              "    </tr>\n",
              "    <tr>\n",
              "      <th>30</th>\n",
              "      <td>176585</td>\n",
              "      <td>Bose SoundSport Headphones</td>\n",
              "      <td>1</td>\n",
              "      <td>99.99</td>\n",
              "      <td>04/07/19 11:31</td>\n",
              "      <td>823 Highland St, Boston, MA 02215</td>\n",
              "      <td>Boston</td>\n",
              "    </tr>\n",
              "    <tr>\n",
              "      <th>31</th>\n",
              "      <td>176585</td>\n",
              "      <td>Bose SoundSport Headphones</td>\n",
              "      <td>1</td>\n",
              "      <td>99.99</td>\n",
              "      <td>04/07/19 11:31</td>\n",
              "      <td>823 Highland St, Boston, MA 02215</td>\n",
              "      <td>Boston</td>\n",
              "    </tr>\n",
              "    <tr>\n",
              "      <th>32</th>\n",
              "      <td>176586</td>\n",
              "      <td>AAA Batteries (4-pack)</td>\n",
              "      <td>2</td>\n",
              "      <td>2.99</td>\n",
              "      <td>04/10/19 17:00</td>\n",
              "      <td>365 Center St, San Francisco, CA 94016</td>\n",
              "      <td>San Francisco</td>\n",
              "    </tr>\n",
              "    <tr>\n",
              "      <th>33</th>\n",
              "      <td>176586</td>\n",
              "      <td>Google Phone</td>\n",
              "      <td>1</td>\n",
              "      <td>600</td>\n",
              "      <td>04/10/19 17:00</td>\n",
              "      <td>365 Center St, San Francisco, CA 94016</td>\n",
              "      <td>San Francisco</td>\n",
              "    </tr>\n",
              "    <tr>\n",
              "      <th>119</th>\n",
              "      <td>176672</td>\n",
              "      <td>Lightning Charging Cable</td>\n",
              "      <td>1</td>\n",
              "      <td>14.95</td>\n",
              "      <td>04/12/19 11:07</td>\n",
              "      <td>778 Maple St, New York City, NY 10001</td>\n",
              "      <td>New York City</td>\n",
              "    </tr>\n",
              "    <tr>\n",
              "      <th>120</th>\n",
              "      <td>176672</td>\n",
              "      <td>USB-C Charging Cable</td>\n",
              "      <td>1</td>\n",
              "      <td>11.95</td>\n",
              "      <td>04/12/19 11:07</td>\n",
              "      <td>778 Maple St, New York City, NY 10001</td>\n",
              "      <td>New York City</td>\n",
              "    </tr>\n",
              "  </tbody>\n",
              "</table>\n",
              "</div>"
            ],
            "text/plain": [
              "    Order ID  ...           city\n",
              "3     176560  ...    Los Angeles\n",
              "4     176560  ...    Los Angeles\n",
              "18    176574  ...    Los Angeles\n",
              "19    176574  ...    Los Angeles\n",
              "30    176585  ...         Boston\n",
              "31    176585  ...         Boston\n",
              "32    176586  ...  San Francisco\n",
              "33    176586  ...  San Francisco\n",
              "119   176672  ...  New York City\n",
              "120   176672  ...  New York City\n",
              "\n",
              "[10 rows x 7 columns]"
            ]
          },
          "metadata": {
            "tags": []
          },
          "execution_count": 88
        }
      ]
    },
    {
      "cell_type": "code",
      "metadata": {
        "colab": {
          "base_uri": "https://localhost:8080/"
        },
        "id": "ewl6anu_1ki8",
        "outputId": "cc5ae32c-6e3e-4581-956b-b1a64196bfe6"
      },
      "source": [
        "#select data for San Francisco only\r\n",
        "df = df[df['city']=='San Francisco']\r\n",
        "print(f\"Number of orders with more than 1 product purchase in San Francisco are {df['city'].count()}\")"
      ],
      "execution_count": null,
      "outputs": [
        {
          "output_type": "stream",
          "text": [
            "Number of orders with more than 1 product purchase in San Francisco are 3562\n"
          ],
          "name": "stdout"
        }
      ]
    },
    {
      "cell_type": "code",
      "metadata": {
        "id": "egzFVA9hJ-H9"
      },
      "source": [
        "#Use the apply function to merge products in same order id.\n",
        "#refer session notebook or the below link\n",
        "#https://stackoverflow.com/questions/27298178/concatenate-strings-from-several-rows-using-pandas-groupby"
      ],
      "execution_count": null,
      "outputs": []
    },
    {
      "cell_type": "code",
      "metadata": {
        "id": "_C8spn6kmRvl",
        "colab": {
          "base_uri": "https://localhost:8080/",
          "height": 195
        },
        "outputId": "278fc7f6-6f82-4cd8-9dc0-4a25e92e4c17"
      },
      "source": [
        "#Task 1\r\n",
        "#Merge products with same order id\r\n",
        "'''\r\n",
        "After merger, products in same order id should be merged into 1 string\r\n",
        "eg: Google Phone, Wired Headphones\r\n",
        "'''\r\n",
        "\r\n",
        "df = df.groupby(['Order ID'])['Product'].apply(lambda x: ','.join(x)).reset_index()\r\n",
        "df.head()"
      ],
      "execution_count": null,
      "outputs": [
        {
          "output_type": "execute_result",
          "data": {
            "text/html": [
              "<div>\n",
              "<style scoped>\n",
              "    .dataframe tbody tr th:only-of-type {\n",
              "        vertical-align: middle;\n",
              "    }\n",
              "\n",
              "    .dataframe tbody tr th {\n",
              "        vertical-align: top;\n",
              "    }\n",
              "\n",
              "    .dataframe thead th {\n",
              "        text-align: right;\n",
              "    }\n",
              "</style>\n",
              "<table border=\"1\" class=\"dataframe\">\n",
              "  <thead>\n",
              "    <tr style=\"text-align: right;\">\n",
              "      <th></th>\n",
              "      <th>Order ID</th>\n",
              "      <th>Product</th>\n",
              "    </tr>\n",
              "  </thead>\n",
              "  <tbody>\n",
              "    <tr>\n",
              "      <th>0</th>\n",
              "      <td>141450</td>\n",
              "      <td>Google Phone,Bose SoundSport Headphones</td>\n",
              "    </tr>\n",
              "    <tr>\n",
              "      <th>1</th>\n",
              "      <td>141782</td>\n",
              "      <td>27in FHD Monitor,Bose SoundSport Headphones</td>\n",
              "    </tr>\n",
              "    <tr>\n",
              "      <th>2</th>\n",
              "      <td>141795</td>\n",
              "      <td>iPhone,Wired Headphones</td>\n",
              "    </tr>\n",
              "    <tr>\n",
              "      <th>3</th>\n",
              "      <td>141843</td>\n",
              "      <td>AA Batteries (4-pack),AAA Batteries (4-pack)</td>\n",
              "    </tr>\n",
              "    <tr>\n",
              "      <th>4</th>\n",
              "      <td>141946</td>\n",
              "      <td>USB-C Charging Cable,Wired Headphones</td>\n",
              "    </tr>\n",
              "  </tbody>\n",
              "</table>\n",
              "</div>"
            ],
            "text/plain": [
              "  Order ID                                       Product\n",
              "0   141450       Google Phone,Bose SoundSport Headphones\n",
              "1   141782   27in FHD Monitor,Bose SoundSport Headphones\n",
              "2   141795                       iPhone,Wired Headphones\n",
              "3   141843  AA Batteries (4-pack),AAA Batteries (4-pack)\n",
              "4   141946         USB-C Charging Cable,Wired Headphones"
            ]
          },
          "metadata": {
            "tags": []
          },
          "execution_count": 100
        }
      ]
    },
    {
      "cell_type": "markdown",
      "metadata": {
        "id": "GJ5vHkldO441"
      },
      "source": [
        "#Recommendation"
      ]
    },
    {
      "cell_type": "code",
      "metadata": {
        "colab": {
          "base_uri": "https://localhost:8080/"
        },
        "id": "ciGCizP-3TOa",
        "outputId": "20e1d5bc-5ad9-4282-f9eb-6ef12f7c57d0"
      },
      "source": [
        "#Task 2\r\n",
        "#Make recommendation\r\n",
        "'''\r\n",
        "Make simple recommendation, just based on count of combinations from previous purchase history.\r\n",
        "eg: \r\n",
        "google phone, wired headphones 5 times\r\n",
        "google phone, usb type c 10 times\r\n",
        "so recommend usb type c cable if customer has google phone in their cart\r\n",
        "'''\r\n",
        "combinations = {}\r\n",
        "for _ in df['Product']:\r\n",
        "  p = _.split(',')\r\n",
        "  p.sort()\r\n",
        "  for i in range(len(p)):\r\n",
        "    for j in range(i+1,len(p)):\r\n",
        "      if (p[i],p[j]) in combinations:\r\n",
        "        combinations[(p[i],p[j])] +=1\r\n",
        "      else:\r\n",
        "        combinations[(p[i],p[j])]=1\r\n",
        "\r\n",
        "print(combinations)"
      ],
      "execution_count": null,
      "outputs": [
        {
          "output_type": "stream",
          "text": [
            "{('Bose SoundSport Headphones', 'Google Phone'): 52, ('27in FHD Monitor', 'Bose SoundSport Headphones'): 11, ('Wired Headphones', 'iPhone'): 119, ('AA Batteries (4-pack)', 'AAA Batteries (4-pack)'): 17, ('USB-C Charging Cable', 'Wired Headphones'): 60, ('Bose SoundSport Headphones', 'Lightning Charging Cable'): 22, ('Google Phone', 'iPhone'): 2, ('20in Monitor', 'Wired Headphones'): 3, ('Apple Airpods Headphones', 'USB-C Charging Cable'): 13, ('Google Phone', 'USB-C Charging Cable'): 245, ('Google Phone', 'Wired Headphones'): 93, ('USB-C Charging Cable', 'Vareebadd Phone'): 91, ('Lightning Charging Cable', 'USB-C Charging Cable'): 18, ('AA Batteries (4-pack)', 'Macbook Pro Laptop'): 5, ('Lightning Charging Cable', 'iPhone'): 254, ('Apple Airpods Headphones', 'Lightning Charging Cable'): 26, ('Apple Airpods Headphones', 'iPhone'): 96, ('Apple Airpods Headphones', 'Bose SoundSport Headphones'): 14, ('Lightning Charging Cable', 'Wired Headphones'): 39, ('34in Ultrawide Monitor', 'Lightning Charging Cable'): 5, ('AAA Batteries (4-pack)', 'Flatscreen TV'): 6, ('27in FHD Monitor', 'USB-C Charging Cable'): 13, ('20in Monitor', 'USB-C Charging Cable'): 8, ('27in 4K Gaming Monitor', 'iPhone'): 4, ('Bose SoundSport Headphones', 'Wired Headphones'): 20, ('Lightning Charging Cable', 'Lightning Charging Cable'): 18, ('AAA Batteries (4-pack)', 'Vareebadd Phone'): 2, ('AAA Batteries (4-pack)', 'Wired Headphones'): 19, ('Vareebadd Phone', 'Wired Headphones'): 44, ('27in 4K Gaming Monitor', 'AA Batteries (4-pack)'): 4, ('AA Batteries (4-pack)', 'LG Dryer'): 1, ('AAA Batteries (4-pack)', 'Bose SoundSport Headphones'): 13, ('27in 4K Gaming Monitor', '27in FHD Monitor'): 3, ('34in Ultrawide Monitor', 'AA Batteries (4-pack)'): 11, ('27in FHD Monitor', 'AAA Batteries (4-pack)'): 11, ('Apple Airpods Headphones', 'Wired Headphones'): 25, ('Google Phone', 'Lightning Charging Cable'): 9, ('27in 4K Gaming Monitor', 'USB-C Charging Cable'): 6, ('AAA Batteries (4-pack)', 'USB-C Charging Cable'): 21, ('AA Batteries (4-pack)', 'Google Phone'): 6, ('AA Batteries (4-pack)', 'Apple Airpods Headphones'): 13, ('Flatscreen TV', 'Lightning Charging Cable'): 4, ('27in FHD Monitor', 'Wired Headphones'): 6, ('Wired Headphones', 'Wired Headphones'): 10, ('Apple Airpods Headphones', 'Google Phone'): 8, ('Flatscreen TV', 'Google Phone'): 4, ('Macbook Pro Laptop', 'iPhone'): 2, ('AAA Batteries (4-pack)', 'Apple Airpods Headphones'): 17, ('AAA Batteries (4-pack)', 'Lightning Charging Cable'): 18, ('USB-C Charging Cable', 'USB-C Charging Cable'): 13, ('27in FHD Monitor', 'Apple Airpods Headphones'): 4, ('27in 4K Gaming Monitor', 'Macbook Pro Laptop'): 5, ('AAA Batteries (4-pack)', 'AAA Batteries (4-pack)'): 9, ('34in Ultrawide Monitor', 'AAA Batteries (4-pack)'): 6, ('Bose SoundSport Headphones', 'USB-C Charging Cable'): 22, ('27in FHD Monitor', 'Macbook Pro Laptop'): 2, ('27in 4K Gaming Monitor', 'Bose SoundSport Headphones'): 5, ('Macbook Pro Laptop', 'USB-C Charging Cable'): 5, ('AA Batteries (4-pack)', 'USB-C Charging Cable'): 25, ('USB-C Charging Cable', 'iPhone'): 7, ('AAA Batteries (4-pack)', 'Macbook Pro Laptop'): 5, ('Lightning Charging Cable', 'ThinkPad Laptop'): 7, ('20in Monitor', '27in FHD Monitor'): 1, ('AA Batteries (4-pack)', 'AA Batteries (4-pack)'): 9, ('AA Batteries (4-pack)', 'ThinkPad Laptop'): 3, ('ThinkPad Laptop', 'iPhone'): 1, ('Apple Airpods Headphones', 'Apple Airpods Headphones'): 4, ('LG Washing Machine', 'Lightning Charging Cable'): 4, ('AAA Batteries (4-pack)', 'Google Phone'): 5, ('27in 4K Gaming Monitor', 'Lightning Charging Cable'): 8, ('ThinkPad Laptop', 'Wired Headphones'): 4, ('Apple Airpods Headphones', 'Macbook Pro Laptop'): 7, ('27in FHD Monitor', '34in Ultrawide Monitor'): 2, ('27in 4K Gaming Monitor', 'Vareebadd Phone'): 1, ('Bose SoundSport Headphones', 'Bose SoundSport Headphones'): 5, ('20in Monitor', 'Apple Airpods Headphones'): 2, ('Bose SoundSport Headphones', 'Flatscreen TV'): 4, ('Lightning Charging Cable', 'Macbook Pro Laptop'): 3, ('34in Ultrawide Monitor', '34in Ultrawide Monitor'): 3, ('AA Batteries (4-pack)', 'Wired Headphones'): 26, ('34in Ultrawide Monitor', 'Bose SoundSport Headphones'): 8, ('AAA Batteries (4-pack)', 'iPhone'): 7, ('ThinkPad Laptop', 'Vareebadd Phone'): 1, ('20in Monitor', 'Bose SoundSport Headphones'): 5, ('34in Ultrawide Monitor', 'Apple Airpods Headphones'): 3, ('27in FHD Monitor', 'Flatscreen TV'): 2, ('AAA Batteries (4-pack)', 'ThinkPad Laptop'): 6, ('AA Batteries (4-pack)', 'Bose SoundSport Headphones'): 18, ('Flatscreen TV', 'Wired Headphones'): 1, ('34in Ultrawide Monitor', 'Macbook Pro Laptop'): 2, ('34in Ultrawide Monitor', 'Wired Headphones'): 9, ('Bose SoundSport Headphones', 'ThinkPad Laptop'): 4, ('20in Monitor', 'Macbook Pro Laptop'): 1, ('AA Batteries (4-pack)', 'Lightning Charging Cable'): 26, ('Bose SoundSport Headphones', 'Vareebadd Phone'): 21, ('34in Ultrawide Monitor', 'Vareebadd Phone'): 1, ('AA Batteries (4-pack)', 'Vareebadd Phone'): 2, ('Apple Airpods Headphones', 'ThinkPad Laptop'): 4, ('27in FHD Monitor', 'Google Phone'): 3, ('34in Ultrawide Monitor', 'USB-C Charging Cable'): 5, ('27in 4K Gaming Monitor', '34in Ultrawide Monitor'): 1, ('34in Ultrawide Monitor', 'Google Phone'): 2, ('AA Batteries (4-pack)', 'iPhone'): 8, ('27in 4K Gaming Monitor', 'Apple Airpods Headphones'): 4, ('27in 4K Gaming Monitor', 'AAA Batteries (4-pack)'): 5, ('Apple Airpods Headphones', 'Flatscreen TV'): 2, ('Bose SoundSport Headphones', 'iPhone'): 4, ('Flatscreen TV', 'iPhone'): 4, ('Bose SoundSport Headphones', 'Macbook Pro Laptop'): 4, ('AA Batteries (4-pack)', 'Flatscreen TV'): 3, ('27in FHD Monitor', 'AA Batteries (4-pack)'): 5, ('Flatscreen TV', 'USB-C Charging Cable'): 3, ('20in Monitor', 'AA Batteries (4-pack)'): 1, ('Macbook Pro Laptop', 'Macbook Pro Laptop'): 1, ('27in FHD Monitor', 'Lightning Charging Cable'): 6, ('Apple Airpods Headphones', 'Vareebadd Phone'): 3, ('34in Ultrawide Monitor', 'LG Washing Machine'): 1, ('iPhone', 'iPhone'): 1, ('34in Ultrawide Monitor', 'iPhone'): 1, ('27in 4K Gaming Monitor', 'Google Phone'): 2, ('Flatscreen TV', 'ThinkPad Laptop'): 1, ('20in Monitor', 'Lightning Charging Cable'): 5, ('Macbook Pro Laptop', 'Wired Headphones'): 4, ('20in Monitor', '34in Ultrawide Monitor'): 2, ('Google Phone', 'Google Phone'): 1, ('ThinkPad Laptop', 'USB-C Charging Cable'): 6, ('27in FHD Monitor', '27in FHD Monitor'): 4, ('Flatscreen TV', 'Vareebadd Phone'): 2, ('34in Ultrawide Monitor', 'Flatscreen TV'): 1, ('27in 4K Gaming Monitor', 'Flatscreen TV'): 1, ('AAA Batteries (4-pack)', 'LG Dryer'): 1, ('LG Washing Machine', 'iPhone'): 1, ('20in Monitor', 'AAA Batteries (4-pack)'): 3, ('27in 4K Gaming Monitor', '27in 4K Gaming Monitor'): 2, ('27in 4K Gaming Monitor', 'Wired Headphones'): 3, ('Apple Airpods Headphones', 'LG Dryer'): 1, ('Flatscreen TV', 'Flatscreen TV'): 1, ('Google Phone', 'Macbook Pro Laptop'): 1, ('LG Washing Machine', 'Wired Headphones'): 1}\n"
          ],
          "name": "stdout"
        }
      ]
    },
    {
      "cell_type": "code",
      "metadata": {
        "colab": {
          "base_uri": "https://localhost:8080/"
        },
        "id": "gYaEjSIt-AIL",
        "outputId": "c3215030-c3bf-433d-eb40-53433537fdd4"
      },
      "source": [
        "#Make list out of dictionary\r\n",
        "comb_list = list(combinations.items())\r\n",
        "print(comb_list)"
      ],
      "execution_count": null,
      "outputs": [
        {
          "output_type": "stream",
          "text": [
            "[(('Bose SoundSport Headphones', 'Google Phone'), 52), (('27in FHD Monitor', 'Bose SoundSport Headphones'), 11), (('Wired Headphones', 'iPhone'), 119), (('AA Batteries (4-pack)', 'AAA Batteries (4-pack)'), 17), (('USB-C Charging Cable', 'Wired Headphones'), 60), (('Bose SoundSport Headphones', 'Lightning Charging Cable'), 22), (('Google Phone', 'iPhone'), 2), (('20in Monitor', 'Wired Headphones'), 3), (('Apple Airpods Headphones', 'USB-C Charging Cable'), 13), (('Google Phone', 'USB-C Charging Cable'), 245), (('Google Phone', 'Wired Headphones'), 93), (('USB-C Charging Cable', 'Vareebadd Phone'), 91), (('Lightning Charging Cable', 'USB-C Charging Cable'), 18), (('AA Batteries (4-pack)', 'Macbook Pro Laptop'), 5), (('Lightning Charging Cable', 'iPhone'), 254), (('Apple Airpods Headphones', 'Lightning Charging Cable'), 26), (('Apple Airpods Headphones', 'iPhone'), 96), (('Apple Airpods Headphones', 'Bose SoundSport Headphones'), 14), (('Lightning Charging Cable', 'Wired Headphones'), 39), (('34in Ultrawide Monitor', 'Lightning Charging Cable'), 5), (('AAA Batteries (4-pack)', 'Flatscreen TV'), 6), (('27in FHD Monitor', 'USB-C Charging Cable'), 13), (('20in Monitor', 'USB-C Charging Cable'), 8), (('27in 4K Gaming Monitor', 'iPhone'), 4), (('Bose SoundSport Headphones', 'Wired Headphones'), 20), (('Lightning Charging Cable', 'Lightning Charging Cable'), 18), (('AAA Batteries (4-pack)', 'Vareebadd Phone'), 2), (('AAA Batteries (4-pack)', 'Wired Headphones'), 19), (('Vareebadd Phone', 'Wired Headphones'), 44), (('27in 4K Gaming Monitor', 'AA Batteries (4-pack)'), 4), (('AA Batteries (4-pack)', 'LG Dryer'), 1), (('AAA Batteries (4-pack)', 'Bose SoundSport Headphones'), 13), (('27in 4K Gaming Monitor', '27in FHD Monitor'), 3), (('34in Ultrawide Monitor', 'AA Batteries (4-pack)'), 11), (('27in FHD Monitor', 'AAA Batteries (4-pack)'), 11), (('Apple Airpods Headphones', 'Wired Headphones'), 25), (('Google Phone', 'Lightning Charging Cable'), 9), (('27in 4K Gaming Monitor', 'USB-C Charging Cable'), 6), (('AAA Batteries (4-pack)', 'USB-C Charging Cable'), 21), (('AA Batteries (4-pack)', 'Google Phone'), 6), (('AA Batteries (4-pack)', 'Apple Airpods Headphones'), 13), (('Flatscreen TV', 'Lightning Charging Cable'), 4), (('27in FHD Monitor', 'Wired Headphones'), 6), (('Wired Headphones', 'Wired Headphones'), 10), (('Apple Airpods Headphones', 'Google Phone'), 8), (('Flatscreen TV', 'Google Phone'), 4), (('Macbook Pro Laptop', 'iPhone'), 2), (('AAA Batteries (4-pack)', 'Apple Airpods Headphones'), 17), (('AAA Batteries (4-pack)', 'Lightning Charging Cable'), 18), (('USB-C Charging Cable', 'USB-C Charging Cable'), 13), (('27in FHD Monitor', 'Apple Airpods Headphones'), 4), (('27in 4K Gaming Monitor', 'Macbook Pro Laptop'), 5), (('AAA Batteries (4-pack)', 'AAA Batteries (4-pack)'), 9), (('34in Ultrawide Monitor', 'AAA Batteries (4-pack)'), 6), (('Bose SoundSport Headphones', 'USB-C Charging Cable'), 22), (('27in FHD Monitor', 'Macbook Pro Laptop'), 2), (('27in 4K Gaming Monitor', 'Bose SoundSport Headphones'), 5), (('Macbook Pro Laptop', 'USB-C Charging Cable'), 5), (('AA Batteries (4-pack)', 'USB-C Charging Cable'), 25), (('USB-C Charging Cable', 'iPhone'), 7), (('AAA Batteries (4-pack)', 'Macbook Pro Laptop'), 5), (('Lightning Charging Cable', 'ThinkPad Laptop'), 7), (('20in Monitor', '27in FHD Monitor'), 1), (('AA Batteries (4-pack)', 'AA Batteries (4-pack)'), 9), (('AA Batteries (4-pack)', 'ThinkPad Laptop'), 3), (('ThinkPad Laptop', 'iPhone'), 1), (('Apple Airpods Headphones', 'Apple Airpods Headphones'), 4), (('LG Washing Machine', 'Lightning Charging Cable'), 4), (('AAA Batteries (4-pack)', 'Google Phone'), 5), (('27in 4K Gaming Monitor', 'Lightning Charging Cable'), 8), (('ThinkPad Laptop', 'Wired Headphones'), 4), (('Apple Airpods Headphones', 'Macbook Pro Laptop'), 7), (('27in FHD Monitor', '34in Ultrawide Monitor'), 2), (('27in 4K Gaming Monitor', 'Vareebadd Phone'), 1), (('Bose SoundSport Headphones', 'Bose SoundSport Headphones'), 5), (('20in Monitor', 'Apple Airpods Headphones'), 2), (('Bose SoundSport Headphones', 'Flatscreen TV'), 4), (('Lightning Charging Cable', 'Macbook Pro Laptop'), 3), (('34in Ultrawide Monitor', '34in Ultrawide Monitor'), 3), (('AA Batteries (4-pack)', 'Wired Headphones'), 26), (('34in Ultrawide Monitor', 'Bose SoundSport Headphones'), 8), (('AAA Batteries (4-pack)', 'iPhone'), 7), (('ThinkPad Laptop', 'Vareebadd Phone'), 1), (('20in Monitor', 'Bose SoundSport Headphones'), 5), (('34in Ultrawide Monitor', 'Apple Airpods Headphones'), 3), (('27in FHD Monitor', 'Flatscreen TV'), 2), (('AAA Batteries (4-pack)', 'ThinkPad Laptop'), 6), (('AA Batteries (4-pack)', 'Bose SoundSport Headphones'), 18), (('Flatscreen TV', 'Wired Headphones'), 1), (('34in Ultrawide Monitor', 'Macbook Pro Laptop'), 2), (('34in Ultrawide Monitor', 'Wired Headphones'), 9), (('Bose SoundSport Headphones', 'ThinkPad Laptop'), 4), (('20in Monitor', 'Macbook Pro Laptop'), 1), (('AA Batteries (4-pack)', 'Lightning Charging Cable'), 26), (('Bose SoundSport Headphones', 'Vareebadd Phone'), 21), (('34in Ultrawide Monitor', 'Vareebadd Phone'), 1), (('AA Batteries (4-pack)', 'Vareebadd Phone'), 2), (('Apple Airpods Headphones', 'ThinkPad Laptop'), 4), (('27in FHD Monitor', 'Google Phone'), 3), (('34in Ultrawide Monitor', 'USB-C Charging Cable'), 5), (('27in 4K Gaming Monitor', '34in Ultrawide Monitor'), 1), (('34in Ultrawide Monitor', 'Google Phone'), 2), (('AA Batteries (4-pack)', 'iPhone'), 8), (('27in 4K Gaming Monitor', 'Apple Airpods Headphones'), 4), (('27in 4K Gaming Monitor', 'AAA Batteries (4-pack)'), 5), (('Apple Airpods Headphones', 'Flatscreen TV'), 2), (('Bose SoundSport Headphones', 'iPhone'), 4), (('Flatscreen TV', 'iPhone'), 4), (('Bose SoundSport Headphones', 'Macbook Pro Laptop'), 4), (('AA Batteries (4-pack)', 'Flatscreen TV'), 3), (('27in FHD Monitor', 'AA Batteries (4-pack)'), 5), (('Flatscreen TV', 'USB-C Charging Cable'), 3), (('20in Monitor', 'AA Batteries (4-pack)'), 1), (('Macbook Pro Laptop', 'Macbook Pro Laptop'), 1), (('27in FHD Monitor', 'Lightning Charging Cable'), 6), (('Apple Airpods Headphones', 'Vareebadd Phone'), 3), (('34in Ultrawide Monitor', 'LG Washing Machine'), 1), (('iPhone', 'iPhone'), 1), (('34in Ultrawide Monitor', 'iPhone'), 1), (('27in 4K Gaming Monitor', 'Google Phone'), 2), (('Flatscreen TV', 'ThinkPad Laptop'), 1), (('20in Monitor', 'Lightning Charging Cable'), 5), (('Macbook Pro Laptop', 'Wired Headphones'), 4), (('20in Monitor', '34in Ultrawide Monitor'), 2), (('Google Phone', 'Google Phone'), 1), (('ThinkPad Laptop', 'USB-C Charging Cable'), 6), (('27in FHD Monitor', '27in FHD Monitor'), 4), (('Flatscreen TV', 'Vareebadd Phone'), 2), (('34in Ultrawide Monitor', 'Flatscreen TV'), 1), (('27in 4K Gaming Monitor', 'Flatscreen TV'), 1), (('AAA Batteries (4-pack)', 'LG Dryer'), 1), (('LG Washing Machine', 'iPhone'), 1), (('20in Monitor', 'AAA Batteries (4-pack)'), 3), (('27in 4K Gaming Monitor', '27in 4K Gaming Monitor'), 2), (('27in 4K Gaming Monitor', 'Wired Headphones'), 3), (('Apple Airpods Headphones', 'LG Dryer'), 1), (('Flatscreen TV', 'Flatscreen TV'), 1), (('Google Phone', 'Macbook Pro Laptop'), 1), (('LG Washing Machine', 'Wired Headphones'), 1)]\n"
          ],
          "name": "stdout"
        }
      ]
    },
    {
      "cell_type": "code",
      "metadata": {
        "colab": {
          "base_uri": "https://localhost:8080/"
        },
        "id": "unvxVtmjAd86",
        "outputId": "3b0a48d3-5216-455a-c5d1-986538c4a344"
      },
      "source": [
        "#sort list based on the number of occurences/combination count\r\n",
        "comb_list = sorted(comb_list,key=lambda x:x[1],reverse=True)\r\n",
        "print(comb_list)"
      ],
      "execution_count": null,
      "outputs": [
        {
          "output_type": "stream",
          "text": [
            "[(('Lightning Charging Cable', 'iPhone'), 254), (('Google Phone', 'USB-C Charging Cable'), 245), (('Wired Headphones', 'iPhone'), 119), (('Apple Airpods Headphones', 'iPhone'), 96), (('Google Phone', 'Wired Headphones'), 93), (('USB-C Charging Cable', 'Vareebadd Phone'), 91), (('USB-C Charging Cable', 'Wired Headphones'), 60), (('Bose SoundSport Headphones', 'Google Phone'), 52), (('Vareebadd Phone', 'Wired Headphones'), 44), (('Lightning Charging Cable', 'Wired Headphones'), 39), (('Apple Airpods Headphones', 'Lightning Charging Cable'), 26), (('AA Batteries (4-pack)', 'Wired Headphones'), 26), (('AA Batteries (4-pack)', 'Lightning Charging Cable'), 26), (('Apple Airpods Headphones', 'Wired Headphones'), 25), (('AA Batteries (4-pack)', 'USB-C Charging Cable'), 25), (('Bose SoundSport Headphones', 'Lightning Charging Cable'), 22), (('Bose SoundSport Headphones', 'USB-C Charging Cable'), 22), (('AAA Batteries (4-pack)', 'USB-C Charging Cable'), 21), (('Bose SoundSport Headphones', 'Vareebadd Phone'), 21), (('Bose SoundSport Headphones', 'Wired Headphones'), 20), (('AAA Batteries (4-pack)', 'Wired Headphones'), 19), (('Lightning Charging Cable', 'USB-C Charging Cable'), 18), (('Lightning Charging Cable', 'Lightning Charging Cable'), 18), (('AAA Batteries (4-pack)', 'Lightning Charging Cable'), 18), (('AA Batteries (4-pack)', 'Bose SoundSport Headphones'), 18), (('AA Batteries (4-pack)', 'AAA Batteries (4-pack)'), 17), (('AAA Batteries (4-pack)', 'Apple Airpods Headphones'), 17), (('Apple Airpods Headphones', 'Bose SoundSport Headphones'), 14), (('Apple Airpods Headphones', 'USB-C Charging Cable'), 13), (('27in FHD Monitor', 'USB-C Charging Cable'), 13), (('AAA Batteries (4-pack)', 'Bose SoundSport Headphones'), 13), (('AA Batteries (4-pack)', 'Apple Airpods Headphones'), 13), (('USB-C Charging Cable', 'USB-C Charging Cable'), 13), (('27in FHD Monitor', 'Bose SoundSport Headphones'), 11), (('34in Ultrawide Monitor', 'AA Batteries (4-pack)'), 11), (('27in FHD Monitor', 'AAA Batteries (4-pack)'), 11), (('Wired Headphones', 'Wired Headphones'), 10), (('Google Phone', 'Lightning Charging Cable'), 9), (('AAA Batteries (4-pack)', 'AAA Batteries (4-pack)'), 9), (('AA Batteries (4-pack)', 'AA Batteries (4-pack)'), 9), (('34in Ultrawide Monitor', 'Wired Headphones'), 9), (('20in Monitor', 'USB-C Charging Cable'), 8), (('Apple Airpods Headphones', 'Google Phone'), 8), (('27in 4K Gaming Monitor', 'Lightning Charging Cable'), 8), (('34in Ultrawide Monitor', 'Bose SoundSport Headphones'), 8), (('AA Batteries (4-pack)', 'iPhone'), 8), (('USB-C Charging Cable', 'iPhone'), 7), (('Lightning Charging Cable', 'ThinkPad Laptop'), 7), (('Apple Airpods Headphones', 'Macbook Pro Laptop'), 7), (('AAA Batteries (4-pack)', 'iPhone'), 7), (('AAA Batteries (4-pack)', 'Flatscreen TV'), 6), (('27in 4K Gaming Monitor', 'USB-C Charging Cable'), 6), (('AA Batteries (4-pack)', 'Google Phone'), 6), (('27in FHD Monitor', 'Wired Headphones'), 6), (('34in Ultrawide Monitor', 'AAA Batteries (4-pack)'), 6), (('AAA Batteries (4-pack)', 'ThinkPad Laptop'), 6), (('27in FHD Monitor', 'Lightning Charging Cable'), 6), (('ThinkPad Laptop', 'USB-C Charging Cable'), 6), (('AA Batteries (4-pack)', 'Macbook Pro Laptop'), 5), (('34in Ultrawide Monitor', 'Lightning Charging Cable'), 5), (('27in 4K Gaming Monitor', 'Macbook Pro Laptop'), 5), (('27in 4K Gaming Monitor', 'Bose SoundSport Headphones'), 5), (('Macbook Pro Laptop', 'USB-C Charging Cable'), 5), (('AAA Batteries (4-pack)', 'Macbook Pro Laptop'), 5), (('AAA Batteries (4-pack)', 'Google Phone'), 5), (('Bose SoundSport Headphones', 'Bose SoundSport Headphones'), 5), (('20in Monitor', 'Bose SoundSport Headphones'), 5), (('34in Ultrawide Monitor', 'USB-C Charging Cable'), 5), (('27in 4K Gaming Monitor', 'AAA Batteries (4-pack)'), 5), (('27in FHD Monitor', 'AA Batteries (4-pack)'), 5), (('20in Monitor', 'Lightning Charging Cable'), 5), (('27in 4K Gaming Monitor', 'iPhone'), 4), (('27in 4K Gaming Monitor', 'AA Batteries (4-pack)'), 4), (('Flatscreen TV', 'Lightning Charging Cable'), 4), (('Flatscreen TV', 'Google Phone'), 4), (('27in FHD Monitor', 'Apple Airpods Headphones'), 4), (('Apple Airpods Headphones', 'Apple Airpods Headphones'), 4), (('LG Washing Machine', 'Lightning Charging Cable'), 4), (('ThinkPad Laptop', 'Wired Headphones'), 4), (('Bose SoundSport Headphones', 'Flatscreen TV'), 4), (('Bose SoundSport Headphones', 'ThinkPad Laptop'), 4), (('Apple Airpods Headphones', 'ThinkPad Laptop'), 4), (('27in 4K Gaming Monitor', 'Apple Airpods Headphones'), 4), (('Bose SoundSport Headphones', 'iPhone'), 4), (('Flatscreen TV', 'iPhone'), 4), (('Bose SoundSport Headphones', 'Macbook Pro Laptop'), 4), (('Macbook Pro Laptop', 'Wired Headphones'), 4), (('27in FHD Monitor', '27in FHD Monitor'), 4), (('20in Monitor', 'Wired Headphones'), 3), (('27in 4K Gaming Monitor', '27in FHD Monitor'), 3), (('AA Batteries (4-pack)', 'ThinkPad Laptop'), 3), (('Lightning Charging Cable', 'Macbook Pro Laptop'), 3), (('34in Ultrawide Monitor', '34in Ultrawide Monitor'), 3), (('34in Ultrawide Monitor', 'Apple Airpods Headphones'), 3), (('27in FHD Monitor', 'Google Phone'), 3), (('AA Batteries (4-pack)', 'Flatscreen TV'), 3), (('Flatscreen TV', 'USB-C Charging Cable'), 3), (('Apple Airpods Headphones', 'Vareebadd Phone'), 3), (('20in Monitor', 'AAA Batteries (4-pack)'), 3), (('27in 4K Gaming Monitor', 'Wired Headphones'), 3), (('Google Phone', 'iPhone'), 2), (('AAA Batteries (4-pack)', 'Vareebadd Phone'), 2), (('Macbook Pro Laptop', 'iPhone'), 2), (('27in FHD Monitor', 'Macbook Pro Laptop'), 2), (('27in FHD Monitor', '34in Ultrawide Monitor'), 2), (('20in Monitor', 'Apple Airpods Headphones'), 2), (('27in FHD Monitor', 'Flatscreen TV'), 2), (('34in Ultrawide Monitor', 'Macbook Pro Laptop'), 2), (('AA Batteries (4-pack)', 'Vareebadd Phone'), 2), (('34in Ultrawide Monitor', 'Google Phone'), 2), (('Apple Airpods Headphones', 'Flatscreen TV'), 2), (('27in 4K Gaming Monitor', 'Google Phone'), 2), (('20in Monitor', '34in Ultrawide Monitor'), 2), (('Flatscreen TV', 'Vareebadd Phone'), 2), (('27in 4K Gaming Monitor', '27in 4K Gaming Monitor'), 2), (('AA Batteries (4-pack)', 'LG Dryer'), 1), (('20in Monitor', '27in FHD Monitor'), 1), (('ThinkPad Laptop', 'iPhone'), 1), (('27in 4K Gaming Monitor', 'Vareebadd Phone'), 1), (('ThinkPad Laptop', 'Vareebadd Phone'), 1), (('Flatscreen TV', 'Wired Headphones'), 1), (('20in Monitor', 'Macbook Pro Laptop'), 1), (('34in Ultrawide Monitor', 'Vareebadd Phone'), 1), (('27in 4K Gaming Monitor', '34in Ultrawide Monitor'), 1), (('20in Monitor', 'AA Batteries (4-pack)'), 1), (('Macbook Pro Laptop', 'Macbook Pro Laptop'), 1), (('34in Ultrawide Monitor', 'LG Washing Machine'), 1), (('iPhone', 'iPhone'), 1), (('34in Ultrawide Monitor', 'iPhone'), 1), (('Flatscreen TV', 'ThinkPad Laptop'), 1), (('Google Phone', 'Google Phone'), 1), (('34in Ultrawide Monitor', 'Flatscreen TV'), 1), (('27in 4K Gaming Monitor', 'Flatscreen TV'), 1), (('AAA Batteries (4-pack)', 'LG Dryer'), 1), (('LG Washing Machine', 'iPhone'), 1), (('Apple Airpods Headphones', 'LG Dryer'), 1), (('Flatscreen TV', 'Flatscreen TV'), 1), (('Google Phone', 'Macbook Pro Laptop'), 1), (('LG Washing Machine', 'Wired Headphones'), 1)]\n"
          ],
          "name": "stdout"
        }
      ]
    },
    {
      "cell_type": "code",
      "metadata": {
        "id": "VpRndCLMnUIY",
        "colab": {
          "base_uri": "https://localhost:8080/"
        },
        "outputId": "94019aed-69d9-44ec-801c-ded01ed13107"
      },
      "source": [
        "def recommender(product):\r\n",
        "  '''\r\n",
        "  code for recommendation\r\n",
        "  Simple method: return any product that was purchased with the product in cart\r\n",
        "  better approach: return product with highest match count\r\n",
        "  '''\r\n",
        "  global comb_list\r\n",
        "  product = product.lower().strip() # clean,format the user input\r\n",
        "  for i in comb_list:\r\n",
        "    if i[0][0].lower() == product:\r\n",
        "      return i[0][1]\r\n",
        "    elif i[0][1].lower() == product:\r\n",
        "      return i[0][0]\r\n",
        "  return 'We are still upgrading our recommendation system!'\r\n",
        "\r\n",
        "product = 'google phone'\r\n",
        "print(recommender(product))"
      ],
      "execution_count": null,
      "outputs": [
        {
          "output_type": "stream",
          "text": [
            "USB-C Charging Cable\n"
          ],
          "name": "stdout"
        }
      ]
    },
    {
      "cell_type": "code",
      "metadata": {
        "id": "sLvZoMhvNIQA"
      },
      "source": [
        ""
      ],
      "execution_count": null,
      "outputs": []
    }
  ]
}