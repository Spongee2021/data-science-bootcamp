{
 "cells": [
  {
   "cell_type": "markdown",
   "metadata": {
    "id": "tHP0xB69HRtc"
   },
   "source": [
    "## <center>Pandas"
   ]
  },
  {
   "cell_type": "markdown",
   "metadata": {
    "id": "VxSYFe4RIz81"
   },
   "source": [
    "In Pandas there are two type of data structure.\n",
    "<br>\n",
    "1. Series: Is it 1-dimensional labeled array capable of holding data of any type (integer, string, float, python objects, e.t.c.) <br>It comes along with the index which is also called as axis. <br>Series contains homogenous data, meaning all the data inside the series 1-d array would be of same type.\n",
    "\n",
    "2. DataFrame: It is a collection of one or more series objects. <br> So dataframe can be heterogenous in nature, as different series could comprise of different dtype."
   ]
  },
  {
   "cell_type": "code",
   "execution_count": 1,
   "metadata": {
    "executionInfo": {
     "elapsed": 322,
     "status": "ok",
     "timestamp": 1615398143153,
     "user": {
      "displayName": "Vishnu Thakral",
      "photoUrl": "https://lh3.googleusercontent.com/a-/AOh14GgyAu0mm-tnCylneImfU3839AzfB7N174RUH66dRg=s64",
      "userId": "15080390568209116376"
     },
     "user_tz": 300
    },
    "id": "6BFrfvUq0vDp"
   },
   "outputs": [],
   "source": [
    "#importing pandas\n",
    "import pandas as pd"
   ]
  },
  {
   "cell_type": "code",
   "execution_count": 2,
   "metadata": {
    "colab": {
     "base_uri": "https://localhost:8080/",
     "height": 110,
     "resources": {
      "http://localhost:8080/nbextensions/google.colab/files.js": {
       "data": "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",
       "headers": [
        [
         "content-type",
         "application/javascript"
        ]
       ],
       "ok": true,
       "status": 200,
       "status_text": ""
      }
     }
    },
    "executionInfo": {
     "elapsed": 16671,
     "status": "ok",
     "timestamp": 1615398159531,
     "user": {
      "displayName": "Vishnu Thakral",
      "photoUrl": "https://lh3.googleusercontent.com/a-/AOh14GgyAu0mm-tnCylneImfU3839AzfB7N174RUH66dRg=s64",
      "userId": "15080390568209116376"
     },
     "user_tz": 300
    },
    "id": "6PWf5B49OWs7",
    "outputId": "bec7ec82-5eea-439c-a468-9082947012ab"
   },
   "outputs": [
    {
     "data": {
      "text/html": [
       "\n",
       "     <input type=\"file\" id=\"files-20577516-3ace-435d-8c48-6eb7f15b87bd\" name=\"files[]\" multiple disabled\n",
       "        style=\"border:none\" />\n",
       "     <output id=\"result-20577516-3ace-435d-8c48-6eb7f15b87bd\">\n",
       "      Upload widget is only available when the cell has been executed in the\n",
       "      current browser session. Please rerun this cell to enable.\n",
       "      </output>\n",
       "      <script src=\"/nbextensions/google.colab/files.js\"></script> "
      ],
      "text/plain": [
       "<IPython.core.display.HTML object>"
      ]
     },
     "metadata": {
      "tags": []
     },
     "output_type": "display_data"
    },
    {
     "name": "stdout",
     "output_type": "stream",
     "text": [
      "Saving pokemon_data.csv to pokemon_data.csv\n"
     ]
    },
    {
     "data": {
      "text/plain": [
       "{'pokemon_data.csv': b\"#,Name,Type 1,Type 2,HP,Attack,Defense,Sp. Atk,Sp. Def,Speed,Generation,Legendary\\r\\n1,Bulbasaur,Grass,Poison,45,49,49,65,65,45,1,FALSE\\r\\n2,Ivysaur,Grass,Poison,60,62,63,80,80,60,1,FALSE\\r\\n3,Venusaur,Grass,Poison,80,82,83,100,100,80,1,FALSE\\r\\n3,VenusaurMega Venusaur,Grass,Poison,80,100,123,122,120,80,1,FALSE\\r\\n4,Charmander,Fire,,39,52,43,60,50,65,1,FALSE\\r\\n5,Charmeleon,Fire,,58,64,58,80,65,80,1,FALSE\\r\\n6,Charizard,Fire,Flying,78,84,78,109,85,100,1,FALSE\\r\\n6,CharizardMega Charizard X,Fire,Dragon,78,130,111,130,85,100,1,FALSE\\r\\n6,CharizardMega Charizard Y,Fire,Flying,78,104,78,159,115,100,1,FALSE\\r\\n7,Squirtle,Water,,44,48,65,50,64,43,1,FALSE\\r\\n8,Wartortle,Water,,59,63,80,65,80,58,1,FALSE\\r\\n9,Blastoise,Water,,79,83,100,85,105,78,1,FALSE\\r\\n9,BlastoiseMega Blastoise,Water,,79,103,120,135,115,78,1,FALSE\\r\\n10,Caterpie,Bug,,45,30,35,20,20,45,1,FALSE\\r\\n11,Metapod,Bug,,50,20,55,25,25,30,1,FALSE\\r\\n12,Butterfree,Bug,Flying,60,45,50,90,80,70,1,FALSE\\r\\n13,Weedle,Bug,Poison,40,35,30,20,20,50,1,FALSE\\r\\n14,Kakuna,Bug,Poison,45,25,50,25,25,35,1,FALSE\\r\\n15,Beedrill,Bug,Poison,65,90,40,45,80,75,1,FALSE\\r\\n15,BeedrillMega Beedrill,Bug,Poison,65,150,40,15,80,145,1,FALSE\\r\\n16,Pidgey,Normal,Flying,40,45,40,35,35,56,1,FALSE\\r\\n17,Pidgeotto,Normal,Flying,63,60,55,50,50,71,1,FALSE\\r\\n18,Pidgeot,Normal,Flying,83,80,75,70,70,101,1,FALSE\\r\\n18,PidgeotMega Pidgeot,Normal,Flying,83,80,80,135,80,121,1,FALSE\\r\\n19,Rattata,Normal,,30,56,35,25,35,72,1,FALSE\\r\\n20,Raticate,Normal,,55,81,60,50,70,97,1,FALSE\\r\\n21,Spearow,Normal,Flying,40,60,30,31,31,70,1,FALSE\\r\\n22,Fearow,Normal,Flying,65,90,65,61,61,100,1,FALSE\\r\\n23,Ekans,Poison,,35,60,44,40,54,55,1,FALSE\\r\\n24,Arbok,Poison,,60,85,69,65,79,80,1,FALSE\\r\\n25,Pikachu,Electric,,35,55,40,50,50,90,1,FALSE\\r\\n26,Raichu,Electric,,60,90,55,90,80,110,1,FALSE\\r\\n27,Sandshrew,Ground,,50,75,85,20,30,40,1,FALSE\\r\\n28,Sandslash,Ground,,75,100,110,45,55,65,1,FALSE\\r\\n29,Nidoran (Female),Poison,,55,47,52,40,40,41,1,FALSE\\r\\n30,Nidorina,Poison,,70,62,67,55,55,56,1,FALSE\\r\\n31,Nidoqueen,Poison,Ground,90,92,87,75,85,76,1,FALSE\\r\\n32,Nidoran (Male),Poison,,46,57,40,40,40,50,1,FALSE\\r\\n33,Nidorino,Poison,,61,72,57,55,55,65,1,FALSE\\r\\n34,Nidoking,Poison,Ground,81,102,77,85,75,85,1,FALSE\\r\\n35,Clefairy,Fairy,,70,45,48,60,65,35,1,FALSE\\r\\n36,Clefable,Fairy,,95,70,73,95,90,60,1,FALSE\\r\\n37,Vulpix,Fire,,38,41,40,50,65,65,1,FALSE\\r\\n38,Ninetales,Fire,,73,76,75,81,100,100,1,FALSE\\r\\n39,Jigglypuff,Normal,Fairy,115,45,20,45,25,20,1,FALSE\\r\\n40,Wigglytuff,Normal,Fairy,140,70,45,85,50,45,1,FALSE\\r\\n41,Zubat,Poison,Flying,40,45,35,30,40,55,1,FALSE\\r\\n42,Golbat,Poison,Flying,75,80,70,65,75,90,1,FALSE\\r\\n43,Oddish,Grass,Poison,45,50,55,75,65,30,1,FALSE\\r\\n44,Gloom,Grass,Poison,60,65,70,85,75,40,1,FALSE\\r\\n45,Vileplume,Grass,Poison,75,80,85,110,90,50,1,FALSE\\r\\n46,Paras,Bug,Grass,35,70,55,45,55,25,1,FALSE\\r\\n47,Parasect,Bug,Grass,60,95,80,60,80,30,1,FALSE\\r\\n48,Venonat,Bug,Poison,60,55,50,40,55,45,1,FALSE\\r\\n49,Venomoth,Bug,Poison,70,65,60,90,75,90,1,FALSE\\r\\n50,Diglett,Ground,,10,55,25,35,45,95,1,FALSE\\r\\n51,Dugtrio,Ground,,35,80,50,50,70,120,1,FALSE\\r\\n52,Meowth,Normal,,40,45,35,40,40,90,1,FALSE\\r\\n53,Persian,Normal,,65,70,60,65,65,115,1,FALSE\\r\\n54,Psyduck,Water,,50,52,48,65,50,55,1,FALSE\\r\\n55,Golduck,Water,,80,82,78,95,80,85,1,FALSE\\r\\n56,Mankey,Fighting,,40,80,35,35,45,70,1,FALSE\\r\\n57,Primeape,Fighting,,65,105,60,60,70,95,1,FALSE\\r\\n58,Growlithe,Fire,,55,70,45,70,50,60,1,FALSE\\r\\n59,Arcanine,Fire,,90,110,80,100,80,95,1,FALSE\\r\\n60,Poliwag,Water,,40,50,40,40,40,90,1,FALSE\\r\\n61,Poliwhirl,Water,,65,65,65,50,50,90,1,FALSE\\r\\n62,Poliwrath,Water,Fighting,90,95,95,70,90,70,1,FALSE\\r\\n63,Abra,Psychic,,25,20,15,105,55,90,1,FALSE\\r\\n64,Kadabra,Psychic,,40,35,30,120,70,105,1,FALSE\\r\\n65,Alakazam,Psychic,,55,50,45,135,95,120,1,FALSE\\r\\n65,AlakazamMega Alakazam,Psychic,,55,50,65,175,95,150,1,FALSE\\r\\n66,Machop,Fighting,,70,80,50,35,35,35,1,FALSE\\r\\n67,Machoke,Fighting,,80,100,70,50,60,45,1,FALSE\\r\\n68,Machamp,Fighting,,90,130,80,65,85,55,1,FALSE\\r\\n69,Bellsprout,Grass,Poison,50,75,35,70,30,40,1,FALSE\\r\\n70,Weepinbell,Grass,Poison,65,90,50,85,45,55,1,FALSE\\r\\n71,Victreebel,Grass,Poison,80,105,65,100,70,70,1,FALSE\\r\\n72,Tentacool,Water,Poison,40,40,35,50,100,70,1,FALSE\\r\\n73,Tentacruel,Water,Poison,80,70,65,80,120,100,1,FALSE\\r\\n74,Geodude,Rock,Ground,40,80,100,30,30,20,1,FALSE\\r\\n75,Graveler,Rock,Ground,55,95,115,45,45,35,1,FALSE\\r\\n76,Golem,Rock,Ground,80,120,130,55,65,45,1,FALSE\\r\\n77,Ponyta,Fire,,50,85,55,65,65,90,1,FALSE\\r\\n78,Rapidash,Fire,,65,100,70,80,80,105,1,FALSE\\r\\n79,Slowpoke,Water,Psychic,90,65,65,40,40,15,1,FALSE\\r\\n80,Slowbro,Water,Psychic,95,75,110,100,80,30,1,FALSE\\r\\n80,SlowbroMega Slowbro,Water,Psychic,95,75,180,130,80,30,1,FALSE\\r\\n81,Magnemite,Electric,Steel,25,35,70,95,55,45,1,FALSE\\r\\n82,Magneton,Electric,Steel,50,60,95,120,70,70,1,FALSE\\r\\n83,Farfetch'd,Normal,Flying,52,65,55,58,62,60,1,FALSE\\r\\n84,Doduo,Normal,Flying,35,85,45,35,35,75,1,FALSE\\r\\n85,Dodrio,Normal,Flying,60,110,70,60,60,100,1,FALSE\\r\\n86,Seel,Water,,65,45,55,45,70,45,1,FALSE\\r\\n87,Dewgong,Water,Ice,90,70,80,70,95,70,1,FALSE\\r\\n88,Grimer,Poison,,80,80,50,40,50,25,1,FALSE\\r\\n89,Muk,Poison,,105,105,75,65,100,50,1,FALSE\\r\\n90,Shellder,Water,,30,65,100,45,25,40,1,FALSE\\r\\n91,Cloyster,Water,Ice,50,95,180,85,45,70,1,FALSE\\r\\n92,Gastly,Ghost,Poison,30,35,30,100,35,80,1,FALSE\\r\\n93,Haunter,Ghost,Poison,45,50,45,115,55,95,1,FALSE\\r\\n94,Gengar,Ghost,Poison,60,65,60,130,75,110,1,FALSE\\r\\n94,GengarMega Gengar,Ghost,Poison,60,65,80,170,95,130,1,FALSE\\r\\n95,Onix,Rock,Ground,35,45,160,30,45,70,1,FALSE\\r\\n96,Drowzee,Psychic,,60,48,45,43,90,42,1,FALSE\\r\\n97,Hypno,Psychic,,85,73,70,73,115,67,1,FALSE\\r\\n98,Krabby,Water,,30,105,90,25,25,50,1,FALSE\\r\\n99,Kingler,Water,,55,130,115,50,50,75,1,FALSE\\r\\n100,Voltorb,Electric,,40,30,50,55,55,100,1,FALSE\\r\\n101,Electrode,Electric,,60,50,70,80,80,140,1,FALSE\\r\\n102,Exeggcute,Grass,Psychic,60,40,80,60,45,40,1,FALSE\\r\\n103,Exeggutor,Grass,Psychic,95,95,85,125,65,55,1,FALSE\\r\\n104,Cubone,Ground,,50,50,95,40,50,35,1,FALSE\\r\\n105,Marowak,Ground,,60,80,110,50,80,45,1,FALSE\\r\\n106,Hitmonlee,Fighting,,50,120,53,35,110,87,1,FALSE\\r\\n107,Hitmonchan,Fighting,,50,105,79,35,110,76,1,FALSE\\r\\n108,Lickitung,Normal,,90,55,75,60,75,30,1,FALSE\\r\\n109,Koffing,Poison,,40,65,95,60,45,35,1,FALSE\\r\\n110,Weezing,Poison,,65,90,120,85,70,60,1,FALSE\\r\\n111,Rhyhorn,Ground,Rock,80,85,95,30,30,25,1,FALSE\\r\\n112,Rhydon,Ground,Rock,105,130,120,45,45,40,1,FALSE\\r\\n113,Chansey,Normal,,250,5,5,35,105,50,1,FALSE\\r\\n114,Tangela,Grass,,65,55,115,100,40,60,1,FALSE\\r\\n115,Kangaskhan,Normal,,105,95,80,40,80,90,1,FALSE\\r\\n115,KangaskhanMega Kangaskhan,Normal,,105,125,100,60,100,100,1,FALSE\\r\\n116,Horsea,Water,,30,40,70,70,25,60,1,FALSE\\r\\n117,Seadra,Water,,55,65,95,95,45,85,1,FALSE\\r\\n118,Goldeen,Water,,45,67,60,35,50,63,1,FALSE\\r\\n119,Seaking,Water,,80,92,65,65,80,68,1,FALSE\\r\\n120,Staryu,Water,,30,45,55,70,55,85,1,FALSE\\r\\n121,Starmie,Water,Psychic,60,75,85,100,85,115,1,FALSE\\r\\n122,Mr. Mime,Psychic,Fairy,40,45,65,100,120,90,1,FALSE\\r\\n123,Scyther,Bug,Flying,70,110,80,55,80,105,1,FALSE\\r\\n124,Jynx,Ice,Psychic,65,50,35,115,95,95,1,FALSE\\r\\n125,Electabuzz,Electric,,65,83,57,95,85,105,1,FALSE\\r\\n126,Magmar,Fire,,65,95,57,100,85,93,1,FALSE\\r\\n127,Pinsir,Bug,,65,125,100,55,70,85,1,FALSE\\r\\n127,PinsirMega Pinsir,Bug,Flying,65,155,120,65,90,105,1,FALSE\\r\\n128,Tauros,Normal,,75,100,95,40,70,110,1,FALSE\\r\\n129,Magikarp,Water,,20,10,55,15,20,80,1,FALSE\\r\\n130,Gyarados,Water,Flying,95,125,79,60,100,81,1,FALSE\\r\\n130,GyaradosMega Gyarados,Water,Dark,95,155,109,70,130,81,1,FALSE\\r\\n131,Lapras,Water,Ice,130,85,80,85,95,60,1,FALSE\\r\\n132,Ditto,Normal,,48,48,48,48,48,48,1,FALSE\\r\\n133,Eevee,Normal,,55,55,50,45,65,55,1,FALSE\\r\\n134,Vaporeon,Water,,130,65,60,110,95,65,1,FALSE\\r\\n135,Jolteon,Electric,,65,65,60,110,95,130,1,FALSE\\r\\n136,Flareon,Fire,,65,130,60,95,110,65,1,FALSE\\r\\n137,Porygon,Normal,,65,60,70,85,75,40,1,FALSE\\r\\n138,Omanyte,Rock,Water,35,40,100,90,55,35,1,FALSE\\r\\n139,Omastar,Rock,Water,70,60,125,115,70,55,1,FALSE\\r\\n140,Kabuto,Rock,Water,30,80,90,55,45,55,1,FALSE\\r\\n141,Kabutops,Rock,Water,60,115,105,65,70,80,1,FALSE\\r\\n142,Aerodactyl,Rock,Flying,80,105,65,60,75,130,1,FALSE\\r\\n142,AerodactylMega Aerodactyl,Rock,Flying,80,135,85,70,95,150,1,FALSE\\r\\n143,Snorlax,Normal,,160,110,65,65,110,30,1,FALSE\\r\\n144,Articuno,Ice,Flying,90,85,100,95,125,85,1,TRUE\\r\\n145,Zapdos,Electric,Flying,90,90,85,125,90,100,1,TRUE\\r\\n146,Moltres,Fire,Flying,90,100,90,125,85,90,1,TRUE\\r\\n147,Dratini,Dragon,,41,64,45,50,50,50,1,FALSE\\r\\n148,Dragonair,Dragon,,61,84,65,70,70,70,1,FALSE\\r\\n149,Dragonite,Dragon,Flying,91,134,95,100,100,80,1,FALSE\\r\\n150,Mewtwo,Psychic,,106,110,90,154,90,130,1,TRUE\\r\\n150,MewtwoMega Mewtwo X,Psychic,Fighting,106,190,100,154,100,130,1,TRUE\\r\\n150,MewtwoMega Mewtwo Y,Psychic,,106,150,70,194,120,140,1,TRUE\\r\\n151,Mew,Psychic,,100,100,100,100,100,100,1,FALSE\\r\\n152,Chikorita,Grass,,45,49,65,49,65,45,2,FALSE\\r\\n153,Bayleef,Grass,,60,62,80,63,80,60,2,FALSE\\r\\n154,Meganium,Grass,,80,82,100,83,100,80,2,FALSE\\r\\n155,Cyndaquil,Fire,,39,52,43,60,50,65,2,FALSE\\r\\n156,Quilava,Fire,,58,64,58,80,65,80,2,FALSE\\r\\n157,Typhlosion,Fire,,78,84,78,109,85,100,2,FALSE\\r\\n158,Totodile,Water,,50,65,64,44,48,43,2,FALSE\\r\\n159,Croconaw,Water,,65,80,80,59,63,58,2,FALSE\\r\\n160,Feraligatr,Water,,85,105,100,79,83,78,2,FALSE\\r\\n161,Sentret,Normal,,35,46,34,35,45,20,2,FALSE\\r\\n162,Furret,Normal,,85,76,64,45,55,90,2,FALSE\\r\\n163,Hoothoot,Normal,Flying,60,30,30,36,56,50,2,FALSE\\r\\n164,Noctowl,Normal,Flying,100,50,50,76,96,70,2,FALSE\\r\\n165,Ledyba,Bug,Flying,40,20,30,40,80,55,2,FALSE\\r\\n166,Ledian,Bug,Flying,55,35,50,55,110,85,2,FALSE\\r\\n167,Spinarak,Bug,Poison,40,60,40,40,40,30,2,FALSE\\r\\n168,Ariados,Bug,Poison,70,90,70,60,60,40,2,FALSE\\r\\n169,Crobat,Poison,Flying,85,90,80,70,80,130,2,FALSE\\r\\n170,Chinchou,Water,Electric,75,38,38,56,56,67,2,FALSE\\r\\n171,Lanturn,Water,Electric,125,58,58,76,76,67,2,FALSE\\r\\n172,Pichu,Electric,,20,40,15,35,35,60,2,FALSE\\r\\n173,Cleffa,Fairy,,50,25,28,45,55,15,2,FALSE\\r\\n174,Igglybuff,Normal,Fairy,90,30,15,40,20,15,2,FALSE\\r\\n175,Togepi,Fairy,,35,20,65,40,65,20,2,FALSE\\r\\n176,Togetic,Fairy,Flying,55,40,85,80,105,40,2,FALSE\\r\\n177,Natu,Psychic,Flying,40,50,45,70,45,70,2,FALSE\\r\\n178,Xatu,Psychic,Flying,65,75,70,95,70,95,2,FALSE\\r\\n179,Mareep,Electric,,55,40,40,65,45,35,2,FALSE\\r\\n180,Flaaffy,Electric,,70,55,55,80,60,45,2,FALSE\\r\\n181,Ampharos,Electric,,90,75,85,115,90,55,2,FALSE\\r\\n181,AmpharosMega Ampharos,Electric,Dragon,90,95,105,165,110,45,2,FALSE\\r\\n182,Bellossom,Grass,,75,80,95,90,100,50,2,FALSE\\r\\n183,Marill,Water,Fairy,70,20,50,20,50,40,2,FALSE\\r\\n184,Azumarill,Water,Fairy,100,50,80,60,80,50,2,FALSE\\r\\n185,Sudowoodo,Rock,,70,100,115,30,65,30,2,FALSE\\r\\n186,Politoed,Water,,90,75,75,90,100,70,2,FALSE\\r\\n187,Hoppip,Grass,Flying,35,35,40,35,55,50,2,FALSE\\r\\n188,Skiploom,Grass,Flying,55,45,50,45,65,80,2,FALSE\\r\\n189,Jumpluff,Grass,Flying,75,55,70,55,95,110,2,FALSE\\r\\n190,Aipom,Normal,,55,70,55,40,55,85,2,FALSE\\r\\n191,Sunkern,Grass,,30,30,30,30,30,30,2,FALSE\\r\\n192,Sunflora,Grass,,75,75,55,105,85,30,2,FALSE\\r\\n193,Yanma,Bug,Flying,65,65,45,75,45,95,2,FALSE\\r\\n194,Wooper,Water,Ground,55,45,45,25,25,15,2,FALSE\\r\\n195,Quagsire,Water,Ground,95,85,85,65,65,35,2,FALSE\\r\\n196,Espeon,Psychic,,65,65,60,130,95,110,2,FALSE\\r\\n197,Umbreon,Dark,,95,65,110,60,130,65,2,FALSE\\r\\n198,Murkrow,Dark,Flying,60,85,42,85,42,91,2,FALSE\\r\\n199,Slowking,Water,Psychic,95,75,80,100,110,30,2,FALSE\\r\\n200,Misdreavus,Ghost,,60,60,60,85,85,85,2,FALSE\\r\\n201,Unown,Psychic,,48,72,48,72,48,48,2,FALSE\\r\\n202,Wobbuffet,Psychic,,190,33,58,33,58,33,2,FALSE\\r\\n203,Girafarig,Normal,Psychic,70,80,65,90,65,85,2,FALSE\\r\\n204,Pineco,Bug,,50,65,90,35,35,15,2,FALSE\\r\\n205,Forretress,Bug,Steel,75,90,140,60,60,40,2,FALSE\\r\\n206,Dunsparce,Normal,,100,70,70,65,65,45,2,FALSE\\r\\n207,Gligar,Ground,Flying,65,75,105,35,65,85,2,FALSE\\r\\n208,Steelix,Steel,Ground,75,85,200,55,65,30,2,FALSE\\r\\n208,SteelixMega Steelix,Steel,Ground,75,125,230,55,95,30,2,FALSE\\r\\n209,Snubbull,Fairy,,60,80,50,40,40,30,2,FALSE\\r\\n210,Granbull,Fairy,,90,120,75,60,60,45,2,FALSE\\r\\n211,Qwilfish,Water,Poison,65,95,75,55,55,85,2,FALSE\\r\\n212,Scizor,Bug,Steel,70,130,100,55,80,65,2,FALSE\\r\\n212,ScizorMega Scizor,Bug,Steel,70,150,140,65,100,75,2,FALSE\\r\\n213,Shuckle,Bug,Rock,20,10,230,10,230,5,2,FALSE\\r\\n214,Heracross,Bug,Fighting,80,125,75,40,95,85,2,FALSE\\r\\n214,HeracrossMega Heracross,Bug,Fighting,80,185,115,40,105,75,2,FALSE\\r\\n215,Sneasel,Dark,Ice,55,95,55,35,75,115,2,FALSE\\r\\n216,Teddiursa,Normal,,60,80,50,50,50,40,2,FALSE\\r\\n217,Ursaring,Normal,,90,130,75,75,75,55,2,FALSE\\r\\n218,Slugma,Fire,,40,40,40,70,40,20,2,FALSE\\r\\n219,Magcargo,Fire,Rock,50,50,120,80,80,30,2,FALSE\\r\\n220,Swinub,Ice,Ground,50,50,40,30,30,50,2,FALSE\\r\\n221,Piloswine,Ice,Ground,100,100,80,60,60,50,2,FALSE\\r\\n222,Corsola,Water,Rock,55,55,85,65,85,35,2,FALSE\\r\\n223,Remoraid,Water,,35,65,35,65,35,65,2,FALSE\\r\\n224,Octillery,Water,,75,105,75,105,75,45,2,FALSE\\r\\n225,Delibird,Ice,Flying,45,55,45,65,45,75,2,FALSE\\r\\n226,Mantine,Water,Flying,65,40,70,80,140,70,2,FALSE\\r\\n227,Skarmory,Steel,Flying,65,80,140,40,70,70,2,FALSE\\r\\n228,Houndour,Dark,Fire,45,60,30,80,50,65,2,FALSE\\r\\n229,Houndoom,Dark,Fire,75,90,50,110,80,95,2,FALSE\\r\\n229,HoundoomMega Houndoom,Dark,Fire,75,90,90,140,90,115,2,FALSE\\r\\n230,Kingdra,Water,Dragon,75,95,95,95,95,85,2,FALSE\\r\\n231,Phanpy,Ground,,90,60,60,40,40,40,2,FALSE\\r\\n232,Donphan,Ground,,90,120,120,60,60,50,2,FALSE\\r\\n233,Porygon2,Normal,,85,80,90,105,95,60,2,FALSE\\r\\n234,Stantler,Normal,,73,95,62,85,65,85,2,FALSE\\r\\n235,Smeargle,Normal,,55,20,35,20,45,75,2,FALSE\\r\\n236,Tyrogue,Fighting,,35,35,35,35,35,35,2,FALSE\\r\\n237,Hitmontop,Fighting,,50,95,95,35,110,70,2,FALSE\\r\\n238,Smoochum,Ice,Psychic,45,30,15,85,65,65,2,FALSE\\r\\n239,Elekid,Electric,,45,63,37,65,55,95,2,FALSE\\r\\n240,Magby,Fire,,45,75,37,70,55,83,2,FALSE\\r\\n241,Miltank,Normal,,95,80,105,40,70,100,2,FALSE\\r\\n242,Blissey,Normal,,255,10,10,75,135,55,2,FALSE\\r\\n243,Raikou,Electric,,90,85,75,115,100,115,2,TRUE\\r\\n244,Entei,Fire,,115,115,85,90,75,100,2,TRUE\\r\\n245,Suicune,Water,,100,75,115,90,115,85,2,TRUE\\r\\n246,Larvitar,Rock,Ground,50,64,50,45,50,41,2,FALSE\\r\\n247,Pupitar,Rock,Ground,70,84,70,65,70,51,2,FALSE\\r\\n248,Tyranitar,Rock,Dark,100,134,110,95,100,61,2,FALSE\\r\\n248,TyranitarMega Tyranitar,Rock,Dark,100,164,150,95,120,71,2,FALSE\\r\\n249,Lugia,Psychic,Flying,106,90,130,90,154,110,2,TRUE\\r\\n250,Ho-oh,Fire,Flying,106,130,90,110,154,90,2,TRUE\\r\\n251,Celebi,Psychic,Grass,100,100,100,100,100,100,2,FALSE\\r\\n252,Treecko,Grass,,40,45,35,65,55,70,3,FALSE\\r\\n253,Grovyle,Grass,,50,65,45,85,65,95,3,FALSE\\r\\n254,Sceptile,Grass,,70,85,65,105,85,120,3,FALSE\\r\\n254,SceptileMega Sceptile,Grass,Dragon,70,110,75,145,85,145,3,FALSE\\r\\n255,Torchic,Fire,,45,60,40,70,50,45,3,FALSE\\r\\n256,Combusken,Fire,Fighting,60,85,60,85,60,55,3,FALSE\\r\\n257,Blaziken,Fire,Fighting,80,120,70,110,70,80,3,FALSE\\r\\n257,BlazikenMega Blaziken,Fire,Fighting,80,160,80,130,80,100,3,FALSE\\r\\n258,Mudkip,Water,,50,70,50,50,50,40,3,FALSE\\r\\n259,Marshtomp,Water,Ground,70,85,70,60,70,50,3,FALSE\\r\\n260,Swampert,Water,Ground,100,110,90,85,90,60,3,FALSE\\r\\n260,SwampertMega Swampert,Water,Ground,100,150,110,95,110,70,3,FALSE\\r\\n261,Poochyena,Dark,,35,55,35,30,30,35,3,FALSE\\r\\n262,Mightyena,Dark,,70,90,70,60,60,70,3,FALSE\\r\\n263,Zigzagoon,Normal,,38,30,41,30,41,60,3,FALSE\\r\\n264,Linoone,Normal,,78,70,61,50,61,100,3,FALSE\\r\\n265,Wurmple,Bug,,45,45,35,20,30,20,3,FALSE\\r\\n266,Silcoon,Bug,,50,35,55,25,25,15,3,FALSE\\r\\n267,Beautifly,Bug,Flying,60,70,50,100,50,65,3,FALSE\\r\\n268,Cascoon,Bug,,50,35,55,25,25,15,3,FALSE\\r\\n269,Dustox,Bug,Poison,60,50,70,50,90,65,3,FALSE\\r\\n270,Lotad,Water,Grass,40,30,30,40,50,30,3,FALSE\\r\\n271,Lombre,Water,Grass,60,50,50,60,70,50,3,FALSE\\r\\n272,Ludicolo,Water,Grass,80,70,70,90,100,70,3,FALSE\\r\\n273,Seedot,Grass,,40,40,50,30,30,30,3,FALSE\\r\\n274,Nuzleaf,Grass,Dark,70,70,40,60,40,60,3,FALSE\\r\\n275,Shiftry,Grass,Dark,90,100,60,90,60,80,3,FALSE\\r\\n276,Taillow,Normal,Flying,40,55,30,30,30,85,3,FALSE\\r\\n277,Swellow,Normal,Flying,60,85,60,50,50,125,3,FALSE\\r\\n278,Wingull,Water,Flying,40,30,30,55,30,85,3,FALSE\\r\\n279,Pelipper,Water,Flying,60,50,100,85,70,65,3,FALSE\\r\\n280,Ralts,Psychic,Fairy,28,25,25,45,35,40,3,FALSE\\r\\n281,Kirlia,Psychic,Fairy,38,35,35,65,55,50,3,FALSE\\r\\n282,Gardevoir,Psychic,Fairy,68,65,65,125,115,80,3,FALSE\\r\\n282,GardevoirMega Gardevoir,Psychic,Fairy,68,85,65,165,135,100,3,FALSE\\r\\n283,Surskit,Bug,Water,40,30,32,50,52,65,3,FALSE\\r\\n284,Masquerain,Bug,Flying,70,60,62,80,82,60,3,FALSE\\r\\n285,Shroomish,Grass,,60,40,60,40,60,35,3,FALSE\\r\\n286,Breloom,Grass,Fighting,60,130,80,60,60,70,3,FALSE\\r\\n287,Slakoth,Normal,,60,60,60,35,35,30,3,FALSE\\r\\n288,Vigoroth,Normal,,80,80,80,55,55,90,3,FALSE\\r\\n289,Slaking,Normal,,150,160,100,95,65,100,3,FALSE\\r\\n290,Nincada,Bug,Ground,31,45,90,30,30,40,3,FALSE\\r\\n291,Ninjask,Bug,Flying,61,90,45,50,50,160,3,FALSE\\r\\n292,Shedinja,Bug,Ghost,1,90,45,30,30,40,3,FALSE\\r\\n293,Whismur,Normal,,64,51,23,51,23,28,3,FALSE\\r\\n294,Loudred,Normal,,84,71,43,71,43,48,3,FALSE\\r\\n295,Exploud,Normal,,104,91,63,91,73,68,3,FALSE\\r\\n296,Makuhita,Fighting,,72,60,30,20,30,25,3,FALSE\\r\\n297,Hariyama,Fighting,,144,120,60,40,60,50,3,FALSE\\r\\n298,Azurill,Normal,Fairy,50,20,40,20,40,20,3,FALSE\\r\\n299,Nosepass,Rock,,30,45,135,45,90,30,3,FALSE\\r\\n300,Skitty,Normal,,50,45,45,35,35,50,3,FALSE\\r\\n301,Delcatty,Normal,,70,65,65,55,55,70,3,FALSE\\r\\n302,Sableye,Dark,Ghost,50,75,75,65,65,50,3,FALSE\\r\\n302,SableyeMega Sableye,Dark,Ghost,50,85,125,85,115,20,3,FALSE\\r\\n303,Mawile,Steel,Fairy,50,85,85,55,55,50,3,FALSE\\r\\n303,MawileMega Mawile,Steel,Fairy,50,105,125,55,95,50,3,FALSE\\r\\n304,Aron,Steel,Rock,50,70,100,40,40,30,3,FALSE\\r\\n305,Lairon,Steel,Rock,60,90,140,50,50,40,3,FALSE\\r\\n306,Aggron,Steel,Rock,70,110,180,60,60,50,3,FALSE\\r\\n306,AggronMega Aggron,Steel,,70,140,230,60,80,50,3,FALSE\\r\\n307,Meditite,Fighting,Psychic,30,40,55,40,55,60,3,FALSE\\r\\n308,Medicham,Fighting,Psychic,60,60,75,60,75,80,3,FALSE\\r\\n308,MedichamMega Medicham,Fighting,Psychic,60,100,85,80,85,100,3,FALSE\\r\\n309,Electrike,Electric,,40,45,40,65,40,65,3,FALSE\\r\\n310,Manectric,Electric,,70,75,60,105,60,105,3,FALSE\\r\\n310,ManectricMega Manectric,Electric,,70,75,80,135,80,135,3,FALSE\\r\\n311,Plusle,Electric,,60,50,40,85,75,95,3,FALSE\\r\\n312,Minun,Electric,,60,40,50,75,85,95,3,FALSE\\r\\n313,Volbeat,Bug,,65,73,55,47,75,85,3,FALSE\\r\\n314,Illumise,Bug,,65,47,55,73,75,85,3,FALSE\\r\\n315,Roselia,Grass,Poison,50,60,45,100,80,65,3,FALSE\\r\\n316,Gulpin,Poison,,70,43,53,43,53,40,3,FALSE\\r\\n317,Swalot,Poison,,100,73,83,73,83,55,3,FALSE\\r\\n318,Carvanha,Water,Dark,45,90,20,65,20,65,3,FALSE\\r\\n319,Sharpedo,Water,Dark,70,120,40,95,40,95,3,FALSE\\r\\n319,SharpedoMega Sharpedo,Water,Dark,70,140,70,110,65,105,3,FALSE\\r\\n320,Wailmer,Water,,130,70,35,70,35,60,3,FALSE\\r\\n321,Wailord,Water,,170,90,45,90,45,60,3,FALSE\\r\\n322,Numel,Fire,Ground,60,60,40,65,45,35,3,FALSE\\r\\n323,Camerupt,Fire,Ground,70,100,70,105,75,40,3,FALSE\\r\\n323,CameruptMega Camerupt,Fire,Ground,70,120,100,145,105,20,3,FALSE\\r\\n324,Torkoal,Fire,,70,85,140,85,70,20,3,FALSE\\r\\n325,Spoink,Psychic,,60,25,35,70,80,60,3,FALSE\\r\\n326,Grumpig,Psychic,,80,45,65,90,110,80,3,FALSE\\r\\n327,Spinda,Normal,,60,60,60,60,60,60,3,FALSE\\r\\n328,Trapinch,Ground,,45,100,45,45,45,10,3,FALSE\\r\\n329,Vibrava,Ground,Dragon,50,70,50,50,50,70,3,FALSE\\r\\n330,Flygon,Ground,Dragon,80,100,80,80,80,100,3,FALSE\\r\\n331,Cacnea,Grass,,50,85,40,85,40,35,3,FALSE\\r\\n332,Cacturne,Grass,Dark,70,115,60,115,60,55,3,FALSE\\r\\n333,Swablu,Normal,Flying,45,40,60,40,75,50,3,FALSE\\r\\n334,Altaria,Dragon,Flying,75,70,90,70,105,80,3,FALSE\\r\\n334,AltariaMega Altaria,Dragon,Fairy,75,110,110,110,105,80,3,FALSE\\r\\n335,Zangoose,Normal,,73,115,60,60,60,90,3,FALSE\\r\\n336,Seviper,Poison,,73,100,60,100,60,65,3,FALSE\\r\\n337,Lunatone,Rock,Psychic,70,55,65,95,85,70,3,FALSE\\r\\n338,Solrock,Rock,Psychic,70,95,85,55,65,70,3,FALSE\\r\\n339,Barboach,Water,Ground,50,48,43,46,41,60,3,FALSE\\r\\n340,Whiscash,Water,Ground,110,78,73,76,71,60,3,FALSE\\r\\n341,Corphish,Water,,43,80,65,50,35,35,3,FALSE\\r\\n342,Crawdaunt,Water,Dark,63,120,85,90,55,55,3,FALSE\\r\\n343,Baltoy,Ground,Psychic,40,40,55,40,70,55,3,FALSE\\r\\n344,Claydol,Ground,Psychic,60,70,105,70,120,75,3,FALSE\\r\\n345,Lileep,Rock,Grass,66,41,77,61,87,23,3,FALSE\\r\\n346,Cradily,Rock,Grass,86,81,97,81,107,43,3,FALSE\\r\\n347,Anorith,Rock,Bug,45,95,50,40,50,75,3,FALSE\\r\\n348,Armaldo,Rock,Bug,75,125,100,70,80,45,3,FALSE\\r\\n349,Feebas,Water,,20,15,20,10,55,80,3,FALSE\\r\\n350,Milotic,Water,,95,60,79,100,125,81,3,FALSE\\r\\n351,Castform,Normal,,70,70,70,70,70,70,3,FALSE\\r\\n352,Kecleon,Normal,,60,90,70,60,120,40,3,FALSE\\r\\n353,Shuppet,Ghost,,44,75,35,63,33,45,3,FALSE\\r\\n354,Banette,Ghost,,64,115,65,83,63,65,3,FALSE\\r\\n354,BanetteMega Banette,Ghost,,64,165,75,93,83,75,3,FALSE\\r\\n355,Duskull,Ghost,,20,40,90,30,90,25,3,FALSE\\r\\n356,Dusclops,Ghost,,40,70,130,60,130,25,3,FALSE\\r\\n357,Tropius,Grass,Flying,99,68,83,72,87,51,3,FALSE\\r\\n358,Chimecho,Psychic,,65,50,70,95,80,65,3,FALSE\\r\\n359,Absol,Dark,,65,130,60,75,60,75,3,FALSE\\r\\n359,AbsolMega Absol,Dark,,65,150,60,115,60,115,3,FALSE\\r\\n360,Wynaut,Psychic,,95,23,48,23,48,23,3,FALSE\\r\\n361,Snorunt,Ice,,50,50,50,50,50,50,3,FALSE\\r\\n362,Glalie,Ice,,80,80,80,80,80,80,3,FALSE\\r\\n362,GlalieMega Glalie,Ice,,80,120,80,120,80,100,3,FALSE\\r\\n363,Spheal,Ice,Water,70,40,50,55,50,25,3,FALSE\\r\\n364,Sealeo,Ice,Water,90,60,70,75,70,45,3,FALSE\\r\\n365,Walrein,Ice,Water,110,80,90,95,90,65,3,FALSE\\r\\n366,Clamperl,Water,,35,64,85,74,55,32,3,FALSE\\r\\n367,Huntail,Water,,55,104,105,94,75,52,3,FALSE\\r\\n368,Gorebyss,Water,,55,84,105,114,75,52,3,FALSE\\r\\n369,Relicanth,Water,Rock,100,90,130,45,65,55,3,FALSE\\r\\n370,Luvdisc,Water,,43,30,55,40,65,97,3,FALSE\\r\\n371,Bagon,Dragon,,45,75,60,40,30,50,3,FALSE\\r\\n372,Shelgon,Dragon,,65,95,100,60,50,50,3,FALSE\\r\\n373,Salamence,Dragon,Flying,95,135,80,110,80,100,3,FALSE\\r\\n373,SalamenceMega Salamence,Dragon,Flying,95,145,130,120,90,120,3,FALSE\\r\\n374,Beldum,Steel,Psychic,40,55,80,35,60,30,3,FALSE\\r\\n375,Metang,Steel,Psychic,60,75,100,55,80,50,3,FALSE\\r\\n376,Metagross,Steel,Psychic,80,135,130,95,90,70,3,FALSE\\r\\n376,MetagrossMega Metagross,Steel,Psychic,80,145,150,105,110,110,3,FALSE\\r\\n377,Regirock,Rock,,80,100,200,50,100,50,3,TRUE\\r\\n378,Regice,Ice,,80,50,100,100,200,50,3,TRUE\\r\\n379,Registeel,Steel,,80,75,150,75,150,50,3,TRUE\\r\\n380,Latias,Dragon,Psychic,80,80,90,110,130,110,3,TRUE\\r\\n380,LatiasMega Latias,Dragon,Psychic,80,100,120,140,150,110,3,TRUE\\r\\n381,Latios,Dragon,Psychic,80,90,80,130,110,110,3,TRUE\\r\\n381,LatiosMega Latios,Dragon,Psychic,80,130,100,160,120,110,3,TRUE\\r\\n382,Kyogre,Water,,100,100,90,150,140,90,3,TRUE\\r\\n382,KyogrePrimal Kyogre,Water,,100,150,90,180,160,90,3,TRUE\\r\\n383,Groudon,Ground,,100,150,140,100,90,90,3,TRUE\\r\\n383,GroudonPrimal Groudon,Ground,Fire,100,180,160,150,90,90,3,TRUE\\r\\n384,Rayquaza,Dragon,Flying,105,150,90,150,90,95,3,TRUE\\r\\n384,RayquazaMega Rayquaza,Dragon,Flying,105,180,100,180,100,115,3,TRUE\\r\\n385,Jirachi,Steel,Psychic,100,100,100,100,100,100,3,TRUE\\r\\n386,DeoxysNormal Forme,Psychic,,50,150,50,150,50,150,3,TRUE\\r\\n386,DeoxysAttack Forme,Psychic,,50,180,20,180,20,150,3,TRUE\\r\\n386,DeoxysDefense Forme,Psychic,,50,70,160,70,160,90,3,TRUE\\r\\n386,DeoxysSpeed Forme,Psychic,,50,95,90,95,90,180,3,TRUE\\r\\n387,Turtwig,Grass,,55,68,64,45,55,31,4,FALSE\\r\\n388,Grotle,Grass,,75,89,85,55,65,36,4,FALSE\\r\\n389,Torterra,Grass,Ground,95,109,105,75,85,56,4,FALSE\\r\\n390,Chimchar,Fire,,44,58,44,58,44,61,4,FALSE\\r\\n391,Monferno,Fire,Fighting,64,78,52,78,52,81,4,FALSE\\r\\n392,Infernape,Fire,Fighting,76,104,71,104,71,108,4,FALSE\\r\\n393,Piplup,Water,,53,51,53,61,56,40,4,FALSE\\r\\n394,Prinplup,Water,,64,66,68,81,76,50,4,FALSE\\r\\n395,Empoleon,Water,Steel,84,86,88,111,101,60,4,FALSE\\r\\n396,Starly,Normal,Flying,40,55,30,30,30,60,4,FALSE\\r\\n397,Staravia,Normal,Flying,55,75,50,40,40,80,4,FALSE\\r\\n398,Staraptor,Normal,Flying,85,120,70,50,60,100,4,FALSE\\r\\n399,Bidoof,Normal,,59,45,40,35,40,31,4,FALSE\\r\\n400,Bibarel,Normal,Water,79,85,60,55,60,71,4,FALSE\\r\\n401,Kricketot,Bug,,37,25,41,25,41,25,4,FALSE\\r\\n402,Kricketune,Bug,,77,85,51,55,51,65,4,FALSE\\r\\n403,Shinx,Electric,,45,65,34,40,34,45,4,FALSE\\r\\n404,Luxio,Electric,,60,85,49,60,49,60,4,FALSE\\r\\n405,Luxray,Electric,,80,120,79,95,79,70,4,FALSE\\r\\n406,Budew,Grass,Poison,40,30,35,50,70,55,4,FALSE\\r\\n407,Roserade,Grass,Poison,60,70,65,125,105,90,4,FALSE\\r\\n408,Cranidos,Rock,,67,125,40,30,30,58,4,FALSE\\r\\n409,Rampardos,Rock,,97,165,60,65,50,58,4,FALSE\\r\\n410,Shieldon,Rock,Steel,30,42,118,42,88,30,4,FALSE\\r\\n411,Bastiodon,Rock,Steel,60,52,168,47,138,30,4,FALSE\\r\\n412,Burmy,Bug,,40,29,45,29,45,36,4,FALSE\\r\\n413,WormadamPlant Cloak,Bug,Grass,60,59,85,79,105,36,4,FALSE\\r\\n413,WormadamSandy Cloak,Bug,Ground,60,79,105,59,85,36,4,FALSE\\r\\n413,WormadamTrash Cloak,Bug,Steel,60,69,95,69,95,36,4,FALSE\\r\\n414,Mothim,Bug,Flying,70,94,50,94,50,66,4,FALSE\\r\\n415,Combee,Bug,Flying,30,30,42,30,42,70,4,FALSE\\r\\n416,Vespiquen,Bug,Flying,70,80,102,80,102,40,4,FALSE\\r\\n417,Pachirisu,Electric,,60,45,70,45,90,95,4,FALSE\\r\\n418,Buizel,Water,,55,65,35,60,30,85,4,FALSE\\r\\n419,Floatzel,Water,,85,105,55,85,50,115,4,FALSE\\r\\n420,Cherubi,Grass,,45,35,45,62,53,35,4,FALSE\\r\\n421,Cherrim,Grass,,70,60,70,87,78,85,4,FALSE\\r\\n422,Shellos,Water,,76,48,48,57,62,34,4,FALSE\\r\\n423,Gastrodon,Water,Ground,111,83,68,92,82,39,4,FALSE\\r\\n424,Ambipom,Normal,,75,100,66,60,66,115,4,FALSE\\r\\n425,Drifloon,Ghost,Flying,90,50,34,60,44,70,4,FALSE\\r\\n426,Drifblim,Ghost,Flying,150,80,44,90,54,80,4,FALSE\\r\\n427,Buneary,Normal,,55,66,44,44,56,85,4,FALSE\\r\\n428,Lopunny,Normal,,65,76,84,54,96,105,4,FALSE\\r\\n428,LopunnyMega Lopunny,Normal,Fighting,65,136,94,54,96,135,4,FALSE\\r\\n429,Mismagius,Ghost,,60,60,60,105,105,105,4,FALSE\\r\\n430,Honchkrow,Dark,Flying,100,125,52,105,52,71,4,FALSE\\r\\n431,Glameow,Normal,,49,55,42,42,37,85,4,FALSE\\r\\n432,Purugly,Normal,,71,82,64,64,59,112,4,FALSE\\r\\n433,Chingling,Psychic,,45,30,50,65,50,45,4,FALSE\\r\\n434,Stunky,Poison,Dark,63,63,47,41,41,74,4,FALSE\\r\\n435,Skuntank,Poison,Dark,103,93,67,71,61,84,4,FALSE\\r\\n436,Bronzor,Steel,Psychic,57,24,86,24,86,23,4,FALSE\\r\\n437,Bronzong,Steel,Psychic,67,89,116,79,116,33,4,FALSE\\r\\n438,Bonsly,Rock,,50,80,95,10,45,10,4,FALSE\\r\\n439,Mime Jr.,Psychic,Fairy,20,25,45,70,90,60,4,FALSE\\r\\n440,Happiny,Normal,,100,5,5,15,65,30,4,FALSE\\r\\n441,Chatot,Normal,Flying,76,65,45,92,42,91,4,FALSE\\r\\n442,Spiritomb,Ghost,Dark,50,92,108,92,108,35,4,FALSE\\r\\n443,Gible,Dragon,Ground,58,70,45,40,45,42,4,FALSE\\r\\n444,Gabite,Dragon,Ground,68,90,65,50,55,82,4,FALSE\\r\\n445,Garchomp,Dragon,Ground,108,130,95,80,85,102,4,FALSE\\r\\n445,GarchompMega Garchomp,Dragon,Ground,108,170,115,120,95,92,4,FALSE\\r\\n446,Munchlax,Normal,,135,85,40,40,85,5,4,FALSE\\r\\n447,Riolu,Fighting,,40,70,40,35,40,60,4,FALSE\\r\\n448,Lucario,Fighting,Steel,70,110,70,115,70,90,4,FALSE\\r\\n448,LucarioMega Lucario,Fighting,Steel,70,145,88,140,70,112,4,FALSE\\r\\n449,Hippopotas,Ground,,68,72,78,38,42,32,4,FALSE\\r\\n450,Hippowdon,Ground,,108,112,118,68,72,47,4,FALSE\\r\\n451,Skorupi,Poison,Bug,40,50,90,30,55,65,4,FALSE\\r\\n452,Drapion,Poison,Dark,70,90,110,60,75,95,4,FALSE\\r\\n453,Croagunk,Poison,Fighting,48,61,40,61,40,50,4,FALSE\\r\\n454,Toxicroak,Poison,Fighting,83,106,65,86,65,85,4,FALSE\\r\\n455,Carnivine,Grass,,74,100,72,90,72,46,4,FALSE\\r\\n456,Finneon,Water,,49,49,56,49,61,66,4,FALSE\\r\\n457,Lumineon,Water,,69,69,76,69,86,91,4,FALSE\\r\\n458,Mantyke,Water,Flying,45,20,50,60,120,50,4,FALSE\\r\\n459,Snover,Grass,Ice,60,62,50,62,60,40,4,FALSE\\r\\n460,Abomasnow,Grass,Ice,90,92,75,92,85,60,4,FALSE\\r\\n460,AbomasnowMega Abomasnow,Grass,Ice,90,132,105,132,105,30,4,FALSE\\r\\n461,Weavile,Dark,Ice,70,120,65,45,85,125,4,FALSE\\r\\n462,Magnezone,Electric,Steel,70,70,115,130,90,60,4,FALSE\\r\\n463,Lickilicky,Normal,,110,85,95,80,95,50,4,FALSE\\r\\n464,Rhyperior,Ground,Rock,115,140,130,55,55,40,4,FALSE\\r\\n465,Tangrowth,Grass,,100,100,125,110,50,50,4,FALSE\\r\\n466,Electivire,Electric,,75,123,67,95,85,95,4,FALSE\\r\\n467,Magmortar,Fire,,75,95,67,125,95,83,4,FALSE\\r\\n468,Togekiss,Fairy,Flying,85,50,95,120,115,80,4,FALSE\\r\\n469,Yanmega,Bug,Flying,86,76,86,116,56,95,4,FALSE\\r\\n470,Leafeon,Grass,,65,110,130,60,65,95,4,FALSE\\r\\n471,Glaceon,Ice,,65,60,110,130,95,65,4,FALSE\\r\\n472,Gliscor,Ground,Flying,75,95,125,45,75,95,4,FALSE\\r\\n473,Mamoswine,Ice,Ground,110,130,80,70,60,80,4,FALSE\\r\\n474,Porygon-Z,Normal,,85,80,70,135,75,90,4,FALSE\\r\\n475,Gallade,Psychic,Fighting,68,125,65,65,115,80,4,FALSE\\r\\n475,GalladeMega Gallade,Psychic,Fighting,68,165,95,65,115,110,4,FALSE\\r\\n476,Probopass,Rock,Steel,60,55,145,75,150,40,4,FALSE\\r\\n477,Dusknoir,Ghost,,45,100,135,65,135,45,4,FALSE\\r\\n478,Froslass,Ice,Ghost,70,80,70,80,70,110,4,FALSE\\r\\n479,Rotom,Electric,Ghost,50,50,77,95,77,91,4,FALSE\\r\\n479,RotomHeat Rotom,Electric,Fire,50,65,107,105,107,86,4,FALSE\\r\\n479,RotomWash Rotom,Electric,Water,50,65,107,105,107,86,4,FALSE\\r\\n479,RotomFrost Rotom,Electric,Ice,50,65,107,105,107,86,4,FALSE\\r\\n479,RotomFan Rotom,Electric,Flying,50,65,107,105,107,86,4,FALSE\\r\\n479,RotomMow Rotom,Electric,Grass,50,65,107,105,107,86,4,FALSE\\r\\n480,Uxie,Psychic,,75,75,130,75,130,95,4,TRUE\\r\\n481,Mesprit,Psychic,,80,105,105,105,105,80,4,TRUE\\r\\n482,Azelf,Psychic,,75,125,70,125,70,115,4,TRUE\\r\\n483,Dialga,Steel,Dragon,100,120,120,150,100,90,4,TRUE\\r\\n484,Palkia,Water,Dragon,90,120,100,150,120,100,4,TRUE\\r\\n485,Heatran,Fire,Steel,91,90,106,130,106,77,4,TRUE\\r\\n486,Regigigas,Normal,,110,160,110,80,110,100,4,TRUE\\r\\n487,GiratinaAltered Forme,Ghost,Dragon,150,100,120,100,120,90,4,TRUE\\r\\n487,GiratinaOrigin Forme,Ghost,Dragon,150,120,100,120,100,90,4,TRUE\\r\\n488,Cresselia,Psychic,,120,70,120,75,130,85,4,FALSE\\r\\n489,Phione,Water,,80,80,80,80,80,80,4,FALSE\\r\\n490,Manaphy,Water,,100,100,100,100,100,100,4,FALSE\\r\\n491,Darkrai,Dark,,70,90,90,135,90,125,4,TRUE\\r\\n492,ShayminLand Forme,Grass,,100,100,100,100,100,100,4,TRUE\\r\\n492,ShayminSky Forme,Grass,Flying,100,103,75,120,75,127,4,TRUE\\r\\n493,Arceus,Normal,,120,120,120,120,120,120,4,TRUE\\r\\n494,Victini,Psychic,Fire,100,100,100,100,100,100,5,TRUE\\r\\n495,Snivy,Grass,,45,45,55,45,55,63,5,FALSE\\r\\n496,Servine,Grass,,60,60,75,60,75,83,5,FALSE\\r\\n497,Serperior,Grass,,75,75,95,75,95,113,5,FALSE\\r\\n498,Tepig,Fire,,65,63,45,45,45,45,5,FALSE\\r\\n499,Pignite,Fire,Fighting,90,93,55,70,55,55,5,FALSE\\r\\n500,Emboar,Fire,Fighting,110,123,65,100,65,65,5,FALSE\\r\\n501,Oshawott,Water,,55,55,45,63,45,45,5,FALSE\\r\\n502,Dewott,Water,,75,75,60,83,60,60,5,FALSE\\r\\n503,Samurott,Water,,95,100,85,108,70,70,5,FALSE\\r\\n504,Patrat,Normal,,45,55,39,35,39,42,5,FALSE\\r\\n505,Watchog,Normal,,60,85,69,60,69,77,5,FALSE\\r\\n506,Lillipup,Normal,,45,60,45,25,45,55,5,FALSE\\r\\n507,Herdier,Normal,,65,80,65,35,65,60,5,FALSE\\r\\n508,Stoutland,Normal,,85,110,90,45,90,80,5,FALSE\\r\\n509,Purrloin,Dark,,41,50,37,50,37,66,5,FALSE\\r\\n510,Liepard,Dark,,64,88,50,88,50,106,5,FALSE\\r\\n511,Pansage,Grass,,50,53,48,53,48,64,5,FALSE\\r\\n512,Simisage,Grass,,75,98,63,98,63,101,5,FALSE\\r\\n513,Pansear,Fire,,50,53,48,53,48,64,5,FALSE\\r\\n514,Simisear,Fire,,75,98,63,98,63,101,5,FALSE\\r\\n515,Panpour,Water,,50,53,48,53,48,64,5,FALSE\\r\\n516,Simipour,Water,,75,98,63,98,63,101,5,FALSE\\r\\n517,Munna,Psychic,,76,25,45,67,55,24,5,FALSE\\r\\n518,Musharna,Psychic,,116,55,85,107,95,29,5,FALSE\\r\\n519,Pidove,Normal,Flying,50,55,50,36,30,43,5,FALSE\\r\\n520,Tranquill,Normal,Flying,62,77,62,50,42,65,5,FALSE\\r\\n521,Unfezant,Normal,Flying,80,115,80,65,55,93,5,FALSE\\r\\n522,Blitzle,Electric,,45,60,32,50,32,76,5,FALSE\\r\\n523,Zebstrika,Electric,,75,100,63,80,63,116,5,FALSE\\r\\n524,Roggenrola,Rock,,55,75,85,25,25,15,5,FALSE\\r\\n525,Boldore,Rock,,70,105,105,50,40,20,5,FALSE\\r\\n526,Gigalith,Rock,,85,135,130,60,80,25,5,FALSE\\r\\n527,Woobat,Psychic,Flying,55,45,43,55,43,72,5,FALSE\\r\\n528,Swoobat,Psychic,Flying,67,57,55,77,55,114,5,FALSE\\r\\n529,Drilbur,Ground,,60,85,40,30,45,68,5,FALSE\\r\\n530,Excadrill,Ground,Steel,110,135,60,50,65,88,5,FALSE\\r\\n531,Audino,Normal,,103,60,86,60,86,50,5,FALSE\\r\\n531,AudinoMega Audino,Normal,Fairy,103,60,126,80,126,50,5,FALSE\\r\\n532,Timburr,Fighting,,75,80,55,25,35,35,5,FALSE\\r\\n533,Gurdurr,Fighting,,85,105,85,40,50,40,5,FALSE\\r\\n534,Conkeldurr,Fighting,,105,140,95,55,65,45,5,FALSE\\r\\n535,Tympole,Water,,50,50,40,50,40,64,5,FALSE\\r\\n536,Palpitoad,Water,Ground,75,65,55,65,55,69,5,FALSE\\r\\n537,Seismitoad,Water,Ground,105,95,75,85,75,74,5,FALSE\\r\\n538,Throh,Fighting,,120,100,85,30,85,45,5,FALSE\\r\\n539,Sawk,Fighting,,75,125,75,30,75,85,5,FALSE\\r\\n540,Sewaddle,Bug,Grass,45,53,70,40,60,42,5,FALSE\\r\\n541,Swadloon,Bug,Grass,55,63,90,50,80,42,5,FALSE\\r\\n542,Leavanny,Bug,Grass,75,103,80,70,80,92,5,FALSE\\r\\n543,Venipede,Bug,Poison,30,45,59,30,39,57,5,FALSE\\r\\n544,Whirlipede,Bug,Poison,40,55,99,40,79,47,5,FALSE\\r\\n545,Scolipede,Bug,Poison,60,100,89,55,69,112,5,FALSE\\r\\n546,Cottonee,Grass,Fairy,40,27,60,37,50,66,5,FALSE\\r\\n547,Whimsicott,Grass,Fairy,60,67,85,77,75,116,5,FALSE\\r\\n548,Petilil,Grass,,45,35,50,70,50,30,5,FALSE\\r\\n549,Lilligant,Grass,,70,60,75,110,75,90,5,FALSE\\r\\n550,Basculin,Water,,70,92,65,80,55,98,5,FALSE\\r\\n551,Sandile,Ground,Dark,50,72,35,35,35,65,5,FALSE\\r\\n552,Krokorok,Ground,Dark,60,82,45,45,45,74,5,FALSE\\r\\n553,Krookodile,Ground,Dark,95,117,80,65,70,92,5,FALSE\\r\\n554,Darumaka,Fire,,70,90,45,15,45,50,5,FALSE\\r\\n555,DarmanitanStandard Mode,Fire,,105,140,55,30,55,95,5,FALSE\\r\\n555,DarmanitanZen Mode,Fire,Psychic,105,30,105,140,105,55,5,FALSE\\r\\n556,Maractus,Grass,,75,86,67,106,67,60,5,FALSE\\r\\n557,Dwebble,Bug,Rock,50,65,85,35,35,55,5,FALSE\\r\\n558,Crustle,Bug,Rock,70,95,125,65,75,45,5,FALSE\\r\\n559,Scraggy,Dark,Fighting,50,75,70,35,70,48,5,FALSE\\r\\n560,Scrafty,Dark,Fighting,65,90,115,45,115,58,5,FALSE\\r\\n561,Sigilyph,Psychic,Flying,72,58,80,103,80,97,5,FALSE\\r\\n562,Yamask,Ghost,,38,30,85,55,65,30,5,FALSE\\r\\n563,Cofagrigus,Ghost,,58,50,145,95,105,30,5,FALSE\\r\\n564,Tirtouga,Water,Rock,54,78,103,53,45,22,5,FALSE\\r\\n565,Carracosta,Water,Rock,74,108,133,83,65,32,5,FALSE\\r\\n566,Archen,Rock,Flying,55,112,45,74,45,70,5,FALSE\\r\\n567,Archeops,Rock,Flying,75,140,65,112,65,110,5,FALSE\\r\\n568,Trubbish,Poison,,50,50,62,40,62,65,5,FALSE\\r\\n569,Garbodor,Poison,,80,95,82,60,82,75,5,FALSE\\r\\n570,Zorua,Dark,,40,65,40,80,40,65,5,FALSE\\r\\n571,Zoroark,Dark,,60,105,60,120,60,105,5,FALSE\\r\\n572,Minccino,Normal,,55,50,40,40,40,75,5,FALSE\\r\\n573,Cinccino,Normal,,75,95,60,65,60,115,5,FALSE\\r\\n574,Gothita,Psychic,,45,30,50,55,65,45,5,FALSE\\r\\n575,Gothorita,Psychic,,60,45,70,75,85,55,5,FALSE\\r\\n576,Gothitelle,Psychic,,70,55,95,95,110,65,5,FALSE\\r\\n577,Solosis,Psychic,,45,30,40,105,50,20,5,FALSE\\r\\n578,Duosion,Psychic,,65,40,50,125,60,30,5,FALSE\\r\\n579,Reuniclus,Psychic,,110,65,75,125,85,30,5,FALSE\\r\\n580,Ducklett,Water,Flying,62,44,50,44,50,55,5,FALSE\\r\\n581,Swanna,Water,Flying,75,87,63,87,63,98,5,FALSE\\r\\n582,Vanillite,Ice,,36,50,50,65,60,44,5,FALSE\\r\\n583,Vanillish,Ice,,51,65,65,80,75,59,5,FALSE\\r\\n584,Vanilluxe,Ice,,71,95,85,110,95,79,5,FALSE\\r\\n585,Deerling,Normal,Grass,60,60,50,40,50,75,5,FALSE\\r\\n586,Sawsbuck,Normal,Grass,80,100,70,60,70,95,5,FALSE\\r\\n587,Emolga,Electric,Flying,55,75,60,75,60,103,5,FALSE\\r\\n588,Karrablast,Bug,,50,75,45,40,45,60,5,FALSE\\r\\n589,Escavalier,Bug,Steel,70,135,105,60,105,20,5,FALSE\\r\\n590,Foongus,Grass,Poison,69,55,45,55,55,15,5,FALSE\\r\\n591,Amoonguss,Grass,Poison,114,85,70,85,80,30,5,FALSE\\r\\n592,Frillish,Water,Ghost,55,40,50,65,85,40,5,FALSE\\r\\n593,Jellicent,Water,Ghost,100,60,70,85,105,60,5,FALSE\\r\\n594,Alomomola,Water,,165,75,80,40,45,65,5,FALSE\\r\\n595,Joltik,Bug,Electric,50,47,50,57,50,65,5,FALSE\\r\\n596,Galvantula,Bug,Electric,70,77,60,97,60,108,5,FALSE\\r\\n597,Ferroseed,Grass,Steel,44,50,91,24,86,10,5,FALSE\\r\\n598,Ferrothorn,Grass,Steel,74,94,131,54,116,20,5,FALSE\\r\\n599,Klink,Steel,,40,55,70,45,60,30,5,FALSE\\r\\n600,Klang,Steel,,60,80,95,70,85,50,5,FALSE\\r\\n601,Klinklang,Steel,,60,100,115,70,85,90,5,FALSE\\r\\n602,Tynamo,Electric,,35,55,40,45,40,60,5,FALSE\\r\\n603,Eelektrik,Electric,,65,85,70,75,70,40,5,FALSE\\r\\n604,Eelektross,Electric,,85,115,80,105,80,50,5,FALSE\\r\\n605,Elgyem,Psychic,,55,55,55,85,55,30,5,FALSE\\r\\n606,Beheeyem,Psychic,,75,75,75,125,95,40,5,FALSE\\r\\n607,Litwick,Ghost,Fire,50,30,55,65,55,20,5,FALSE\\r\\n608,Lampent,Ghost,Fire,60,40,60,95,60,55,5,FALSE\\r\\n609,Chandelure,Ghost,Fire,60,55,90,145,90,80,5,FALSE\\r\\n610,Axew,Dragon,,46,87,60,30,40,57,5,FALSE\\r\\n611,Fraxure,Dragon,,66,117,70,40,50,67,5,FALSE\\r\\n612,Haxorus,Dragon,,76,147,90,60,70,97,5,FALSE\\r\\n613,Cubchoo,Ice,,55,70,40,60,40,40,5,FALSE\\r\\n614,Beartic,Ice,,95,110,80,70,80,50,5,FALSE\\r\\n615,Cryogonal,Ice,,70,50,30,95,135,105,5,FALSE\\r\\n616,Shelmet,Bug,,50,40,85,40,65,25,5,FALSE\\r\\n617,Accelgor,Bug,,80,70,40,100,60,145,5,FALSE\\r\\n618,Stunfisk,Ground,Electric,109,66,84,81,99,32,5,FALSE\\r\\n619,Mienfoo,Fighting,,45,85,50,55,50,65,5,FALSE\\r\\n620,Mienshao,Fighting,,65,125,60,95,60,105,5,FALSE\\r\\n621,Druddigon,Dragon,,77,120,90,60,90,48,5,FALSE\\r\\n622,Golett,Ground,Ghost,59,74,50,35,50,35,5,FALSE\\r\\n623,Golurk,Ground,Ghost,89,124,80,55,80,55,5,FALSE\\r\\n624,Pawniard,Dark,Steel,45,85,70,40,40,60,5,FALSE\\r\\n625,Bisharp,Dark,Steel,65,125,100,60,70,70,5,FALSE\\r\\n626,Bouffalant,Normal,,95,110,95,40,95,55,5,FALSE\\r\\n627,Rufflet,Normal,Flying,70,83,50,37,50,60,5,FALSE\\r\\n628,Braviary,Normal,Flying,100,123,75,57,75,80,5,FALSE\\r\\n629,Vullaby,Dark,Flying,70,55,75,45,65,60,5,FALSE\\r\\n630,Mandibuzz,Dark,Flying,110,65,105,55,95,80,5,FALSE\\r\\n631,Heatmor,Fire,,85,97,66,105,66,65,5,FALSE\\r\\n632,Durant,Bug,Steel,58,109,112,48,48,109,5,FALSE\\r\\n633,Deino,Dark,Dragon,52,65,50,45,50,38,5,FALSE\\r\\n634,Zweilous,Dark,Dragon,72,85,70,65,70,58,5,FALSE\\r\\n635,Hydreigon,Dark,Dragon,92,105,90,125,90,98,5,FALSE\\r\\n636,Larvesta,Bug,Fire,55,85,55,50,55,60,5,FALSE\\r\\n637,Volcarona,Bug,Fire,85,60,65,135,105,100,5,FALSE\\r\\n638,Cobalion,Steel,Fighting,91,90,129,90,72,108,5,TRUE\\r\\n639,Terrakion,Rock,Fighting,91,129,90,72,90,108,5,TRUE\\r\\n640,Virizion,Grass,Fighting,91,90,72,90,129,108,5,TRUE\\r\\n641,TornadusIncarnate Forme,Flying,,79,115,70,125,80,111,5,TRUE\\r\\n641,TornadusTherian Forme,Flying,,79,100,80,110,90,121,5,TRUE\\r\\n642,ThundurusIncarnate Forme,Electric,Flying,79,115,70,125,80,111,5,TRUE\\r\\n642,ThundurusTherian Forme,Electric,Flying,79,105,70,145,80,101,5,TRUE\\r\\n643,Reshiram,Dragon,Fire,100,120,100,150,120,90,5,TRUE\\r\\n644,Zekrom,Dragon,Electric,100,150,120,120,100,90,5,TRUE\\r\\n645,LandorusIncarnate Forme,Ground,Flying,89,125,90,115,80,101,5,TRUE\\r\\n645,LandorusTherian Forme,Ground,Flying,89,145,90,105,80,91,5,TRUE\\r\\n646,Kyurem,Dragon,Ice,125,130,90,130,90,95,5,TRUE\\r\\n646,KyuremBlack Kyurem,Dragon,Ice,125,170,100,120,90,95,5,TRUE\\r\\n646,KyuremWhite Kyurem,Dragon,Ice,125,120,90,170,100,95,5,TRUE\\r\\n647,KeldeoOrdinary Forme,Water,Fighting,91,72,90,129,90,108,5,FALSE\\r\\n647,KeldeoResolute Forme,Water,Fighting,91,72,90,129,90,108,5,FALSE\\r\\n648,MeloettaAria Forme,Normal,Psychic,100,77,77,128,128,90,5,FALSE\\r\\n648,MeloettaPirouette Forme,Normal,Fighting,100,128,90,77,77,128,5,FALSE\\r\\n649,Genesect,Bug,Steel,71,120,95,120,95,99,5,FALSE\\r\\n650,Chespin,Grass,,56,61,65,48,45,38,6,FALSE\\r\\n651,Quilladin,Grass,,61,78,95,56,58,57,6,FALSE\\r\\n652,Chesnaught,Grass,Fighting,88,107,122,74,75,64,6,FALSE\\r\\n653,Fennekin,Fire,,40,45,40,62,60,60,6,FALSE\\r\\n654,Braixen,Fire,,59,59,58,90,70,73,6,FALSE\\r\\n655,Delphox,Fire,Psychic,75,69,72,114,100,104,6,FALSE\\r\\n656,Froakie,Water,,41,56,40,62,44,71,6,FALSE\\r\\n657,Frogadier,Water,,54,63,52,83,56,97,6,FALSE\\r\\n658,Greninja,Water,Dark,72,95,67,103,71,122,6,FALSE\\r\\n659,Bunnelby,Normal,,38,36,38,32,36,57,6,FALSE\\r\\n660,Diggersby,Normal,Ground,85,56,77,50,77,78,6,FALSE\\r\\n661,Fletchling,Normal,Flying,45,50,43,40,38,62,6,FALSE\\r\\n662,Fletchinder,Fire,Flying,62,73,55,56,52,84,6,FALSE\\r\\n663,Talonflame,Fire,Flying,78,81,71,74,69,126,6,FALSE\\r\\n664,Scatterbug,Bug,,38,35,40,27,25,35,6,FALSE\\r\\n665,Spewpa,Bug,,45,22,60,27,30,29,6,FALSE\\r\\n666,Vivillon,Bug,Flying,80,52,50,90,50,89,6,FALSE\\r\\n667,Litleo,Fire,Normal,62,50,58,73,54,72,6,FALSE\\r\\n668,Pyroar,Fire,Normal,86,68,72,109,66,106,6,FALSE\\r\\n669,Flab\\xc3\\xa9b\\xc3\\xa9,Fairy,,44,38,39,61,79,42,6,FALSE\\r\\n670,Floette,Fairy,,54,45,47,75,98,52,6,FALSE\\r\\n671,Florges,Fairy,,78,65,68,112,154,75,6,FALSE\\r\\n672,Skiddo,Grass,,66,65,48,62,57,52,6,FALSE\\r\\n673,Gogoat,Grass,,123,100,62,97,81,68,6,FALSE\\r\\n674,Pancham,Fighting,,67,82,62,46,48,43,6,FALSE\\r\\n675,Pangoro,Fighting,Dark,95,124,78,69,71,58,6,FALSE\\r\\n676,Furfrou,Normal,,75,80,60,65,90,102,6,FALSE\\r\\n677,Espurr,Psychic,,62,48,54,63,60,68,6,FALSE\\r\\n678,MeowsticMale,Psychic,,74,48,76,83,81,104,6,FALSE\\r\\n678,MeowsticFemale,Psychic,,74,48,76,83,81,104,6,FALSE\\r\\n679,Honedge,Steel,Ghost,45,80,100,35,37,28,6,FALSE\\r\\n680,Doublade,Steel,Ghost,59,110,150,45,49,35,6,FALSE\\r\\n681,AegislashBlade Forme,Steel,Ghost,60,150,50,150,50,60,6,FALSE\\r\\n681,AegislashShield Forme,Steel,Ghost,60,50,150,50,150,60,6,FALSE\\r\\n682,Spritzee,Fairy,,78,52,60,63,65,23,6,FALSE\\r\\n683,Aromatisse,Fairy,,101,72,72,99,89,29,6,FALSE\\r\\n684,Swirlix,Fairy,,62,48,66,59,57,49,6,FALSE\\r\\n685,Slurpuff,Fairy,,82,80,86,85,75,72,6,FALSE\\r\\n686,Inkay,Dark,Psychic,53,54,53,37,46,45,6,FALSE\\r\\n687,Malamar,Dark,Psychic,86,92,88,68,75,73,6,FALSE\\r\\n688,Binacle,Rock,Water,42,52,67,39,56,50,6,FALSE\\r\\n689,Barbaracle,Rock,Water,72,105,115,54,86,68,6,FALSE\\r\\n690,Skrelp,Poison,Water,50,60,60,60,60,30,6,FALSE\\r\\n691,Dragalge,Poison,Dragon,65,75,90,97,123,44,6,FALSE\\r\\n692,Clauncher,Water,,50,53,62,58,63,44,6,FALSE\\r\\n693,Clawitzer,Water,,71,73,88,120,89,59,6,FALSE\\r\\n694,Helioptile,Electric,Normal,44,38,33,61,43,70,6,FALSE\\r\\n695,Heliolisk,Electric,Normal,62,55,52,109,94,109,6,FALSE\\r\\n696,Tyrunt,Rock,Dragon,58,89,77,45,45,48,6,FALSE\\r\\n697,Tyrantrum,Rock,Dragon,82,121,119,69,59,71,6,FALSE\\r\\n698,Amaura,Rock,Ice,77,59,50,67,63,46,6,FALSE\\r\\n699,Aurorus,Rock,Ice,123,77,72,99,92,58,6,FALSE\\r\\n700,Sylveon,Fairy,,95,65,65,110,130,60,6,FALSE\\r\\n701,Hawlucha,Fighting,Flying,78,92,75,74,63,118,6,FALSE\\r\\n702,Dedenne,Electric,Fairy,67,58,57,81,67,101,6,FALSE\\r\\n703,Carbink,Rock,Fairy,50,50,150,50,150,50,6,FALSE\\r\\n704,Goomy,Dragon,,45,50,35,55,75,40,6,FALSE\\r\\n705,Sliggoo,Dragon,,68,75,53,83,113,60,6,FALSE\\r\\n706,Goodra,Dragon,,90,100,70,110,150,80,6,FALSE\\r\\n707,Klefki,Steel,Fairy,57,80,91,80,87,75,6,FALSE\\r\\n708,Phantump,Ghost,Grass,43,70,48,50,60,38,6,FALSE\\r\\n709,Trevenant,Ghost,Grass,85,110,76,65,82,56,6,FALSE\\r\\n710,PumpkabooAverage Size,Ghost,Grass,49,66,70,44,55,51,6,FALSE\\r\\n710,PumpkabooSmall Size,Ghost,Grass,44,66,70,44,55,56,6,FALSE\\r\\n710,PumpkabooLarge Size,Ghost,Grass,54,66,70,44,55,46,6,FALSE\\r\\n710,PumpkabooSuper Size,Ghost,Grass,59,66,70,44,55,41,6,FALSE\\r\\n711,GourgeistAverage Size,Ghost,Grass,65,90,122,58,75,84,6,FALSE\\r\\n711,GourgeistSmall Size,Ghost,Grass,55,85,122,58,75,99,6,FALSE\\r\\n711,GourgeistLarge Size,Ghost,Grass,75,95,122,58,75,69,6,FALSE\\r\\n711,GourgeistSuper Size,Ghost,Grass,85,100,122,58,75,54,6,FALSE\\r\\n712,Bergmite,Ice,,55,69,85,32,35,28,6,FALSE\\r\\n713,Avalugg,Ice,,95,117,184,44,46,28,6,FALSE\\r\\n714,Noibat,Flying,Dragon,40,30,35,45,40,55,6,FALSE\\r\\n715,Noivern,Flying,Dragon,85,70,80,97,80,123,6,FALSE\\r\\n716,Xerneas,Fairy,,126,131,95,131,98,99,6,TRUE\\r\\n717,Yveltal,Dark,Flying,126,131,95,131,98,99,6,TRUE\\r\\n718,Zygarde50% Forme,Dragon,Ground,108,100,121,81,95,95,6,TRUE\\r\\n719,Diancie,Rock,Fairy,50,100,150,100,150,50,6,TRUE\\r\\n719,DiancieMega Diancie,Rock,Fairy,50,160,110,160,110,110,6,TRUE\\r\\n720,HoopaHoopa Confined,Psychic,Ghost,80,110,60,150,130,70,6,TRUE\\r\\n720,HoopaHoopa Unbound,Psychic,Dark,80,160,60,170,130,80,6,TRUE\\r\\n721,Volcanion,Fire,Water,80,110,120,130,90,70,6,TRUE\\r\\n\"}"
      ]
     },
     "execution_count": 2,
     "metadata": {
      "tags": []
     },
     "output_type": "execute_result"
    }
   ],
   "source": [
    "#Uploading a file\n",
    "from google.colab import files\n",
    "files.upload()"
   ]
  },
  {
   "cell_type": "markdown",
   "metadata": {
    "id": "nlFmTvNp2A56"
   },
   "source": [
    "#Initialization"
   ]
  },
  {
   "cell_type": "code",
   "execution_count": 3,
   "metadata": {
    "colab": {
     "base_uri": "https://localhost:8080/"
    },
    "executionInfo": {
     "elapsed": 343,
     "status": "ok",
     "timestamp": 1615398161004,
     "user": {
      "displayName": "Vishnu Thakral",
      "photoUrl": "https://lh3.googleusercontent.com/a-/AOh14GgyAu0mm-tnCylneImfU3839AzfB7N174RUH66dRg=s64",
      "userId": "15080390568209116376"
     },
     "user_tz": 300
    },
    "id": "M5SG6f8mQiaS",
    "outputId": "6a80214d-a099-42e7-f91c-4d7d82c3d659"
   },
   "outputs": [
    {
     "data": {
      "text/plain": [
       "0    1.0\n",
       "1    2.0\n",
       "2    3.0\n",
       "dtype: float64"
      ]
     },
     "execution_count": 3,
     "metadata": {
      "tags": []
     },
     "output_type": "execute_result"
    }
   ],
   "source": [
    "#Series initialization\n",
    "a = pd.Series([1, 2, 3.0])\n",
    "a"
   ]
  },
  {
   "cell_type": "markdown",
   "metadata": {
    "id": "mtUYGOY_03HB"
   },
   "source": [
    "Dataframe can be initialized from \n",
    "<br> a) lists \n",
    "<br> b) Dictionaries\n"
   ]
  },
  {
   "cell_type": "code",
   "execution_count": 4,
   "metadata": {
    "colab": {
     "base_uri": "https://localhost:8080/"
    },
    "executionInfo": {
     "elapsed": 345,
     "status": "ok",
     "timestamp": 1615398163508,
     "user": {
      "displayName": "Vishnu Thakral",
      "photoUrl": "https://lh3.googleusercontent.com/a-/AOh14GgyAu0mm-tnCylneImfU3839AzfB7N174RUH66dRg=s64",
      "userId": "15080390568209116376"
     },
     "user_tz": 300
    },
    "id": "SypqZvC0x1jP",
    "outputId": "640145c4-8fda-4162-9aa8-95ea52ec59c6"
   },
   "outputs": [
    {
     "name": "stdout",
     "output_type": "stream",
     "text": [
      "Data passed as list\n",
      "      0   1\n",
      "0  May1  32\n",
      "1  May2  35\n",
      "2  May3  40\n",
      "3  May4  50\n"
     ]
    }
   ],
   "source": [
    "print('Data passed as list')\n",
    "df_list = pd.DataFrame([['May1',32],['May2',35],['May3',40],['May4',50]])\n",
    "print(df_list)"
   ]
  },
  {
   "cell_type": "code",
   "execution_count": 5,
   "metadata": {
    "colab": {
     "base_uri": "https://localhost:8080/"
    },
    "executionInfo": {
     "elapsed": 406,
     "status": "ok",
     "timestamp": 1615398165016,
     "user": {
      "displayName": "Vishnu Thakral",
      "photoUrl": "https://lh3.googleusercontent.com/a-/AOh14GgyAu0mm-tnCylneImfU3839AzfB7N174RUH66dRg=s64",
      "userId": "15080390568209116376"
     },
     "user_tz": 300
    },
    "id": "WjJujRbFI61l",
    "outputId": "1f6eaae0-b13d-425b-f49c-b896f5cf4520"
   },
   "outputs": [
    {
     "name": "stdout",
     "output_type": "stream",
     "text": [
      "Data passed as dictionary\n",
      "     A    B\n",
      "0  1.0  4.0\n",
      "1  2.0  5.0\n",
      "2  3.0  6.0\n"
     ]
    }
   ],
   "source": [
    "print('Data passed as dictionary')\n",
    "df_dict = pd.DataFrame({\"A\": [1, 2, 3], \"B\": [4, 5, 6]},dtype = float)\n",
    "print(df_dict)"
   ]
  },
  {
   "cell_type": "markdown",
   "metadata": {
    "id": "tFgW0zxuK0tV"
   },
   "source": [
    "#Column and Indexes\n",
    "In case of dictionary the keys would act as columns but in lists, the column names if not specified will start as '0'-1st column, '1'-2nd Column and so on. <br> The left most part of the dataframe is called as index, it's starts default with index 0"
   ]
  },
  {
   "cell_type": "code",
   "execution_count": 6,
   "metadata": {
    "colab": {
     "base_uri": "https://localhost:8080/"
    },
    "executionInfo": {
     "elapsed": 789,
     "status": "ok",
     "timestamp": 1615398167906,
     "user": {
      "displayName": "Vishnu Thakral",
      "photoUrl": "https://lh3.googleusercontent.com/a-/AOh14GgyAu0mm-tnCylneImfU3839AzfB7N174RUH66dRg=s64",
      "userId": "15080390568209116376"
     },
     "user_tz": 300
    },
    "id": "b7Z3Dd0yyH_U",
    "outputId": "603cd096-0b01-4f96-d95e-005875d58e62"
   },
   "outputs": [
    {
     "name": "stdout",
     "output_type": "stream",
     "text": [
      "Index(['A', 'B'], dtype='object')\n"
     ]
    }
   ],
   "source": [
    "#Listing the columns\n",
    "print(df_dict.columns)"
   ]
  },
  {
   "cell_type": "code",
   "execution_count": 7,
   "metadata": {
    "colab": {
     "base_uri": "https://localhost:8080/",
     "height": 136
    },
    "executionInfo": {
     "elapsed": 737,
     "status": "ok",
     "timestamp": 1615398169314,
     "user": {
      "displayName": "Vishnu Thakral",
      "photoUrl": "https://lh3.googleusercontent.com/a-/AOh14GgyAu0mm-tnCylneImfU3839AzfB7N174RUH66dRg=s64",
      "userId": "15080390568209116376"
     },
     "user_tz": 300
    },
    "id": "k1EnkbBh3dM4",
    "outputId": "ea17957e-e90d-4901-f62b-0815b772a0a4"
   },
   "outputs": [
    {
     "data": {
      "text/html": [
       "<div>\n",
       "<style scoped>\n",
       "    .dataframe tbody tr th:only-of-type {\n",
       "        vertical-align: middle;\n",
       "    }\n",
       "\n",
       "    .dataframe tbody tr th {\n",
       "        vertical-align: top;\n",
       "    }\n",
       "\n",
       "    .dataframe thead th {\n",
       "        text-align: right;\n",
       "    }\n",
       "</style>\n",
       "<table border=\"1\" class=\"dataframe\">\n",
       "  <thead>\n",
       "    <tr style=\"text-align: right;\">\n",
       "      <th></th>\n",
       "      <th>A</th>\n",
       "      <th>B</th>\n",
       "    </tr>\n",
       "  </thead>\n",
       "  <tbody>\n",
       "    <tr>\n",
       "      <th>0</th>\n",
       "      <td>1.0</td>\n",
       "      <td>4.0</td>\n",
       "    </tr>\n",
       "    <tr>\n",
       "      <th>1</th>\n",
       "      <td>2.0</td>\n",
       "      <td>5.0</td>\n",
       "    </tr>\n",
       "    <tr>\n",
       "      <th>2</th>\n",
       "      <td>3.0</td>\n",
       "      <td>6.0</td>\n",
       "    </tr>\n",
       "  </tbody>\n",
       "</table>\n",
       "</div>"
      ],
      "text/plain": [
       "     A    B\n",
       "0  1.0  4.0\n",
       "1  2.0  5.0\n",
       "2  3.0  6.0"
      ]
     },
     "execution_count": 7,
     "metadata": {
      "tags": []
     },
     "output_type": "execute_result"
    }
   ],
   "source": [
    "#rename columns\n",
    "df_dict.rename(columns={'A':'a'}) \n",
    "# inplace by default is false\n",
    "# if inplace = True is not set then the changes are not made on the original df but only a temp df is made with changes\n",
    "df_dict"
   ]
  },
  {
   "cell_type": "code",
   "execution_count": 8,
   "metadata": {
    "colab": {
     "base_uri": "https://localhost:8080/",
     "height": 136
    },
    "executionInfo": {
     "elapsed": 342,
     "status": "ok",
     "timestamp": 1615398170776,
     "user": {
      "displayName": "Vishnu Thakral",
      "photoUrl": "https://lh3.googleusercontent.com/a-/AOh14GgyAu0mm-tnCylneImfU3839AzfB7N174RUH66dRg=s64",
      "userId": "15080390568209116376"
     },
     "user_tz": 300
    },
    "id": "ictbPRBuQCw-",
    "outputId": "eba86562-ae9a-4231-f4e7-939af8215448"
   },
   "outputs": [
    {
     "data": {
      "text/html": [
       "<div>\n",
       "<style scoped>\n",
       "    .dataframe tbody tr th:only-of-type {\n",
       "        vertical-align: middle;\n",
       "    }\n",
       "\n",
       "    .dataframe tbody tr th {\n",
       "        vertical-align: top;\n",
       "    }\n",
       "\n",
       "    .dataframe thead th {\n",
       "        text-align: right;\n",
       "    }\n",
       "</style>\n",
       "<table border=\"1\" class=\"dataframe\">\n",
       "  <thead>\n",
       "    <tr style=\"text-align: right;\">\n",
       "      <th></th>\n",
       "      <th>c</th>\n",
       "      <th>B</th>\n",
       "    </tr>\n",
       "  </thead>\n",
       "  <tbody>\n",
       "    <tr>\n",
       "      <th>0</th>\n",
       "      <td>1.0</td>\n",
       "      <td>4.0</td>\n",
       "    </tr>\n",
       "    <tr>\n",
       "      <th>1</th>\n",
       "      <td>2.0</td>\n",
       "      <td>5.0</td>\n",
       "    </tr>\n",
       "    <tr>\n",
       "      <th>2</th>\n",
       "      <td>3.0</td>\n",
       "      <td>6.0</td>\n",
       "    </tr>\n",
       "  </tbody>\n",
       "</table>\n",
       "</div>"
      ],
      "text/plain": [
       "     c    B\n",
       "0  1.0  4.0\n",
       "1  2.0  5.0\n",
       "2  3.0  6.0"
      ]
     },
     "execution_count": 8,
     "metadata": {
      "tags": []
     },
     "output_type": "execute_result"
    }
   ],
   "source": [
    "# changes made for original df\n",
    "df_dict.rename(columns={'A':'c'},inplace=True)\n",
    "df_dict"
   ]
  },
  {
   "cell_type": "code",
   "execution_count": 9,
   "metadata": {
    "colab": {
     "base_uri": "https://localhost:8080/",
     "height": 136
    },
    "executionInfo": {
     "elapsed": 391,
     "status": "ok",
     "timestamp": 1615398172757,
     "user": {
      "displayName": "Vishnu Thakral",
      "photoUrl": "https://lh3.googleusercontent.com/a-/AOh14GgyAu0mm-tnCylneImfU3839AzfB7N174RUH66dRg=s64",
      "userId": "15080390568209116376"
     },
     "user_tz": 300
    },
    "id": "u0kahjCByN0S",
    "outputId": "7ee14617-6c44-4f13-daa5-bac74d6d3d8c"
   },
   "outputs": [
    {
     "data": {
      "text/html": [
       "<div>\n",
       "<style scoped>\n",
       "    .dataframe tbody tr th:only-of-type {\n",
       "        vertical-align: middle;\n",
       "    }\n",
       "\n",
       "    .dataframe tbody tr th {\n",
       "        vertical-align: top;\n",
       "    }\n",
       "\n",
       "    .dataframe thead th {\n",
       "        text-align: right;\n",
       "    }\n",
       "</style>\n",
       "<table border=\"1\" class=\"dataframe\">\n",
       "  <thead>\n",
       "    <tr style=\"text-align: right;\">\n",
       "      <th></th>\n",
       "      <th>a</th>\n",
       "      <th>b</th>\n",
       "    </tr>\n",
       "  </thead>\n",
       "  <tbody>\n",
       "    <tr>\n",
       "      <th>0</th>\n",
       "      <td>1.0</td>\n",
       "      <td>4.0</td>\n",
       "    </tr>\n",
       "    <tr>\n",
       "      <th>1</th>\n",
       "      <td>2.0</td>\n",
       "      <td>5.0</td>\n",
       "    </tr>\n",
       "    <tr>\n",
       "      <th>2</th>\n",
       "      <td>3.0</td>\n",
       "      <td>6.0</td>\n",
       "    </tr>\n",
       "  </tbody>\n",
       "</table>\n",
       "</div>"
      ],
      "text/plain": [
       "     a    b\n",
       "0  1.0  4.0\n",
       "1  2.0  5.0\n",
       "2  3.0  6.0"
      ]
     },
     "execution_count": 9,
     "metadata": {
      "tags": []
     },
     "output_type": "execute_result"
    }
   ],
   "source": [
    "# Reset column names\n",
    "# Tip: remeber to pass the entire list in this case\n",
    "df_dict.columns = ['a','b']\n",
    "df_dict.head()"
   ]
  },
  {
   "cell_type": "code",
   "execution_count": 10,
   "metadata": {
    "colab": {
     "base_uri": "https://localhost:8080/",
     "height": 166
    },
    "executionInfo": {
     "elapsed": 338,
     "status": "ok",
     "timestamp": 1615398174702,
     "user": {
      "displayName": "Vishnu Thakral",
      "photoUrl": "https://lh3.googleusercontent.com/a-/AOh14GgyAu0mm-tnCylneImfU3839AzfB7N174RUH66dRg=s64",
      "userId": "15080390568209116376"
     },
     "user_tz": 300
    },
    "id": "HeTawFQuLrvT",
    "outputId": "84b55f7a-abfd-4227-fea6-78a3c4841144"
   },
   "outputs": [
    {
     "data": {
      "text/html": [
       "<div>\n",
       "<style scoped>\n",
       "    .dataframe tbody tr th:only-of-type {\n",
       "        vertical-align: middle;\n",
       "    }\n",
       "\n",
       "    .dataframe tbody tr th {\n",
       "        vertical-align: top;\n",
       "    }\n",
       "\n",
       "    .dataframe thead th {\n",
       "        text-align: right;\n",
       "    }\n",
       "</style>\n",
       "<table border=\"1\" class=\"dataframe\">\n",
       "  <thead>\n",
       "    <tr style=\"text-align: right;\">\n",
       "      <th></th>\n",
       "      <th>May</th>\n",
       "      <th>Temperature</th>\n",
       "    </tr>\n",
       "  </thead>\n",
       "  <tbody>\n",
       "    <tr>\n",
       "      <th>Day1</th>\n",
       "      <td>May1</td>\n",
       "      <td>32</td>\n",
       "    </tr>\n",
       "    <tr>\n",
       "      <th>Day2</th>\n",
       "      <td>May2</td>\n",
       "      <td>35</td>\n",
       "    </tr>\n",
       "    <tr>\n",
       "      <th>Day3</th>\n",
       "      <td>May3</td>\n",
       "      <td>40</td>\n",
       "    </tr>\n",
       "    <tr>\n",
       "      <th>Day4</th>\n",
       "      <td>May4</td>\n",
       "      <td>50</td>\n",
       "    </tr>\n",
       "  </tbody>\n",
       "</table>\n",
       "</div>"
      ],
      "text/plain": [
       "       May  Temperature\n",
       "Day1  May1           32\n",
       "Day2  May2           35\n",
       "Day3  May3           40\n",
       "Day4  May4           50"
      ]
     },
     "execution_count": 10,
     "metadata": {
      "tags": []
     },
     "output_type": "execute_result"
    }
   ],
   "source": [
    "#defining columns, index during dataframe creation\n",
    "df_temp = pd.DataFrame([['May1',32],['May2',35],['May3',40],['May4',50]],index = ['Day1','Day2','Day3','Day4'],columns = ['May','Temperature'])\n",
    "df_temp"
   ]
  },
  {
   "cell_type": "markdown",
   "metadata": {
    "id": "z_9F7dnkktL1"
   },
   "source": [
    "reset_index: To drop index and bring pandas default sequential form of 0,1..."
   ]
  },
  {
   "cell_type": "code",
   "execution_count": 11,
   "metadata": {
    "colab": {
     "base_uri": "https://localhost:8080/",
     "height": 166
    },
    "executionInfo": {
     "elapsed": 865,
     "status": "ok",
     "timestamp": 1615398179547,
     "user": {
      "displayName": "Vishnu Thakral",
      "photoUrl": "https://lh3.googleusercontent.com/a-/AOh14GgyAu0mm-tnCylneImfU3839AzfB7N174RUH66dRg=s64",
      "userId": "15080390568209116376"
     },
     "user_tz": 300
    },
    "id": "kWrbtZkuloVT",
    "outputId": "3712833f-51d8-4102-bacc-e96ca50b06c4"
   },
   "outputs": [
    {
     "data": {
      "text/html": [
       "<div>\n",
       "<style scoped>\n",
       "    .dataframe tbody tr th:only-of-type {\n",
       "        vertical-align: middle;\n",
       "    }\n",
       "\n",
       "    .dataframe tbody tr th {\n",
       "        vertical-align: top;\n",
       "    }\n",
       "\n",
       "    .dataframe thead th {\n",
       "        text-align: right;\n",
       "    }\n",
       "</style>\n",
       "<table border=\"1\" class=\"dataframe\">\n",
       "  <thead>\n",
       "    <tr style=\"text-align: right;\">\n",
       "      <th></th>\n",
       "      <th>May</th>\n",
       "      <th>Temperature</th>\n",
       "    </tr>\n",
       "  </thead>\n",
       "  <tbody>\n",
       "    <tr>\n",
       "      <th>0</th>\n",
       "      <td>May1</td>\n",
       "      <td>32</td>\n",
       "    </tr>\n",
       "    <tr>\n",
       "      <th>1</th>\n",
       "      <td>May2</td>\n",
       "      <td>35</td>\n",
       "    </tr>\n",
       "    <tr>\n",
       "      <th>2</th>\n",
       "      <td>May3</td>\n",
       "      <td>40</td>\n",
       "    </tr>\n",
       "    <tr>\n",
       "      <th>3</th>\n",
       "      <td>May4</td>\n",
       "      <td>50</td>\n",
       "    </tr>\n",
       "  </tbody>\n",
       "</table>\n",
       "</div>"
      ],
      "text/plain": [
       "    May  Temperature\n",
       "0  May1           32\n",
       "1  May2           35\n",
       "2  May3           40\n",
       "3  May4           50"
      ]
     },
     "execution_count": 11,
     "metadata": {
      "tags": []
     },
     "output_type": "execute_result"
    }
   ],
   "source": [
    "df_temp.reset_index(drop=True,inplace=False)\n",
    "# Here drop=True means we want to drop the original index we have and reset to default value"
   ]
  },
  {
   "cell_type": "code",
   "execution_count": 12,
   "metadata": {
    "colab": {
     "base_uri": "https://localhost:8080/",
     "height": 195
    },
    "executionInfo": {
     "elapsed": 430,
     "status": "ok",
     "timestamp": 1615398216259,
     "user": {
      "displayName": "Vishnu Thakral",
      "photoUrl": "https://lh3.googleusercontent.com/a-/AOh14GgyAu0mm-tnCylneImfU3839AzfB7N174RUH66dRg=s64",
      "userId": "15080390568209116376"
     },
     "user_tz": 300
    },
    "id": "8EkObIsGMzSK",
    "outputId": "00abe8b5-5bc4-4d0a-db77-ef65c74ef005"
   },
   "outputs": [
    {
     "data": {
      "text/html": [
       "<div>\n",
       "<style scoped>\n",
       "    .dataframe tbody tr th:only-of-type {\n",
       "        vertical-align: middle;\n",
       "    }\n",
       "\n",
       "    .dataframe tbody tr th {\n",
       "        vertical-align: top;\n",
       "    }\n",
       "\n",
       "    .dataframe thead th {\n",
       "        text-align: right;\n",
       "    }\n",
       "</style>\n",
       "<table border=\"1\" class=\"dataframe\">\n",
       "  <thead>\n",
       "    <tr style=\"text-align: right;\">\n",
       "      <th></th>\n",
       "      <th>Temperature</th>\n",
       "    </tr>\n",
       "    <tr>\n",
       "      <th>May</th>\n",
       "      <th></th>\n",
       "    </tr>\n",
       "  </thead>\n",
       "  <tbody>\n",
       "    <tr>\n",
       "      <th>May1</th>\n",
       "      <td>32</td>\n",
       "    </tr>\n",
       "    <tr>\n",
       "      <th>May2</th>\n",
       "      <td>35</td>\n",
       "    </tr>\n",
       "    <tr>\n",
       "      <th>May3</th>\n",
       "      <td>40</td>\n",
       "    </tr>\n",
       "    <tr>\n",
       "      <th>May4</th>\n",
       "      <td>50</td>\n",
       "    </tr>\n",
       "  </tbody>\n",
       "</table>\n",
       "</div>"
      ],
      "text/plain": [
       "      Temperature\n",
       "May              \n",
       "May1           32\n",
       "May2           35\n",
       "May3           40\n",
       "May4           50"
      ]
     },
     "execution_count": 12,
     "metadata": {
      "tags": []
     },
     "output_type": "execute_result"
    }
   ],
   "source": [
    "#We can also make a column as index\n",
    "df_temp = pd.DataFrame([['May1',32],['May2',35],['May3',40],['May4',50]],columns = ['May','Temperature'])\n",
    "df_temp.set_index('May')"
   ]
  },
  {
   "cell_type": "markdown",
   "metadata": {
    "id": "dNqsFnZjNFuU"
   },
   "source": [
    "Q. What are the columns/index of df_temp after the above code is executed?"
   ]
  },
  {
   "cell_type": "code",
   "execution_count": 13,
   "metadata": {
    "colab": {
     "base_uri": "https://localhost:8080/",
     "height": 225
    },
    "executionInfo": {
     "elapsed": 487,
     "status": "ok",
     "timestamp": 1615398219643,
     "user": {
      "displayName": "Vishnu Thakral",
      "photoUrl": "https://lh3.googleusercontent.com/a-/AOh14GgyAu0mm-tnCylneImfU3839AzfB7N174RUH66dRg=s64",
      "userId": "15080390568209116376"
     },
     "user_tz": 300
    },
    "id": "lf0os2skOiJD",
    "outputId": "72981de3-709e-4b8e-9ad0-f6a3b0a9a542"
   },
   "outputs": [
    {
     "data": {
      "text/html": [
       "<div>\n",
       "<style scoped>\n",
       "    .dataframe tbody tr th:only-of-type {\n",
       "        vertical-align: middle;\n",
       "    }\n",
       "\n",
       "    .dataframe tbody tr th {\n",
       "        vertical-align: top;\n",
       "    }\n",
       "\n",
       "    .dataframe thead th {\n",
       "        text-align: right;\n",
       "    }\n",
       "</style>\n",
       "<table border=\"1\" class=\"dataframe\">\n",
       "  <thead>\n",
       "    <tr style=\"text-align: right;\">\n",
       "      <th></th>\n",
       "      <th>Name</th>\n",
       "      <th>Type 1</th>\n",
       "      <th>Type 2</th>\n",
       "      <th>HP</th>\n",
       "      <th>Attack</th>\n",
       "      <th>Defense</th>\n",
       "      <th>Sp. Atk</th>\n",
       "      <th>Sp. Def</th>\n",
       "      <th>Speed</th>\n",
       "      <th>Generation</th>\n",
       "      <th>Legendary</th>\n",
       "    </tr>\n",
       "    <tr>\n",
       "      <th>#</th>\n",
       "      <th></th>\n",
       "      <th></th>\n",
       "      <th></th>\n",
       "      <th></th>\n",
       "      <th></th>\n",
       "      <th></th>\n",
       "      <th></th>\n",
       "      <th></th>\n",
       "      <th></th>\n",
       "      <th></th>\n",
       "      <th></th>\n",
       "    </tr>\n",
       "  </thead>\n",
       "  <tbody>\n",
       "    <tr>\n",
       "      <th>1</th>\n",
       "      <td>Bulbasaur</td>\n",
       "      <td>Grass</td>\n",
       "      <td>Poison</td>\n",
       "      <td>45</td>\n",
       "      <td>49</td>\n",
       "      <td>49</td>\n",
       "      <td>65</td>\n",
       "      <td>65</td>\n",
       "      <td>45</td>\n",
       "      <td>1</td>\n",
       "      <td>False</td>\n",
       "    </tr>\n",
       "    <tr>\n",
       "      <th>2</th>\n",
       "      <td>Ivysaur</td>\n",
       "      <td>Grass</td>\n",
       "      <td>Poison</td>\n",
       "      <td>60</td>\n",
       "      <td>62</td>\n",
       "      <td>63</td>\n",
       "      <td>80</td>\n",
       "      <td>80</td>\n",
       "      <td>60</td>\n",
       "      <td>1</td>\n",
       "      <td>False</td>\n",
       "    </tr>\n",
       "    <tr>\n",
       "      <th>3</th>\n",
       "      <td>Venusaur</td>\n",
       "      <td>Grass</td>\n",
       "      <td>Poison</td>\n",
       "      <td>80</td>\n",
       "      <td>82</td>\n",
       "      <td>83</td>\n",
       "      <td>100</td>\n",
       "      <td>100</td>\n",
       "      <td>80</td>\n",
       "      <td>1</td>\n",
       "      <td>False</td>\n",
       "    </tr>\n",
       "    <tr>\n",
       "      <th>3</th>\n",
       "      <td>VenusaurMega Venusaur</td>\n",
       "      <td>Grass</td>\n",
       "      <td>Poison</td>\n",
       "      <td>80</td>\n",
       "      <td>100</td>\n",
       "      <td>123</td>\n",
       "      <td>122</td>\n",
       "      <td>120</td>\n",
       "      <td>80</td>\n",
       "      <td>1</td>\n",
       "      <td>False</td>\n",
       "    </tr>\n",
       "    <tr>\n",
       "      <th>4</th>\n",
       "      <td>Charmander</td>\n",
       "      <td>Fire</td>\n",
       "      <td>NaN</td>\n",
       "      <td>39</td>\n",
       "      <td>52</td>\n",
       "      <td>43</td>\n",
       "      <td>60</td>\n",
       "      <td>50</td>\n",
       "      <td>65</td>\n",
       "      <td>1</td>\n",
       "      <td>False</td>\n",
       "    </tr>\n",
       "  </tbody>\n",
       "</table>\n",
       "</div>"
      ],
      "text/plain": [
       "                    Name Type 1  Type 2  ...  Speed  Generation  Legendary\n",
       "#                                        ...                              \n",
       "1              Bulbasaur  Grass  Poison  ...     45           1      False\n",
       "2                Ivysaur  Grass  Poison  ...     60           1      False\n",
       "3               Venusaur  Grass  Poison  ...     80           1      False\n",
       "3  VenusaurMega Venusaur  Grass  Poison  ...     80           1      False\n",
       "4             Charmander   Fire     NaN  ...     65           1      False\n",
       "\n",
       "[5 rows x 11 columns]"
      ]
     },
     "execution_count": 13,
     "metadata": {
      "tags": []
     },
     "output_type": "execute_result"
    }
   ],
   "source": [
    "# Reading data from a csv file\n",
    "#index_col describes which column we want to set as the index\n",
    "#head function is used to print first n rows of the dataframe, here n=10 in our case\n",
    "pokemon_data = pd.read_csv('pokemon_data.csv',index_col = 0)\n",
    "pokemon_data.head(5)"
   ]
  },
  {
   "cell_type": "markdown",
   "metadata": {
    "id": "kWZ2kI0wx7s4"
   },
   "source": [
    "Q. In the above pokemon data, index does not start from 0, reset the index for it inplace."
   ]
  },
  {
   "cell_type": "code",
   "execution_count": null,
   "metadata": {
    "id": "i45xLTFcyEIy"
   },
   "outputs": [],
   "source": [
    "#Ans"
   ]
  },
  {
   "cell_type": "markdown",
   "metadata": {
    "id": "ZGs3Taj_QW_n"
   },
   "source": [
    "# Basic Data Statistics"
   ]
  },
  {
   "cell_type": "code",
   "execution_count": 14,
   "metadata": {
    "colab": {
     "base_uri": "https://localhost:8080/",
     "height": 284
    },
    "executionInfo": {
     "elapsed": 516,
     "status": "ok",
     "timestamp": 1615398227252,
     "user": {
      "displayName": "Vishnu Thakral",
      "photoUrl": "https://lh3.googleusercontent.com/a-/AOh14GgyAu0mm-tnCylneImfU3839AzfB7N174RUH66dRg=s64",
      "userId": "15080390568209116376"
     },
     "user_tz": 300
    },
    "id": "y74v775COMvs",
    "outputId": "2e741c50-a220-4154-f5b3-079217526702"
   },
   "outputs": [
    {
     "data": {
      "text/html": [
       "<div>\n",
       "<style scoped>\n",
       "    .dataframe tbody tr th:only-of-type {\n",
       "        vertical-align: middle;\n",
       "    }\n",
       "\n",
       "    .dataframe tbody tr th {\n",
       "        vertical-align: top;\n",
       "    }\n",
       "\n",
       "    .dataframe thead th {\n",
       "        text-align: right;\n",
       "    }\n",
       "</style>\n",
       "<table border=\"1\" class=\"dataframe\">\n",
       "  <thead>\n",
       "    <tr style=\"text-align: right;\">\n",
       "      <th></th>\n",
       "      <th>HP</th>\n",
       "      <th>Attack</th>\n",
       "      <th>Defense</th>\n",
       "      <th>Sp. Atk</th>\n",
       "      <th>Sp. Def</th>\n",
       "      <th>Speed</th>\n",
       "      <th>Generation</th>\n",
       "    </tr>\n",
       "  </thead>\n",
       "  <tbody>\n",
       "    <tr>\n",
       "      <th>count</th>\n",
       "      <td>800.000000</td>\n",
       "      <td>800.000000</td>\n",
       "      <td>800.000000</td>\n",
       "      <td>800.000000</td>\n",
       "      <td>800.000000</td>\n",
       "      <td>800.000000</td>\n",
       "      <td>800.00000</td>\n",
       "    </tr>\n",
       "    <tr>\n",
       "      <th>mean</th>\n",
       "      <td>69.258750</td>\n",
       "      <td>79.001250</td>\n",
       "      <td>73.842500</td>\n",
       "      <td>72.820000</td>\n",
       "      <td>71.902500</td>\n",
       "      <td>68.277500</td>\n",
       "      <td>3.32375</td>\n",
       "    </tr>\n",
       "    <tr>\n",
       "      <th>std</th>\n",
       "      <td>25.534669</td>\n",
       "      <td>32.457366</td>\n",
       "      <td>31.183501</td>\n",
       "      <td>32.722294</td>\n",
       "      <td>27.828916</td>\n",
       "      <td>29.060474</td>\n",
       "      <td>1.66129</td>\n",
       "    </tr>\n",
       "    <tr>\n",
       "      <th>min</th>\n",
       "      <td>1.000000</td>\n",
       "      <td>5.000000</td>\n",
       "      <td>5.000000</td>\n",
       "      <td>10.000000</td>\n",
       "      <td>20.000000</td>\n",
       "      <td>5.000000</td>\n",
       "      <td>1.00000</td>\n",
       "    </tr>\n",
       "    <tr>\n",
       "      <th>25%</th>\n",
       "      <td>50.000000</td>\n",
       "      <td>55.000000</td>\n",
       "      <td>50.000000</td>\n",
       "      <td>49.750000</td>\n",
       "      <td>50.000000</td>\n",
       "      <td>45.000000</td>\n",
       "      <td>2.00000</td>\n",
       "    </tr>\n",
       "    <tr>\n",
       "      <th>50%</th>\n",
       "      <td>65.000000</td>\n",
       "      <td>75.000000</td>\n",
       "      <td>70.000000</td>\n",
       "      <td>65.000000</td>\n",
       "      <td>70.000000</td>\n",
       "      <td>65.000000</td>\n",
       "      <td>3.00000</td>\n",
       "    </tr>\n",
       "    <tr>\n",
       "      <th>75%</th>\n",
       "      <td>80.000000</td>\n",
       "      <td>100.000000</td>\n",
       "      <td>90.000000</td>\n",
       "      <td>95.000000</td>\n",
       "      <td>90.000000</td>\n",
       "      <td>90.000000</td>\n",
       "      <td>5.00000</td>\n",
       "    </tr>\n",
       "    <tr>\n",
       "      <th>max</th>\n",
       "      <td>255.000000</td>\n",
       "      <td>190.000000</td>\n",
       "      <td>230.000000</td>\n",
       "      <td>194.000000</td>\n",
       "      <td>230.000000</td>\n",
       "      <td>180.000000</td>\n",
       "      <td>6.00000</td>\n",
       "    </tr>\n",
       "  </tbody>\n",
       "</table>\n",
       "</div>"
      ],
      "text/plain": [
       "               HP      Attack     Defense  ...     Sp. Def       Speed  Generation\n",
       "count  800.000000  800.000000  800.000000  ...  800.000000  800.000000   800.00000\n",
       "mean    69.258750   79.001250   73.842500  ...   71.902500   68.277500     3.32375\n",
       "std     25.534669   32.457366   31.183501  ...   27.828916   29.060474     1.66129\n",
       "min      1.000000    5.000000    5.000000  ...   20.000000    5.000000     1.00000\n",
       "25%     50.000000   55.000000   50.000000  ...   50.000000   45.000000     2.00000\n",
       "50%     65.000000   75.000000   70.000000  ...   70.000000   65.000000     3.00000\n",
       "75%     80.000000  100.000000   90.000000  ...   90.000000   90.000000     5.00000\n",
       "max    255.000000  190.000000  230.000000  ...  230.000000  180.000000     6.00000\n",
       "\n",
       "[8 rows x 7 columns]"
      ]
     },
     "execution_count": 14,
     "metadata": {
      "tags": []
     },
     "output_type": "execute_result"
    }
   ],
   "source": [
    "#describe function will compute basic statistics as shown below as for each column\n",
    "pokemon_data.describe()\n",
    "#Note: Stats are not calculated for object or string dtype"
   ]
  },
  {
   "cell_type": "code",
   "execution_count": 15,
   "metadata": {
    "colab": {
     "base_uri": "https://localhost:8080/"
    },
    "executionInfo": {
     "elapsed": 319,
     "status": "ok",
     "timestamp": 1615398229393,
     "user": {
      "displayName": "Vishnu Thakral",
      "photoUrl": "https://lh3.googleusercontent.com/a-/AOh14GgyAu0mm-tnCylneImfU3839AzfB7N174RUH66dRg=s64",
      "userId": "15080390568209116376"
     },
     "user_tz": 300
    },
    "id": "22P6z-1A2JK-",
    "outputId": "e92abaa3-99fe-4133-ac9b-af8aa602d747"
   },
   "outputs": [
    {
     "name": "stdout",
     "output_type": "stream",
     "text": [
      "Name          object\n",
      "Type 1        object\n",
      "Type 2        object\n",
      "HP             int64\n",
      "Attack         int64\n",
      "Defense        int64\n",
      "Sp. Atk        int64\n",
      "Sp. Def        int64\n",
      "Speed          int64\n",
      "Generation     int64\n",
      "Legendary       bool\n",
      "dtype: object\n"
     ]
    }
   ],
   "source": [
    "#Check the type of each column it will be Series datatype\n",
    "print(pokemon_data.dtypes)"
   ]
  },
  {
   "cell_type": "markdown",
   "metadata": {
    "id": "ces5XvyH5F1i"
   },
   "source": [
    "***value_counts***\n",
    "\n",
    "calculate occurences in a column\n",
    "\n",
    "return type is series object with index as category and counts as column"
   ]
  },
  {
   "cell_type": "code",
   "execution_count": 16,
   "metadata": {
    "colab": {
     "base_uri": "https://localhost:8080/"
    },
    "executionInfo": {
     "elapsed": 410,
     "status": "ok",
     "timestamp": 1615398233799,
     "user": {
      "displayName": "Vishnu Thakral",
      "photoUrl": "https://lh3.googleusercontent.com/a-/AOh14GgyAu0mm-tnCylneImfU3839AzfB7N174RUH66dRg=s64",
      "userId": "15080390568209116376"
     },
     "user_tz": 300
    },
    "id": "F12ctWfa4gzI",
    "outputId": "08385a94-6929-40a6-c638-9f3592b81dca"
   },
   "outputs": [
    {
     "data": {
      "text/plain": [
       "Flying      97\n",
       "Ground      35\n",
       "Poison      34\n",
       "Psychic     33\n",
       "Fighting    26\n",
       "Grass       25\n",
       "Fairy       23\n",
       "Steel       22\n",
       "Dark        20\n",
       "Dragon      18\n",
       "Water       14\n",
       "Rock        14\n",
       "Ice         14\n",
       "Ghost       14\n",
       "Fire        12\n",
       "Electric     6\n",
       "Normal       4\n",
       "Bug          3\n",
       "Name: Type 2, dtype: int64"
      ]
     },
     "execution_count": 16,
     "metadata": {
      "tags": []
     },
     "output_type": "execute_result"
    }
   ],
   "source": [
    "pokemon_data['Type 2'].value_counts()\n",
    "#pokemon_data['Type 2'].value_counts().reset_index().rename(columns={'index':'Type 2','Type 2':'Counts'})"
   ]
  },
  {
   "cell_type": "code",
   "execution_count": 17,
   "metadata": {
    "colab": {
     "base_uri": "https://localhost:8080/"
    },
    "executionInfo": {
     "elapsed": 464,
     "status": "ok",
     "timestamp": 1615398236502,
     "user": {
      "displayName": "Vishnu Thakral",
      "photoUrl": "https://lh3.googleusercontent.com/a-/AOh14GgyAu0mm-tnCylneImfU3839AzfB7N174RUH66dRg=s64",
      "userId": "15080390568209116376"
     },
     "user_tz": 300
    },
    "id": "3M3QTLGMPHpF",
    "outputId": "20180ef6-5c07-467b-c585-470e1d5138cd"
   },
   "outputs": [
    {
     "name": "stdout",
     "output_type": "stream",
     "text": [
      "69.25875\n",
      "255\n",
      "1\n",
      "25.534669032332047\n",
      "55407\n"
     ]
    }
   ],
   "source": [
    "print(pokemon_data['HP'].mean())\n",
    "print(pokemon_data['HP'].max())\n",
    "print(pokemon_data['HP'].min())\n",
    "print(pokemon_data['HP'].std())\n",
    "print(pokemon_data['HP'].sum())"
   ]
  },
  {
   "cell_type": "markdown",
   "metadata": {
    "id": "t95_h_GtWi_M"
   },
   "source": [
    "Q. What if I want to do some calculation for each row instead of column?\n",
    "#Axis"
   ]
  },
  {
   "cell_type": "markdown",
   "metadata": {
    "id": "uEvilA2uZw6y"
   },
   "source": [
    "axis denotes the dimension of dataframe. <br>\n",
    "axis = 0, also the axis of index/rows. Thus calculations are done at column level. <br>\n",
    "axis = 1, also axis of columns. Calculations are done for each row <br>\n",
    "For added clarity, you can specify axis='index' (instead of axis=0) or axis='columns' (instead of axis=1).\n"
   ]
  },
  {
   "cell_type": "markdown",
   "metadata": {
    "id": "HFWPc7tZXwlV"
   },
   "source": [
    "\n",
    "![image.png](data:image/png;base64,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)\n"
   ]
  },
  {
   "cell_type": "code",
   "execution_count": 18,
   "metadata": {
    "colab": {
     "base_uri": "https://localhost:8080/",
     "height": 106
    },
    "executionInfo": {
     "elapsed": 625,
     "status": "ok",
     "timestamp": 1615398246289,
     "user": {
      "displayName": "Vishnu Thakral",
      "photoUrl": "https://lh3.googleusercontent.com/a-/AOh14GgyAu0mm-tnCylneImfU3839AzfB7N174RUH66dRg=s64",
      "userId": "15080390568209116376"
     },
     "user_tz": 300
    },
    "id": "8Wg1QpSwatLh",
    "outputId": "f80e0fde-7581-4e73-ec7b-b96ea2666ee4"
   },
   "outputs": [
    {
     "data": {
      "text/html": [
       "<div>\n",
       "<style scoped>\n",
       "    .dataframe tbody tr th:only-of-type {\n",
       "        vertical-align: middle;\n",
       "    }\n",
       "\n",
       "    .dataframe tbody tr th {\n",
       "        vertical-align: top;\n",
       "    }\n",
       "\n",
       "    .dataframe thead th {\n",
       "        text-align: right;\n",
       "    }\n",
       "</style>\n",
       "<table border=\"1\" class=\"dataframe\">\n",
       "  <thead>\n",
       "    <tr style=\"text-align: right;\">\n",
       "      <th></th>\n",
       "      <th>0</th>\n",
       "      <th>1</th>\n",
       "    </tr>\n",
       "  </thead>\n",
       "  <tbody>\n",
       "    <tr>\n",
       "      <th>0</th>\n",
       "      <td>2</td>\n",
       "      <td>-2</td>\n",
       "    </tr>\n",
       "    <tr>\n",
       "      <th>1</th>\n",
       "      <td>1</td>\n",
       "      <td>-1</td>\n",
       "    </tr>\n",
       "  </tbody>\n",
       "</table>\n",
       "</div>"
      ],
      "text/plain": [
       "   0  1\n",
       "0  2 -2\n",
       "1  1 -1"
      ]
     },
     "execution_count": 18,
     "metadata": {
      "tags": []
     },
     "output_type": "execute_result"
    }
   ],
   "source": [
    "df_dummy = pd.DataFrame([[2,-2],[1,-1]])\n",
    "df_dummy"
   ]
  },
  {
   "cell_type": "code",
   "execution_count": 19,
   "metadata": {
    "colab": {
     "base_uri": "https://localhost:8080/"
    },
    "executionInfo": {
     "elapsed": 394,
     "status": "ok",
     "timestamp": 1615398248773,
     "user": {
      "displayName": "Vishnu Thakral",
      "photoUrl": "https://lh3.googleusercontent.com/a-/AOh14GgyAu0mm-tnCylneImfU3839AzfB7N174RUH66dRg=s64",
      "userId": "15080390568209116376"
     },
     "user_tz": 300
    },
    "id": "BfBVCiBIa016",
    "outputId": "9d04e25c-53b6-4681-d304-1644a0040a55"
   },
   "outputs": [
    {
     "data": {
      "text/plain": [
       "0    3\n",
       "1   -3\n",
       "dtype: int64"
      ]
     },
     "execution_count": 19,
     "metadata": {
      "tags": []
     },
     "output_type": "execute_result"
    }
   ],
   "source": [
    "#summation on axis 0 or for each column\n",
    "df_dummy.sum(axis=0)"
   ]
  },
  {
   "cell_type": "code",
   "execution_count": 20,
   "metadata": {
    "colab": {
     "base_uri": "https://localhost:8080/"
    },
    "executionInfo": {
     "elapsed": 390,
     "status": "ok",
     "timestamp": 1615398251042,
     "user": {
      "displayName": "Vishnu Thakral",
      "photoUrl": "https://lh3.googleusercontent.com/a-/AOh14GgyAu0mm-tnCylneImfU3839AzfB7N174RUH66dRg=s64",
      "userId": "15080390568209116376"
     },
     "user_tz": 300
    },
    "id": "GI017t--jRmI",
    "outputId": "bd5254ba-3d27-468c-84d9-b8cc8daf6db3"
   },
   "outputs": [
    {
     "data": {
      "text/plain": [
       "0    0\n",
       "1    0\n",
       "dtype: int64"
      ]
     },
     "execution_count": 20,
     "metadata": {
      "tags": []
     },
     "output_type": "execute_result"
    }
   ],
   "source": [
    "#summation on axis 1 or for each column\n",
    "df_dummy.sum(axis=1)"
   ]
  },
  {
   "cell_type": "markdown",
   "metadata": {
    "id": "rorGDUT2JHOI"
   },
   "source": [
    "#NaN "
   ]
  },
  {
   "cell_type": "markdown",
   "metadata": {
    "id": "6N9QVPDeVNiX"
   },
   "source": [
    "NaN (Not a number)- It is a special floating point number (like inifinity) and is an indication of no data.\n"
   ]
  },
  {
   "cell_type": "code",
   "execution_count": 21,
   "metadata": {
    "colab": {
     "base_uri": "https://localhost:8080/"
    },
    "executionInfo": {
     "elapsed": 435,
     "status": "ok",
     "timestamp": 1615398253268,
     "user": {
      "displayName": "Vishnu Thakral",
      "photoUrl": "https://lh3.googleusercontent.com/a-/AOh14GgyAu0mm-tnCylneImfU3839AzfB7N174RUH66dRg=s64",
      "userId": "15080390568209116376"
     },
     "user_tz": 300
    },
    "id": "eaXnzn9hJv-H",
    "outputId": "f012a0d3-b451-4286-961a-ba84c311cb1e"
   },
   "outputs": [
    {
     "name": "stdout",
     "output_type": "stream",
     "text": [
      "   a   b     c\n",
      "0  1   2   NaN\n",
      "1  5  10  20.0\n"
     ]
    }
   ],
   "source": [
    "#NaN \n",
    "df_nan = pd.DataFrame([{'a': 1, 'b': 2},{'a': 5, 'b': 10,'c':20}])\n",
    "print(df_nan)\n",
    "#Notice column c is of type float due to NaN"
   ]
  },
  {
   "cell_type": "markdown",
   "metadata": {
    "id": "uelEIHt4jy7P"
   },
   "source": [
    "Isnull function: Used to check existence of NaN/ Null values.\n"
   ]
  },
  {
   "cell_type": "code",
   "execution_count": 22,
   "metadata": {
    "colab": {
     "base_uri": "https://localhost:8080/"
    },
    "executionInfo": {
     "elapsed": 483,
     "status": "ok",
     "timestamp": 1615398255938,
     "user": {
      "displayName": "Vishnu Thakral",
      "photoUrl": "https://lh3.googleusercontent.com/a-/AOh14GgyAu0mm-tnCylneImfU3839AzfB7N174RUH66dRg=s64",
      "userId": "15080390568209116376"
     },
     "user_tz": 300
    },
    "id": "qM3ck_ibKP7n",
    "outputId": "1c691158-5e35-41ea-99c9-9b130b204678"
   },
   "outputs": [
    {
     "name": "stdout",
     "output_type": "stream",
     "text": [
      "       a      b      c\n",
      "0  False  False   True\n",
      "1  False  False  False\n"
     ]
    }
   ],
   "source": [
    "print(df_nan.isnull())\n",
    "#isnull working -- assigns each data point in the dataframe with True or False\n",
    "#return dataframe filled with True or False "
   ]
  },
  {
   "cell_type": "code",
   "execution_count": 23,
   "metadata": {
    "colab": {
     "base_uri": "https://localhost:8080/"
    },
    "executionInfo": {
     "elapsed": 1380,
     "status": "ok",
     "timestamp": 1615398265774,
     "user": {
      "displayName": "Vishnu Thakral",
      "photoUrl": "https://lh3.googleusercontent.com/a-/AOh14GgyAu0mm-tnCylneImfU3839AzfB7N174RUH66dRg=s64",
      "userId": "15080390568209116376"
     },
     "user_tz": 300
    },
    "id": "fD6r5YhIWJdz",
    "outputId": "aafadff4-c16b-4b13-c123-33a7b14d58a7"
   },
   "outputs": [
    {
     "name": "stdout",
     "output_type": "stream",
     "text": [
      "a    0\n",
      "b    0\n",
      "c    1\n",
      "dtype: int64\n"
     ]
    }
   ],
   "source": [
    "#To count how many NaN, use sum function on the result of isnull\n",
    "print(df_nan.isnull().sum())"
   ]
  },
  {
   "cell_type": "markdown",
   "metadata": {
    "id": "tEEThvw7zw7A"
   },
   "source": [
    "Q. Which columns in pokemon data have null values"
   ]
  },
  {
   "cell_type": "code",
   "execution_count": 24,
   "metadata": {
    "executionInfo": {
     "elapsed": 656,
     "status": "ok",
     "timestamp": 1615398273038,
     "user": {
      "displayName": "Vishnu Thakral",
      "photoUrl": "https://lh3.googleusercontent.com/a-/AOh14GgyAu0mm-tnCylneImfU3839AzfB7N174RUH66dRg=s64",
      "userId": "15080390568209116376"
     },
     "user_tz": 300
    },
    "id": "IqNpeeBYkevq"
   },
   "outputs": [],
   "source": [
    "#Ans"
   ]
  },
  {
   "cell_type": "markdown",
   "metadata": {
    "id": "1ZVrPkKZMZWY"
   },
   "source": [
    "#Data Manipulation"
   ]
  },
  {
   "cell_type": "code",
   "execution_count": 25,
   "metadata": {
    "executionInfo": {
     "elapsed": 761,
     "status": "ok",
     "timestamp": 1615398281691,
     "user": {
      "displayName": "Vishnu Thakral",
      "photoUrl": "https://lh3.googleusercontent.com/a-/AOh14GgyAu0mm-tnCylneImfU3839AzfB7N174RUH66dRg=s64",
      "userId": "15080390568209116376"
     },
     "user_tz": 300
    },
    "id": "bdL7usHBrJKz"
   },
   "outputs": [],
   "source": [
    "df = pd.DataFrame([['May1',32],['May2',35],['May3',40],['May4',50]],index = ['Day1','Day2','Day3','Day4'],columns = ['May','Temperature'])"
   ]
  },
  {
   "cell_type": "markdown",
   "metadata": {
    "id": "294myoGXrLLK"
   },
   "source": [
    "Accessing Values"
   ]
  },
  {
   "cell_type": "code",
   "execution_count": 26,
   "metadata": {
    "colab": {
     "base_uri": "https://localhost:8080/"
    },
    "executionInfo": {
     "elapsed": 713,
     "status": "ok",
     "timestamp": 1615398284072,
     "user": {
      "displayName": "Vishnu Thakral",
      "photoUrl": "https://lh3.googleusercontent.com/a-/AOh14GgyAu0mm-tnCylneImfU3839AzfB7N174RUH66dRg=s64",
      "userId": "15080390568209116376"
     },
     "user_tz": 300
    },
    "id": "6-s9NAYCMwNJ",
    "outputId": "3e5d071e-6a6f-47e0-e70d-150ac20a1115"
   },
   "outputs": [
    {
     "name": "stdout",
     "output_type": "stream",
     "text": [
      "Day1    32\n",
      "Day2    35\n",
      "Day3    40\n",
      "Day4    50\n",
      "Name: Temperature, dtype: int64\n"
     ]
    }
   ],
   "source": [
    "#Access column by name\n",
    "print(df['Temperature'])"
   ]
  },
  {
   "cell_type": "code",
   "execution_count": 27,
   "metadata": {
    "colab": {
     "base_uri": "https://localhost:8080/",
     "height": 166
    },
    "executionInfo": {
     "elapsed": 1289,
     "status": "ok",
     "timestamp": 1615398286683,
     "user": {
      "displayName": "Vishnu Thakral",
      "photoUrl": "https://lh3.googleusercontent.com/a-/AOh14GgyAu0mm-tnCylneImfU3839AzfB7N174RUH66dRg=s64",
      "userId": "15080390568209116376"
     },
     "user_tz": 300
    },
    "id": "0VizsUYgsOHb",
    "outputId": "31fefdf6-ea6f-43c1-cf0e-f011d18ce16c"
   },
   "outputs": [
    {
     "data": {
      "text/html": [
       "<div>\n",
       "<style scoped>\n",
       "    .dataframe tbody tr th:only-of-type {\n",
       "        vertical-align: middle;\n",
       "    }\n",
       "\n",
       "    .dataframe tbody tr th {\n",
       "        vertical-align: top;\n",
       "    }\n",
       "\n",
       "    .dataframe thead th {\n",
       "        text-align: right;\n",
       "    }\n",
       "</style>\n",
       "<table border=\"1\" class=\"dataframe\">\n",
       "  <thead>\n",
       "    <tr style=\"text-align: right;\">\n",
       "      <th></th>\n",
       "      <th>Temperature</th>\n",
       "      <th>May</th>\n",
       "    </tr>\n",
       "  </thead>\n",
       "  <tbody>\n",
       "    <tr>\n",
       "      <th>Day1</th>\n",
       "      <td>32</td>\n",
       "      <td>May1</td>\n",
       "    </tr>\n",
       "    <tr>\n",
       "      <th>Day2</th>\n",
       "      <td>35</td>\n",
       "      <td>May2</td>\n",
       "    </tr>\n",
       "    <tr>\n",
       "      <th>Day3</th>\n",
       "      <td>40</td>\n",
       "      <td>May3</td>\n",
       "    </tr>\n",
       "    <tr>\n",
       "      <th>Day4</th>\n",
       "      <td>50</td>\n",
       "      <td>May4</td>\n",
       "    </tr>\n",
       "  </tbody>\n",
       "</table>\n",
       "</div>"
      ],
      "text/plain": [
       "      Temperature   May\n",
       "Day1           32  May1\n",
       "Day2           35  May2\n",
       "Day3           40  May3\n",
       "Day4           50  May4"
      ]
     },
     "execution_count": 27,
     "metadata": {
      "tags": []
     },
     "output_type": "execute_result"
    }
   ],
   "source": [
    "#Multiple column access\n",
    "df[['Temperature','May']]"
   ]
  },
  {
   "cell_type": "markdown",
   "metadata": {
    "id": "8dyr82wCOxFe"
   },
   "source": [
    "![alt text](https://i.pinimg.com/474x/1d/9c/4f/1d9c4f968514e734196ab19db2e5f281.jpg)"
   ]
  },
  {
   "cell_type": "code",
   "execution_count": 28,
   "metadata": {
    "colab": {
     "base_uri": "https://localhost:8080/"
    },
    "executionInfo": {
     "elapsed": 818,
     "status": "ok",
     "timestamp": 1615398290043,
     "user": {
      "displayName": "Vishnu Thakral",
      "photoUrl": "https://lh3.googleusercontent.com/a-/AOh14GgyAu0mm-tnCylneImfU3839AzfB7N174RUH66dRg=s64",
      "userId": "15080390568209116376"
     },
     "user_tz": 300
    },
    "id": "33MURhsisb1c",
    "outputId": "5d940c15-4e96-421a-e3e8-80861396b71b"
   },
   "outputs": [
    {
     "name": "stdout",
     "output_type": "stream",
     "text": [
      "<class 'pandas.core.series.Series'>\n",
      "May            May2\n",
      "Temperature      35\n",
      "Name: Day2, dtype: object\n"
     ]
    }
   ],
   "source": [
    "print(type(df.iloc[1]))\n",
    "print(df.iloc[1])"
   ]
  },
  {
   "cell_type": "code",
   "execution_count": 29,
   "metadata": {
    "colab": {
     "base_uri": "https://localhost:8080/"
    },
    "executionInfo": {
     "elapsed": 299,
     "status": "ok",
     "timestamp": 1615398291505,
     "user": {
      "displayName": "Vishnu Thakral",
      "photoUrl": "https://lh3.googleusercontent.com/a-/AOh14GgyAu0mm-tnCylneImfU3839AzfB7N174RUH66dRg=s64",
      "userId": "15080390568209116376"
     },
     "user_tz": 300
    },
    "id": "F-E9-Jwtso5u",
    "outputId": "74d10340-0e77-4d0d-a6c3-45d3f2233fb3"
   },
   "outputs": [
    {
     "name": "stdout",
     "output_type": "stream",
     "text": [
      "range of index wise selection in discrete manner\n",
      "       May  Temperature\n",
      "Day2  May2           35\n",
      "Day3  May3           40\n",
      "Day4  May4           50\n"
     ]
    }
   ],
   "source": [
    "print('range of index wise selection in discrete manner')\n",
    "print(df.iloc[[1,2,3]])"
   ]
  },
  {
   "cell_type": "code",
   "execution_count": 30,
   "metadata": {
    "colab": {
     "base_uri": "https://localhost:8080/"
    },
    "executionInfo": {
     "elapsed": 310,
     "status": "ok",
     "timestamp": 1615398292972,
     "user": {
      "displayName": "Vishnu Thakral",
      "photoUrl": "https://lh3.googleusercontent.com/a-/AOh14GgyAu0mm-tnCylneImfU3839AzfB7N174RUH66dRg=s64",
      "userId": "15080390568209116376"
     },
     "user_tz": 300
    },
    "id": "FsTIWpMlsvXH",
    "outputId": "9114a984-2f2e-40b2-8ed2-1798139185e6"
   },
   "outputs": [
    {
     "name": "stdout",
     "output_type": "stream",
     "text": [
      "Get single value\n",
      "May1\n"
     ]
    }
   ],
   "source": [
    "print('Get single value')\n",
    "print(df.iloc[0,0])"
   ]
  },
  {
   "cell_type": "code",
   "execution_count": 32,
   "metadata": {
    "colab": {
     "base_uri": "https://localhost:8080/"
    },
    "executionInfo": {
     "elapsed": 295,
     "status": "ok",
     "timestamp": 1615398320111,
     "user": {
      "displayName": "Vishnu Thakral",
      "photoUrl": "https://lh3.googleusercontent.com/a-/AOh14GgyAu0mm-tnCylneImfU3839AzfB7N174RUH66dRg=s64",
      "userId": "15080390568209116376"
     },
     "user_tz": 300
    },
    "id": "xdPHmj9Rs2Ho",
    "outputId": "110ed389-0c3d-4345-b285-19b6c2dc411d"
   },
   "outputs": [
    {
     "name": "stdout",
     "output_type": "stream",
     "text": [
      "Complete row wise and partial column wise\n",
      "Day1    32\n",
      "Day2    35\n",
      "Day3    40\n",
      "Day4    50\n",
      "Name: Temperature, dtype: int64\n"
     ]
    }
   ],
   "source": [
    "print('Complete row wise and partial column wise')\n",
    "print(df.iloc[:,1])"
   ]
  },
  {
   "cell_type": "markdown",
   "metadata": {
    "id": "D9ABBXbutX3U"
   },
   "source": [
    "Q. Select first 5 columns of pokemon dataset"
   ]
  },
  {
   "cell_type": "code",
   "execution_count": null,
   "metadata": {
    "id": "G-mfmNt3tdnr"
   },
   "outputs": [],
   "source": [
    "#Ans"
   ]
  },
  {
   "cell_type": "code",
   "execution_count": 33,
   "metadata": {
    "colab": {
     "base_uri": "https://localhost:8080/"
    },
    "executionInfo": {
     "elapsed": 370,
     "status": "ok",
     "timestamp": 1615398324179,
     "user": {
      "displayName": "Vishnu Thakral",
      "photoUrl": "https://lh3.googleusercontent.com/a-/AOh14GgyAu0mm-tnCylneImfU3839AzfB7N174RUH66dRg=s64",
      "userId": "15080390568209116376"
     },
     "user_tz": 300
    },
    "id": "H9TIgwkANhEe",
    "outputId": "24b49256-f317-4506-9b2d-96763e7a0597"
   },
   "outputs": [
    {
     "name": "stdout",
     "output_type": "stream",
     "text": [
      "       May  Temperature      Stations Stations2\n",
      "Day1  May1           32     95 street       NaN\n",
      "Day2  May2           35    jay street       NaN\n",
      "Day3  May3           40  barclays ave       NaN\n",
      "Day4  May4           50       newport       NaN\n",
      "       May  Temperature      Stations     Stations2\n",
      "Day1  May1           32     95 street     95 street\n",
      "Day2  May2           35    jay street  barclays ave\n",
      "Day3  May3           40  barclays ave    jay street\n",
      "Day4  May4           50       newport       newport\n"
     ]
    }
   ],
   "source": [
    "#Adding columns\n",
    "#Notice the difference\n",
    "add_column = pd.Series(['95 street','barclays ave','jay street','newport'],index=['Day1','Day3','Day2','Day4'])\n",
    "df['Stations'] = add_column\n",
    "df['Stations2'] = pd.Series(['95 street','barclays ave','jay street','newport'])\n",
    "print(df)\n",
    "#either specify index or add as python list instead of series\n",
    "df['Stations2'] = ['95 street','barclays ave','jay street','newport']\n",
    "print(df)"
   ]
  },
  {
   "cell_type": "code",
   "execution_count": 34,
   "metadata": {
    "colab": {
     "base_uri": "https://localhost:8080/"
    },
    "executionInfo": {
     "elapsed": 1072,
     "status": "ok",
     "timestamp": 1615398329269,
     "user": {
      "displayName": "Vishnu Thakral",
      "photoUrl": "https://lh3.googleusercontent.com/a-/AOh14GgyAu0mm-tnCylneImfU3839AzfB7N174RUH66dRg=s64",
      "userId": "15080390568209116376"
     },
     "user_tz": 300
    },
    "id": "ZNaas4a-NlaG",
    "outputId": "a740371c-ccd4-4ae9-f70b-eaa0d027a17c"
   },
   "outputs": [
    {
     "name": "stdout",
     "output_type": "stream",
     "text": [
      "       May  Temperature      Stations     Stations2  Wind Speed\n",
      "Day1  May1           32     95 street     95 street      13.248\n",
      "Day2  May2           35    jay street  barclays ave      14.490\n",
      "Day3  May3           40  barclays ave    jay street      16.560\n",
      "Day4  May4           50       newport       newport      20.700\n"
     ]
    }
   ],
   "source": [
    "#New column using existing column\n",
    "df['Wind Speed'] = df['Temperature']*0.414\n",
    "print(df)"
   ]
  },
  {
   "cell_type": "code",
   "execution_count": 35,
   "metadata": {
    "colab": {
     "base_uri": "https://localhost:8080/"
    },
    "executionInfo": {
     "elapsed": 982,
     "status": "ok",
     "timestamp": 1615398330930,
     "user": {
      "displayName": "Vishnu Thakral",
      "photoUrl": "https://lh3.googleusercontent.com/a-/AOh14GgyAu0mm-tnCylneImfU3839AzfB7N174RUH66dRg=s64",
      "userId": "15080390568209116376"
     },
     "user_tz": 300
    },
    "id": "F6BDK5jYNyRM",
    "outputId": "ec594ed0-e03e-4013-9e96-4d08ec4e583c"
   },
   "outputs": [
    {
     "name": "stdout",
     "output_type": "stream",
     "text": [
      "       May  Temperature      Stations     Stations2  Wind Speed  Add_Temp_Wind\n",
      "Day1  May1           32     95 street     95 street      13.248         45.248\n",
      "Day2  May2           35    jay street  barclays ave      14.490         49.490\n",
      "Day3  May3           40  barclays ave    jay street      16.560         56.560\n",
      "Day4  May4           50       newport       newport      20.700         70.700\n"
     ]
    }
   ],
   "source": [
    "#Coulmn addition (with same data type)\n",
    "df['Add_Temp_Wind'] = df['Temperature'] + df['Wind Speed']\n",
    "print(df)"
   ]
  },
  {
   "cell_type": "code",
   "execution_count": 36,
   "metadata": {
    "colab": {
     "base_uri": "https://localhost:8080/"
    },
    "executionInfo": {
     "elapsed": 1743,
     "status": "ok",
     "timestamp": 1615398333600,
     "user": {
      "displayName": "Vishnu Thakral",
      "photoUrl": "https://lh3.googleusercontent.com/a-/AOh14GgyAu0mm-tnCylneImfU3839AzfB7N174RUH66dRg=s64",
      "userId": "15080390568209116376"
     },
     "user_tz": 300
    },
    "id": "CzYN8Q-RtnLH",
    "outputId": "27542aea-3f14-4b6d-b286-f7a8691932ab"
   },
   "outputs": [
    {
     "name": "stdout",
     "output_type": "stream",
     "text": [
      "        May  Temperature      Stations     Stations2  Wind Speed  Add_Temp_Wind\n",
      "Day1  May11           32     95 street     95 street      13.248         45.248\n",
      "Day2   May2           35    jay street  barclays ave      14.490         49.490\n",
      "Day3   May3           40  barclays ave    jay street      16.560         56.560\n",
      "Day4   May4           50       newport       newport      20.700         70.700\n"
     ]
    }
   ],
   "source": [
    "#Cahnging values using loc/iloc\n",
    "df.iloc[0,0] = 'May11'\n",
    "print(df)"
   ]
  },
  {
   "cell_type": "code",
   "execution_count": 37,
   "metadata": {
    "colab": {
     "base_uri": "https://localhost:8080/"
    },
    "executionInfo": {
     "elapsed": 450,
     "status": "ok",
     "timestamp": 1615398334018,
     "user": {
      "displayName": "Vishnu Thakral",
      "photoUrl": "https://lh3.googleusercontent.com/a-/AOh14GgyAu0mm-tnCylneImfU3839AzfB7N174RUH66dRg=s64",
      "userId": "15080390568209116376"
     },
     "user_tz": 300
    },
    "id": "uICl8pnUttni",
    "outputId": "fb73662d-da86-4e17-d646-0d7c43c0f1da"
   },
   "outputs": [
    {
     "name": "stdout",
     "output_type": "stream",
     "text": [
      "       May  Temperature      Stations     Stations2  Wind Speed  Add_Temp_Wind\n",
      "Day1  May1           35     86 street     95 Street       12.00          44.00\n",
      "Day2  May2           35    jay street  barclays ave       14.49          49.49\n",
      "Day3  May3           40  barclays ave    jay street       16.56          56.56\n",
      "Day4  May4           50       newport       newport       20.70          70.70\n"
     ]
    }
   ],
   "source": [
    "#Changing entire row/column using iloc/loc\n",
    "df.iloc[0] = ['May1',35,'86 street','95 Street',12,44]\n",
    "print(df)"
   ]
  },
  {
   "cell_type": "markdown",
   "metadata": {
    "id": "5DupSwgRozaQ"
   },
   "source": [
    "Column deletion"
   ]
  },
  {
   "cell_type": "code",
   "execution_count": 38,
   "metadata": {
    "colab": {
     "base_uri": "https://localhost:8080/"
    },
    "executionInfo": {
     "elapsed": 278,
     "status": "ok",
     "timestamp": 1615398336184,
     "user": {
      "displayName": "Vishnu Thakral",
      "photoUrl": "https://lh3.googleusercontent.com/a-/AOh14GgyAu0mm-tnCylneImfU3839AzfB7N174RUH66dRg=s64",
      "userId": "15080390568209116376"
     },
     "user_tz": 300
    },
    "id": "R6sXfQ0TN84G",
    "outputId": "c2cc823f-438e-4aa4-cd19-0043d4280f80"
   },
   "outputs": [
    {
     "name": "stdout",
     "output_type": "stream",
     "text": [
      "       May  Temperature      Stations     Stations2  Wind Speed  Add_Temp_Wind\n",
      "Day1  May1           35     86 street     95 Street       12.00          47.00\n",
      "Day2  May2           35    jay street  barclays ave       14.49          49.49\n",
      "Day3  May3           40  barclays ave    jay street       16.56          56.56\n",
      "Day4  May4           50       newport       newport       20.70          70.70\n",
      "       May  Temperature      Stations     Stations2  Wind Speed\n",
      "Day1  May1           35     86 street     95 Street       12.00\n",
      "Day2  May2           35    jay street  barclays ave       14.49\n",
      "Day3  May3           40  barclays ave    jay street       16.56\n",
      "Day4  May4           50       newport       newport       20.70\n"
     ]
    }
   ],
   "source": [
    "#drop function\n",
    "#can be used to drop based on column or index \n",
    "df['Add_Temp_Wind'] = df['Temperature'] + df['Wind Speed']\n",
    "print(df)\n",
    "df.drop('Add_Temp_Wind',axis=1,inplace=True)\n",
    "print(df)"
   ]
  },
  {
   "cell_type": "code",
   "execution_count": 39,
   "metadata": {
    "colab": {
     "base_uri": "https://localhost:8080/",
     "height": 136
    },
    "executionInfo": {
     "elapsed": 576,
     "status": "ok",
     "timestamp": 1615398338553,
     "user": {
      "displayName": "Vishnu Thakral",
      "photoUrl": "https://lh3.googleusercontent.com/a-/AOh14GgyAu0mm-tnCylneImfU3839AzfB7N174RUH66dRg=s64",
      "userId": "15080390568209116376"
     },
     "user_tz": 300
    },
    "id": "P8V-moAXN_vW",
    "outputId": "de848d1a-4465-4c46-fbdd-3d78685da8e2"
   },
   "outputs": [
    {
     "data": {
      "text/html": [
       "<div>\n",
       "<style scoped>\n",
       "    .dataframe tbody tr th:only-of-type {\n",
       "        vertical-align: middle;\n",
       "    }\n",
       "\n",
       "    .dataframe tbody tr th {\n",
       "        vertical-align: top;\n",
       "    }\n",
       "\n",
       "    .dataframe thead th {\n",
       "        text-align: right;\n",
       "    }\n",
       "</style>\n",
       "<table border=\"1\" class=\"dataframe\">\n",
       "  <thead>\n",
       "    <tr style=\"text-align: right;\">\n",
       "      <th></th>\n",
       "      <th>May</th>\n",
       "      <th>Temperature</th>\n",
       "      <th>Stations</th>\n",
       "      <th>Stations2</th>\n",
       "      <th>Wind Speed</th>\n",
       "    </tr>\n",
       "  </thead>\n",
       "  <tbody>\n",
       "    <tr>\n",
       "      <th>Day2</th>\n",
       "      <td>May2</td>\n",
       "      <td>35</td>\n",
       "      <td>jay street</td>\n",
       "      <td>barclays ave</td>\n",
       "      <td>14.49</td>\n",
       "    </tr>\n",
       "    <tr>\n",
       "      <th>Day3</th>\n",
       "      <td>May3</td>\n",
       "      <td>40</td>\n",
       "      <td>barclays ave</td>\n",
       "      <td>jay street</td>\n",
       "      <td>16.56</td>\n",
       "    </tr>\n",
       "    <tr>\n",
       "      <th>Day4</th>\n",
       "      <td>May4</td>\n",
       "      <td>50</td>\n",
       "      <td>newport</td>\n",
       "      <td>newport</td>\n",
       "      <td>20.70</td>\n",
       "    </tr>\n",
       "  </tbody>\n",
       "</table>\n",
       "</div>"
      ],
      "text/plain": [
       "       May  Temperature      Stations     Stations2  Wind Speed\n",
       "Day2  May2           35    jay street  barclays ave       14.49\n",
       "Day3  May3           40  barclays ave    jay street       16.56\n",
       "Day4  May4           50       newport       newport       20.70"
      ]
     },
     "execution_count": 39,
     "metadata": {
      "tags": []
     },
     "output_type": "execute_result"
    }
   ],
   "source": [
    "#Drop row of a dataframe\n",
    "#use drop function and pass the indexed index or name of that index\n",
    "df.drop(df.index[0])  #inplace=False"
   ]
  },
  {
   "cell_type": "code",
   "execution_count": 40,
   "metadata": {
    "colab": {
     "base_uri": "https://localhost:8080/",
     "height": 136
    },
    "executionInfo": {
     "elapsed": 336,
     "status": "ok",
     "timestamp": 1615398340731,
     "user": {
      "displayName": "Vishnu Thakral",
      "photoUrl": "https://lh3.googleusercontent.com/a-/AOh14GgyAu0mm-tnCylneImfU3839AzfB7N174RUH66dRg=s64",
      "userId": "15080390568209116376"
     },
     "user_tz": 300
    },
    "id": "N1Mm-mruOCO5",
    "outputId": "b6131286-3d01-4bf8-9f4f-fc5d4952d2fb"
   },
   "outputs": [
    {
     "data": {
      "text/html": [
       "<div>\n",
       "<style scoped>\n",
       "    .dataframe tbody tr th:only-of-type {\n",
       "        vertical-align: middle;\n",
       "    }\n",
       "\n",
       "    .dataframe tbody tr th {\n",
       "        vertical-align: top;\n",
       "    }\n",
       "\n",
       "    .dataframe thead th {\n",
       "        text-align: right;\n",
       "    }\n",
       "</style>\n",
       "<table border=\"1\" class=\"dataframe\">\n",
       "  <thead>\n",
       "    <tr style=\"text-align: right;\">\n",
       "      <th></th>\n",
       "      <th>May</th>\n",
       "      <th>Temperature</th>\n",
       "      <th>Stations</th>\n",
       "      <th>Stations2</th>\n",
       "      <th>Wind Speed</th>\n",
       "    </tr>\n",
       "  </thead>\n",
       "  <tbody>\n",
       "    <tr>\n",
       "      <th>Day1</th>\n",
       "      <td>May1</td>\n",
       "      <td>35</td>\n",
       "      <td>86 street</td>\n",
       "      <td>95 Street</td>\n",
       "      <td>12.00</td>\n",
       "    </tr>\n",
       "    <tr>\n",
       "      <th>Day3</th>\n",
       "      <td>May3</td>\n",
       "      <td>40</td>\n",
       "      <td>barclays ave</td>\n",
       "      <td>jay street</td>\n",
       "      <td>16.56</td>\n",
       "    </tr>\n",
       "    <tr>\n",
       "      <th>Day4</th>\n",
       "      <td>May4</td>\n",
       "      <td>50</td>\n",
       "      <td>newport</td>\n",
       "      <td>newport</td>\n",
       "      <td>20.70</td>\n",
       "    </tr>\n",
       "  </tbody>\n",
       "</table>\n",
       "</div>"
      ],
      "text/plain": [
       "       May  Temperature      Stations   Stations2  Wind Speed\n",
       "Day1  May1           35     86 street   95 Street       12.00\n",
       "Day3  May3           40  barclays ave  jay street       16.56\n",
       "Day4  May4           50       newport     newport       20.70"
      ]
     },
     "execution_count": 40,
     "metadata": {
      "tags": []
     },
     "output_type": "execute_result"
    }
   ],
   "source": [
    "#By index name\n",
    "df.drop('Day2',axis=0)"
   ]
  },
  {
   "cell_type": "markdown",
   "metadata": {
    "id": "4uTz4NAyO4lD"
   },
   "source": [
    "Q. Select data for Temperature and wind speed column by using loc method"
   ]
  },
  {
   "cell_type": "code",
   "execution_count": 41,
   "metadata": {
    "executionInfo": {
     "elapsed": 331,
     "status": "ok",
     "timestamp": 1615398352050,
     "user": {
      "displayName": "Vishnu Thakral",
      "photoUrl": "https://lh3.googleusercontent.com/a-/AOh14GgyAu0mm-tnCylneImfU3839AzfB7N174RUH66dRg=s64",
      "userId": "15080390568209116376"
     },
     "user_tz": 300
    },
    "id": "j4tU-vHJ1xH-"
   },
   "outputs": [],
   "source": [
    "#Ans"
   ]
  },
  {
   "cell_type": "markdown",
   "metadata": {
    "id": "VURcvi6SuyLO"
   },
   "source": [
    "Condition based filtering"
   ]
  },
  {
   "cell_type": "code",
   "execution_count": 42,
   "metadata": {
    "colab": {
     "base_uri": "https://localhost:8080/"
    },
    "executionInfo": {
     "elapsed": 293,
     "status": "ok",
     "timestamp": 1615398354284,
     "user": {
      "displayName": "Vishnu Thakral",
      "photoUrl": "https://lh3.googleusercontent.com/a-/AOh14GgyAu0mm-tnCylneImfU3839AzfB7N174RUH66dRg=s64",
      "userId": "15080390568209116376"
     },
     "user_tz": 300
    },
    "id": "dN5r1fIdurtL",
    "outputId": "5b71af2b-c0e9-410e-e409-7f9b78e4b593"
   },
   "outputs": [
    {
     "data": {
      "text/plain": [
       "Day1    False\n",
       "Day2    False\n",
       "Day3    False\n",
       "Day4     True\n",
       "Name: Temperature, dtype: bool"
      ]
     },
     "execution_count": 42,
     "metadata": {
      "tags": []
     },
     "output_type": "execute_result"
    }
   ],
   "source": [
    "#Syntax ----- data.loc['Condition(s)']\n",
    "#Coditions generate a mask df of booleans which is used to select relevant rows from original dataframe\n",
    "df['Temperature'] > 40"
   ]
  },
  {
   "cell_type": "code",
   "execution_count": 43,
   "metadata": {
    "colab": {
     "base_uri": "https://localhost:8080/",
     "height": 77
    },
    "executionInfo": {
     "elapsed": 2150,
     "status": "ok",
     "timestamp": 1615398358209,
     "user": {
      "displayName": "Vishnu Thakral",
      "photoUrl": "https://lh3.googleusercontent.com/a-/AOh14GgyAu0mm-tnCylneImfU3839AzfB7N174RUH66dRg=s64",
      "userId": "15080390568209116376"
     },
     "user_tz": 300
    },
    "id": "xuenOddfvrT1",
    "outputId": "ad7fde0a-7ea0-43c1-c8d5-b0fd7f8662d4"
   },
   "outputs": [
    {
     "data": {
      "text/html": [
       "<div>\n",
       "<style scoped>\n",
       "    .dataframe tbody tr th:only-of-type {\n",
       "        vertical-align: middle;\n",
       "    }\n",
       "\n",
       "    .dataframe tbody tr th {\n",
       "        vertical-align: top;\n",
       "    }\n",
       "\n",
       "    .dataframe thead th {\n",
       "        text-align: right;\n",
       "    }\n",
       "</style>\n",
       "<table border=\"1\" class=\"dataframe\">\n",
       "  <thead>\n",
       "    <tr style=\"text-align: right;\">\n",
       "      <th></th>\n",
       "      <th>May</th>\n",
       "      <th>Temperature</th>\n",
       "      <th>Stations</th>\n",
       "      <th>Stations2</th>\n",
       "      <th>Wind Speed</th>\n",
       "    </tr>\n",
       "  </thead>\n",
       "  <tbody>\n",
       "    <tr>\n",
       "      <th>Day4</th>\n",
       "      <td>May4</td>\n",
       "      <td>50</td>\n",
       "      <td>newport</td>\n",
       "      <td>newport</td>\n",
       "      <td>20.7</td>\n",
       "    </tr>\n",
       "  </tbody>\n",
       "</table>\n",
       "</div>"
      ],
      "text/plain": [
       "       May  Temperature Stations Stations2  Wind Speed\n",
       "Day4  May4           50  newport   newport        20.7"
      ]
     },
     "execution_count": 43,
     "metadata": {
      "tags": []
     },
     "output_type": "execute_result"
    }
   ],
   "source": [
    "#Selection part\n",
    "df[df['Temperature'] > 40]"
   ]
  },
  {
   "cell_type": "code",
   "execution_count": 44,
   "metadata": {
    "colab": {
     "base_uri": "https://localhost:8080/",
     "height": 136
    },
    "executionInfo": {
     "elapsed": 589,
     "status": "ok",
     "timestamp": 1615398359050,
     "user": {
      "displayName": "Vishnu Thakral",
      "photoUrl": "https://lh3.googleusercontent.com/a-/AOh14GgyAu0mm-tnCylneImfU3839AzfB7N174RUH66dRg=s64",
      "userId": "15080390568209116376"
     },
     "user_tz": 300
    },
    "id": "qJTig-Rhv0e0",
    "outputId": "4e5a1ec7-4b6d-4398-d8a1-a153eaf676f4"
   },
   "outputs": [
    {
     "data": {
      "text/html": [
       "<div>\n",
       "<style scoped>\n",
       "    .dataframe tbody tr th:only-of-type {\n",
       "        vertical-align: middle;\n",
       "    }\n",
       "\n",
       "    .dataframe tbody tr th {\n",
       "        vertical-align: top;\n",
       "    }\n",
       "\n",
       "    .dataframe thead th {\n",
       "        text-align: right;\n",
       "    }\n",
       "</style>\n",
       "<table border=\"1\" class=\"dataframe\">\n",
       "  <thead>\n",
       "    <tr style=\"text-align: right;\">\n",
       "      <th></th>\n",
       "      <th>May</th>\n",
       "      <th>Temperature</th>\n",
       "      <th>Stations</th>\n",
       "      <th>Stations2</th>\n",
       "      <th>Wind Speed</th>\n",
       "    </tr>\n",
       "  </thead>\n",
       "  <tbody>\n",
       "    <tr>\n",
       "      <th>Day1</th>\n",
       "      <td>May1</td>\n",
       "      <td>35</td>\n",
       "      <td>86 street</td>\n",
       "      <td>95 Street</td>\n",
       "      <td>12.00</td>\n",
       "    </tr>\n",
       "    <tr>\n",
       "      <th>Day2</th>\n",
       "      <td>May2</td>\n",
       "      <td>35</td>\n",
       "      <td>jay street</td>\n",
       "      <td>barclays ave</td>\n",
       "      <td>14.49</td>\n",
       "    </tr>\n",
       "    <tr>\n",
       "      <th>Day3</th>\n",
       "      <td>May3</td>\n",
       "      <td>40</td>\n",
       "      <td>barclays ave</td>\n",
       "      <td>jay street</td>\n",
       "      <td>16.56</td>\n",
       "    </tr>\n",
       "  </tbody>\n",
       "</table>\n",
       "</div>"
      ],
      "text/plain": [
       "       May  Temperature      Stations     Stations2  Wind Speed\n",
       "Day1  May1           35     86 street     95 Street       12.00\n",
       "Day2  May2           35    jay street  barclays ave       14.49\n",
       "Day3  May3           40  barclays ave    jay street       16.56"
      ]
     },
     "execution_count": 44,
     "metadata": {
      "tags": []
     },
     "output_type": "execute_result"
    }
   ],
   "source": [
    "#Complex selection\n",
    "df[(df['Temperature'] > 30) & (df['Wind Speed']<20)]"
   ]
  },
  {
   "cell_type": "markdown",
   "metadata": {
    "id": "XPAOJewY17NX"
   },
   "source": [
    "Q. What is the count of pokemon that have null in type 2?"
   ]
  },
  {
   "cell_type": "code",
   "execution_count": 45,
   "metadata": {
    "executionInfo": {
     "elapsed": 659,
     "status": "ok",
     "timestamp": 1615398363743,
     "user": {
      "displayName": "Vishnu Thakral",
      "photoUrl": "https://lh3.googleusercontent.com/a-/AOh14GgyAu0mm-tnCylneImfU3839AzfB7N174RUH66dRg=s64",
      "userId": "15080390568209116376"
     },
     "user_tz": 300
    },
    "id": "CpaBQ15Y18wz"
   },
   "outputs": [],
   "source": [
    "#Ans"
   ]
  },
  {
   "cell_type": "code",
   "execution_count": 46,
   "metadata": {
    "colab": {
     "base_uri": "https://localhost:8080/"
    },
    "executionInfo": {
     "elapsed": 462,
     "status": "ok",
     "timestamp": 1615398382146,
     "user": {
      "displayName": "Vishnu Thakral",
      "photoUrl": "https://lh3.googleusercontent.com/a-/AOh14GgyAu0mm-tnCylneImfU3839AzfB7N174RUH66dRg=s64",
      "userId": "15080390568209116376"
     },
     "user_tz": 300
    },
    "id": "ylHcA8h7jjRb",
    "outputId": "754a6b67-d279-4c2a-9ced-69a47053ab1f"
   },
   "outputs": [
    {
     "name": "stdout",
     "output_type": "stream",
     "text": [
      "['Grass' 'Fire' 'Water' 'Bug' 'Normal' 'Poison' 'Electric' 'Ground'\n",
      " 'Fairy' 'Fighting' 'Psychic' 'Rock' 'Ghost' 'Ice' 'Dragon' 'Dark' 'Steel'\n",
      " 'Flying']\n",
      "<class 'numpy.ndarray'>\n",
      "(18,)\n"
     ]
    }
   ],
   "source": [
    "#Getting unique values for column 'Type 1' with help of unique function\n",
    "#The return type is ndarray which consist of n rows an d columns \n",
    "#(18,) - Represents 18 rows and 1 column \n",
    "print(pokemon_data['Type 1'].unique())\n",
    "print(type(pokemon_data['Type 1'].unique()))\n",
    "print(pokemon_data['Type 1'].unique().shape)"
   ]
  },
  {
   "cell_type": "markdown",
   "metadata": {
    "id": "c8cdr3xEQ8_W"
   },
   "source": [
    "#Data Cleanup"
   ]
  },
  {
   "cell_type": "markdown",
   "metadata": {
    "id": "S0xcEv1T6dLV"
   },
   "source": [
    "dropna"
   ]
  },
  {
   "cell_type": "code",
   "execution_count": 47,
   "metadata": {
    "colab": {
     "base_uri": "https://localhost:8080/",
     "height": 431
    },
    "executionInfo": {
     "elapsed": 861,
     "status": "ok",
     "timestamp": 1615398394968,
     "user": {
      "displayName": "Vishnu Thakral",
      "photoUrl": "https://lh3.googleusercontent.com/a-/AOh14GgyAu0mm-tnCylneImfU3839AzfB7N174RUH66dRg=s64",
      "userId": "15080390568209116376"
     },
     "user_tz": 300
    },
    "id": "TTOpz6lJ4Na-",
    "outputId": "efeffa6e-4c2d-4548-855a-3097ec74678b"
   },
   "outputs": [
    {
     "data": {
      "text/html": [
       "<div>\n",
       "<style scoped>\n",
       "    .dataframe tbody tr th:only-of-type {\n",
       "        vertical-align: middle;\n",
       "    }\n",
       "\n",
       "    .dataframe tbody tr th {\n",
       "        vertical-align: top;\n",
       "    }\n",
       "\n",
       "    .dataframe thead th {\n",
       "        text-align: right;\n",
       "    }\n",
       "</style>\n",
       "<table border=\"1\" class=\"dataframe\">\n",
       "  <thead>\n",
       "    <tr style=\"text-align: right;\">\n",
       "      <th></th>\n",
       "      <th>Name</th>\n",
       "      <th>Type 1</th>\n",
       "      <th>Type 2</th>\n",
       "      <th>HP</th>\n",
       "      <th>Attack</th>\n",
       "      <th>Defense</th>\n",
       "      <th>Sp. Atk</th>\n",
       "      <th>Sp. Def</th>\n",
       "      <th>Speed</th>\n",
       "      <th>Generation</th>\n",
       "      <th>Legendary</th>\n",
       "    </tr>\n",
       "    <tr>\n",
       "      <th>#</th>\n",
       "      <th></th>\n",
       "      <th></th>\n",
       "      <th></th>\n",
       "      <th></th>\n",
       "      <th></th>\n",
       "      <th></th>\n",
       "      <th></th>\n",
       "      <th></th>\n",
       "      <th></th>\n",
       "      <th></th>\n",
       "      <th></th>\n",
       "    </tr>\n",
       "  </thead>\n",
       "  <tbody>\n",
       "    <tr>\n",
       "      <th>1</th>\n",
       "      <td>Bulbasaur</td>\n",
       "      <td>Grass</td>\n",
       "      <td>Poison</td>\n",
       "      <td>45</td>\n",
       "      <td>49</td>\n",
       "      <td>49</td>\n",
       "      <td>65</td>\n",
       "      <td>65</td>\n",
       "      <td>45</td>\n",
       "      <td>1</td>\n",
       "      <td>False</td>\n",
       "    </tr>\n",
       "    <tr>\n",
       "      <th>2</th>\n",
       "      <td>Ivysaur</td>\n",
       "      <td>Grass</td>\n",
       "      <td>Poison</td>\n",
       "      <td>60</td>\n",
       "      <td>62</td>\n",
       "      <td>63</td>\n",
       "      <td>80</td>\n",
       "      <td>80</td>\n",
       "      <td>60</td>\n",
       "      <td>1</td>\n",
       "      <td>False</td>\n",
       "    </tr>\n",
       "    <tr>\n",
       "      <th>3</th>\n",
       "      <td>Venusaur</td>\n",
       "      <td>Grass</td>\n",
       "      <td>Poison</td>\n",
       "      <td>80</td>\n",
       "      <td>82</td>\n",
       "      <td>83</td>\n",
       "      <td>100</td>\n",
       "      <td>100</td>\n",
       "      <td>80</td>\n",
       "      <td>1</td>\n",
       "      <td>False</td>\n",
       "    </tr>\n",
       "    <tr>\n",
       "      <th>3</th>\n",
       "      <td>VenusaurMega Venusaur</td>\n",
       "      <td>Grass</td>\n",
       "      <td>Poison</td>\n",
       "      <td>80</td>\n",
       "      <td>100</td>\n",
       "      <td>123</td>\n",
       "      <td>122</td>\n",
       "      <td>120</td>\n",
       "      <td>80</td>\n",
       "      <td>1</td>\n",
       "      <td>False</td>\n",
       "    </tr>\n",
       "    <tr>\n",
       "      <th>6</th>\n",
       "      <td>Charizard</td>\n",
       "      <td>Fire</td>\n",
       "      <td>Flying</td>\n",
       "      <td>78</td>\n",
       "      <td>84</td>\n",
       "      <td>78</td>\n",
       "      <td>109</td>\n",
       "      <td>85</td>\n",
       "      <td>100</td>\n",
       "      <td>1</td>\n",
       "      <td>False</td>\n",
       "    </tr>\n",
       "    <tr>\n",
       "      <th>...</th>\n",
       "      <td>...</td>\n",
       "      <td>...</td>\n",
       "      <td>...</td>\n",
       "      <td>...</td>\n",
       "      <td>...</td>\n",
       "      <td>...</td>\n",
       "      <td>...</td>\n",
       "      <td>...</td>\n",
       "      <td>...</td>\n",
       "      <td>...</td>\n",
       "      <td>...</td>\n",
       "    </tr>\n",
       "    <tr>\n",
       "      <th>719</th>\n",
       "      <td>Diancie</td>\n",
       "      <td>Rock</td>\n",
       "      <td>Fairy</td>\n",
       "      <td>50</td>\n",
       "      <td>100</td>\n",
       "      <td>150</td>\n",
       "      <td>100</td>\n",
       "      <td>150</td>\n",
       "      <td>50</td>\n",
       "      <td>6</td>\n",
       "      <td>True</td>\n",
       "    </tr>\n",
       "    <tr>\n",
       "      <th>719</th>\n",
       "      <td>DiancieMega Diancie</td>\n",
       "      <td>Rock</td>\n",
       "      <td>Fairy</td>\n",
       "      <td>50</td>\n",
       "      <td>160</td>\n",
       "      <td>110</td>\n",
       "      <td>160</td>\n",
       "      <td>110</td>\n",
       "      <td>110</td>\n",
       "      <td>6</td>\n",
       "      <td>True</td>\n",
       "    </tr>\n",
       "    <tr>\n",
       "      <th>720</th>\n",
       "      <td>HoopaHoopa Confined</td>\n",
       "      <td>Psychic</td>\n",
       "      <td>Ghost</td>\n",
       "      <td>80</td>\n",
       "      <td>110</td>\n",
       "      <td>60</td>\n",
       "      <td>150</td>\n",
       "      <td>130</td>\n",
       "      <td>70</td>\n",
       "      <td>6</td>\n",
       "      <td>True</td>\n",
       "    </tr>\n",
       "    <tr>\n",
       "      <th>720</th>\n",
       "      <td>HoopaHoopa Unbound</td>\n",
       "      <td>Psychic</td>\n",
       "      <td>Dark</td>\n",
       "      <td>80</td>\n",
       "      <td>160</td>\n",
       "      <td>60</td>\n",
       "      <td>170</td>\n",
       "      <td>130</td>\n",
       "      <td>80</td>\n",
       "      <td>6</td>\n",
       "      <td>True</td>\n",
       "    </tr>\n",
       "    <tr>\n",
       "      <th>721</th>\n",
       "      <td>Volcanion</td>\n",
       "      <td>Fire</td>\n",
       "      <td>Water</td>\n",
       "      <td>80</td>\n",
       "      <td>110</td>\n",
       "      <td>120</td>\n",
       "      <td>130</td>\n",
       "      <td>90</td>\n",
       "      <td>70</td>\n",
       "      <td>6</td>\n",
       "      <td>True</td>\n",
       "    </tr>\n",
       "  </tbody>\n",
       "</table>\n",
       "<p>414 rows × 11 columns</p>\n",
       "</div>"
      ],
      "text/plain": [
       "                      Name   Type 1  Type 2  ...  Speed  Generation  Legendary\n",
       "#                                            ...                              \n",
       "1                Bulbasaur    Grass  Poison  ...     45           1      False\n",
       "2                  Ivysaur    Grass  Poison  ...     60           1      False\n",
       "3                 Venusaur    Grass  Poison  ...     80           1      False\n",
       "3    VenusaurMega Venusaur    Grass  Poison  ...     80           1      False\n",
       "6                Charizard     Fire  Flying  ...    100           1      False\n",
       "..                     ...      ...     ...  ...    ...         ...        ...\n",
       "719                Diancie     Rock   Fairy  ...     50           6       True\n",
       "719    DiancieMega Diancie     Rock   Fairy  ...    110           6       True\n",
       "720    HoopaHoopa Confined  Psychic   Ghost  ...     70           6       True\n",
       "720     HoopaHoopa Unbound  Psychic    Dark  ...     80           6       True\n",
       "721              Volcanion     Fire   Water  ...     70           6       True\n",
       "\n",
       "[414 rows x 11 columns]"
      ]
     },
     "execution_count": 47,
     "metadata": {
      "tags": []
     },
     "output_type": "execute_result"
    }
   ],
   "source": [
    "#removing null containing rows\n",
    "pokemon_data.dropna()\n",
    "#since inplace is not set, values/rows will not be removed"
   ]
  },
  {
   "cell_type": "markdown",
   "metadata": {
    "id": "YPfcIKES6iln"
   },
   "source": [
    "using masking"
   ]
  },
  {
   "cell_type": "code",
   "execution_count": 50,
   "metadata": {
    "colab": {
     "base_uri": "https://localhost:8080/",
     "height": 431
    },
    "executionInfo": {
     "elapsed": 1017,
     "status": "ok",
     "timestamp": 1615398431111,
     "user": {
      "displayName": "Vishnu Thakral",
      "photoUrl": "https://lh3.googleusercontent.com/a-/AOh14GgyAu0mm-tnCylneImfU3839AzfB7N174RUH66dRg=s64",
      "userId": "15080390568209116376"
     },
     "user_tz": 300
    },
    "id": "epDLAaXKTrWC",
    "outputId": "e36ea51c-d250-41ea-b8a6-d7435b49cbe0"
   },
   "outputs": [
    {
     "data": {
      "text/html": [
       "<div>\n",
       "<style scoped>\n",
       "    .dataframe tbody tr th:only-of-type {\n",
       "        vertical-align: middle;\n",
       "    }\n",
       "\n",
       "    .dataframe tbody tr th {\n",
       "        vertical-align: top;\n",
       "    }\n",
       "\n",
       "    .dataframe thead th {\n",
       "        text-align: right;\n",
       "    }\n",
       "</style>\n",
       "<table border=\"1\" class=\"dataframe\">\n",
       "  <thead>\n",
       "    <tr style=\"text-align: right;\">\n",
       "      <th></th>\n",
       "      <th>Name</th>\n",
       "      <th>Type 1</th>\n",
       "      <th>Type 2</th>\n",
       "      <th>HP</th>\n",
       "      <th>Attack</th>\n",
       "      <th>Defense</th>\n",
       "      <th>Sp. Atk</th>\n",
       "      <th>Sp. Def</th>\n",
       "      <th>Speed</th>\n",
       "      <th>Generation</th>\n",
       "      <th>Legendary</th>\n",
       "    </tr>\n",
       "    <tr>\n",
       "      <th>#</th>\n",
       "      <th></th>\n",
       "      <th></th>\n",
       "      <th></th>\n",
       "      <th></th>\n",
       "      <th></th>\n",
       "      <th></th>\n",
       "      <th></th>\n",
       "      <th></th>\n",
       "      <th></th>\n",
       "      <th></th>\n",
       "      <th></th>\n",
       "    </tr>\n",
       "  </thead>\n",
       "  <tbody>\n",
       "    <tr>\n",
       "      <th>1</th>\n",
       "      <td>Bulbasaur</td>\n",
       "      <td>Grass</td>\n",
       "      <td>Poison</td>\n",
       "      <td>45</td>\n",
       "      <td>49</td>\n",
       "      <td>49</td>\n",
       "      <td>65</td>\n",
       "      <td>65</td>\n",
       "      <td>45</td>\n",
       "      <td>1</td>\n",
       "      <td>False</td>\n",
       "    </tr>\n",
       "    <tr>\n",
       "      <th>2</th>\n",
       "      <td>Ivysaur</td>\n",
       "      <td>Grass</td>\n",
       "      <td>Poison</td>\n",
       "      <td>60</td>\n",
       "      <td>62</td>\n",
       "      <td>63</td>\n",
       "      <td>80</td>\n",
       "      <td>80</td>\n",
       "      <td>60</td>\n",
       "      <td>1</td>\n",
       "      <td>False</td>\n",
       "    </tr>\n",
       "    <tr>\n",
       "      <th>3</th>\n",
       "      <td>Venusaur</td>\n",
       "      <td>Grass</td>\n",
       "      <td>Poison</td>\n",
       "      <td>80</td>\n",
       "      <td>82</td>\n",
       "      <td>83</td>\n",
       "      <td>100</td>\n",
       "      <td>100</td>\n",
       "      <td>80</td>\n",
       "      <td>1</td>\n",
       "      <td>False</td>\n",
       "    </tr>\n",
       "    <tr>\n",
       "      <th>3</th>\n",
       "      <td>VenusaurMega Venusaur</td>\n",
       "      <td>Grass</td>\n",
       "      <td>Poison</td>\n",
       "      <td>80</td>\n",
       "      <td>100</td>\n",
       "      <td>123</td>\n",
       "      <td>122</td>\n",
       "      <td>120</td>\n",
       "      <td>80</td>\n",
       "      <td>1</td>\n",
       "      <td>False</td>\n",
       "    </tr>\n",
       "    <tr>\n",
       "      <th>6</th>\n",
       "      <td>Charizard</td>\n",
       "      <td>Fire</td>\n",
       "      <td>Flying</td>\n",
       "      <td>78</td>\n",
       "      <td>84</td>\n",
       "      <td>78</td>\n",
       "      <td>109</td>\n",
       "      <td>85</td>\n",
       "      <td>100</td>\n",
       "      <td>1</td>\n",
       "      <td>False</td>\n",
       "    </tr>\n",
       "    <tr>\n",
       "      <th>...</th>\n",
       "      <td>...</td>\n",
       "      <td>...</td>\n",
       "      <td>...</td>\n",
       "      <td>...</td>\n",
       "      <td>...</td>\n",
       "      <td>...</td>\n",
       "      <td>...</td>\n",
       "      <td>...</td>\n",
       "      <td>...</td>\n",
       "      <td>...</td>\n",
       "      <td>...</td>\n",
       "    </tr>\n",
       "    <tr>\n",
       "      <th>719</th>\n",
       "      <td>Diancie</td>\n",
       "      <td>Rock</td>\n",
       "      <td>Fairy</td>\n",
       "      <td>50</td>\n",
       "      <td>100</td>\n",
       "      <td>150</td>\n",
       "      <td>100</td>\n",
       "      <td>150</td>\n",
       "      <td>50</td>\n",
       "      <td>6</td>\n",
       "      <td>True</td>\n",
       "    </tr>\n",
       "    <tr>\n",
       "      <th>719</th>\n",
       "      <td>DiancieMega Diancie</td>\n",
       "      <td>Rock</td>\n",
       "      <td>Fairy</td>\n",
       "      <td>50</td>\n",
       "      <td>160</td>\n",
       "      <td>110</td>\n",
       "      <td>160</td>\n",
       "      <td>110</td>\n",
       "      <td>110</td>\n",
       "      <td>6</td>\n",
       "      <td>True</td>\n",
       "    </tr>\n",
       "    <tr>\n",
       "      <th>720</th>\n",
       "      <td>HoopaHoopa Confined</td>\n",
       "      <td>Psychic</td>\n",
       "      <td>Ghost</td>\n",
       "      <td>80</td>\n",
       "      <td>110</td>\n",
       "      <td>60</td>\n",
       "      <td>150</td>\n",
       "      <td>130</td>\n",
       "      <td>70</td>\n",
       "      <td>6</td>\n",
       "      <td>True</td>\n",
       "    </tr>\n",
       "    <tr>\n",
       "      <th>720</th>\n",
       "      <td>HoopaHoopa Unbound</td>\n",
       "      <td>Psychic</td>\n",
       "      <td>Dark</td>\n",
       "      <td>80</td>\n",
       "      <td>160</td>\n",
       "      <td>60</td>\n",
       "      <td>170</td>\n",
       "      <td>130</td>\n",
       "      <td>80</td>\n",
       "      <td>6</td>\n",
       "      <td>True</td>\n",
       "    </tr>\n",
       "    <tr>\n",
       "      <th>721</th>\n",
       "      <td>Volcanion</td>\n",
       "      <td>Fire</td>\n",
       "      <td>Water</td>\n",
       "      <td>80</td>\n",
       "      <td>110</td>\n",
       "      <td>120</td>\n",
       "      <td>130</td>\n",
       "      <td>90</td>\n",
       "      <td>70</td>\n",
       "      <td>6</td>\n",
       "      <td>True</td>\n",
       "    </tr>\n",
       "  </tbody>\n",
       "</table>\n",
       "<p>414 rows × 11 columns</p>\n",
       "</div>"
      ],
      "text/plain": [
       "                      Name   Type 1  Type 2  ...  Speed  Generation  Legendary\n",
       "#                                            ...                              \n",
       "1                Bulbasaur    Grass  Poison  ...     45           1      False\n",
       "2                  Ivysaur    Grass  Poison  ...     60           1      False\n",
       "3                 Venusaur    Grass  Poison  ...     80           1      False\n",
       "3    VenusaurMega Venusaur    Grass  Poison  ...     80           1      False\n",
       "6                Charizard     Fire  Flying  ...    100           1      False\n",
       "..                     ...      ...     ...  ...    ...         ...        ...\n",
       "719                Diancie     Rock   Fairy  ...     50           6       True\n",
       "719    DiancieMega Diancie     Rock   Fairy  ...    110           6       True\n",
       "720    HoopaHoopa Confined  Psychic   Ghost  ...     70           6       True\n",
       "720     HoopaHoopa Unbound  Psychic    Dark  ...     80           6       True\n",
       "721              Volcanion     Fire   Water  ...     70           6       True\n",
       "\n",
       "[414 rows x 11 columns]"
      ]
     },
     "execution_count": 50,
     "metadata": {
      "tags": []
     },
     "output_type": "execute_result"
    }
   ],
   "source": [
    "#Masking and use of loc\n",
    "#Converting to string datatype with astype\n",
    "pokemon_data['Type 2'] = pokemon_data['Type 2'].astype(str)\n",
    "mask = (pokemon_data['Type 2'] != 'nan')\n",
    "pk_data = pokemon_data.loc[mask]\n",
    "pk_data"
   ]
  },
  {
   "cell_type": "markdown",
   "metadata": {
    "id": "Tff1pKNN6t72"
   },
   "source": [
    "Q. select pokemons that have (type 1 grass and type 2 as steel) or have speed >10"
   ]
  },
  {
   "cell_type": "code",
   "execution_count": null,
   "metadata": {
    "id": "bevPwV7O6nxh"
   },
   "outputs": [],
   "source": [
    "#Ans\n",
    "#and is & , or is | "
   ]
  },
  {
   "cell_type": "markdown",
   "metadata": {
    "id": "lpW7TUueVnqX"
   },
   "source": [
    "#Sort"
   ]
  },
  {
   "cell_type": "code",
   "execution_count": 51,
   "metadata": {
    "colab": {
     "base_uri": "https://localhost:8080/",
     "height": 225
    },
    "executionInfo": {
     "elapsed": 706,
     "status": "ok",
     "timestamp": 1615398440255,
     "user": {
      "displayName": "Vishnu Thakral",
      "photoUrl": "https://lh3.googleusercontent.com/a-/AOh14GgyAu0mm-tnCylneImfU3839AzfB7N174RUH66dRg=s64",
      "userId": "15080390568209116376"
     },
     "user_tz": 300
    },
    "id": "VV3MwtEX7gEQ",
    "outputId": "27911635-4f7c-4429-b9c1-20db08d4e988"
   },
   "outputs": [
    {
     "data": {
      "text/html": [
       "<div>\n",
       "<style scoped>\n",
       "    .dataframe tbody tr th:only-of-type {\n",
       "        vertical-align: middle;\n",
       "    }\n",
       "\n",
       "    .dataframe tbody tr th {\n",
       "        vertical-align: top;\n",
       "    }\n",
       "\n",
       "    .dataframe thead th {\n",
       "        text-align: right;\n",
       "    }\n",
       "</style>\n",
       "<table border=\"1\" class=\"dataframe\">\n",
       "  <thead>\n",
       "    <tr style=\"text-align: right;\">\n",
       "      <th></th>\n",
       "      <th>Name</th>\n",
       "      <th>Type 1</th>\n",
       "      <th>Type 2</th>\n",
       "      <th>HP</th>\n",
       "      <th>Attack</th>\n",
       "      <th>Defense</th>\n",
       "      <th>Sp. Atk</th>\n",
       "      <th>Sp. Def</th>\n",
       "      <th>Speed</th>\n",
       "      <th>Generation</th>\n",
       "      <th>Legendary</th>\n",
       "    </tr>\n",
       "    <tr>\n",
       "      <th>#</th>\n",
       "      <th></th>\n",
       "      <th></th>\n",
       "      <th></th>\n",
       "      <th></th>\n",
       "      <th></th>\n",
       "      <th></th>\n",
       "      <th></th>\n",
       "      <th></th>\n",
       "      <th></th>\n",
       "      <th></th>\n",
       "      <th></th>\n",
       "    </tr>\n",
       "  </thead>\n",
       "  <tbody>\n",
       "    <tr>\n",
       "      <th>242</th>\n",
       "      <td>Blissey</td>\n",
       "      <td>Normal</td>\n",
       "      <td>nan</td>\n",
       "      <td>255</td>\n",
       "      <td>10</td>\n",
       "      <td>10</td>\n",
       "      <td>75</td>\n",
       "      <td>135</td>\n",
       "      <td>55</td>\n",
       "      <td>2</td>\n",
       "      <td>False</td>\n",
       "    </tr>\n",
       "    <tr>\n",
       "      <th>113</th>\n",
       "      <td>Chansey</td>\n",
       "      <td>Normal</td>\n",
       "      <td>nan</td>\n",
       "      <td>250</td>\n",
       "      <td>5</td>\n",
       "      <td>5</td>\n",
       "      <td>35</td>\n",
       "      <td>105</td>\n",
       "      <td>50</td>\n",
       "      <td>1</td>\n",
       "      <td>False</td>\n",
       "    </tr>\n",
       "    <tr>\n",
       "      <th>202</th>\n",
       "      <td>Wobbuffet</td>\n",
       "      <td>Psychic</td>\n",
       "      <td>nan</td>\n",
       "      <td>190</td>\n",
       "      <td>33</td>\n",
       "      <td>58</td>\n",
       "      <td>33</td>\n",
       "      <td>58</td>\n",
       "      <td>33</td>\n",
       "      <td>2</td>\n",
       "      <td>False</td>\n",
       "    </tr>\n",
       "    <tr>\n",
       "      <th>321</th>\n",
       "      <td>Wailord</td>\n",
       "      <td>Water</td>\n",
       "      <td>nan</td>\n",
       "      <td>170</td>\n",
       "      <td>90</td>\n",
       "      <td>45</td>\n",
       "      <td>90</td>\n",
       "      <td>45</td>\n",
       "      <td>60</td>\n",
       "      <td>3</td>\n",
       "      <td>False</td>\n",
       "    </tr>\n",
       "    <tr>\n",
       "      <th>594</th>\n",
       "      <td>Alomomola</td>\n",
       "      <td>Water</td>\n",
       "      <td>nan</td>\n",
       "      <td>165</td>\n",
       "      <td>75</td>\n",
       "      <td>80</td>\n",
       "      <td>40</td>\n",
       "      <td>45</td>\n",
       "      <td>65</td>\n",
       "      <td>5</td>\n",
       "      <td>False</td>\n",
       "    </tr>\n",
       "  </tbody>\n",
       "</table>\n",
       "</div>"
      ],
      "text/plain": [
       "          Name   Type 1 Type 2   HP  ...  Sp. Def  Speed  Generation  Legendary\n",
       "#                                    ...                                       \n",
       "242    Blissey   Normal    nan  255  ...      135     55           2      False\n",
       "113    Chansey   Normal    nan  250  ...      105     50           1      False\n",
       "202  Wobbuffet  Psychic    nan  190  ...       58     33           2      False\n",
       "321    Wailord    Water    nan  170  ...       45     60           3      False\n",
       "594  Alomomola    Water    nan  165  ...       45     65           5      False\n",
       "\n",
       "[5 rows x 11 columns]"
      ]
     },
     "execution_count": 51,
     "metadata": {
      "tags": []
     },
     "output_type": "execute_result"
    }
   ],
   "source": [
    "#Can assign one or more column for sorting\n",
    "#Return type is dataframe object\n",
    "\n",
    "pokemon_data.sort_values(by=['HP','Attack','Defense','Speed'],ascending = [False,True,False,True],inplace=True)\n",
    "pokemon_data.head(5)"
   ]
  },
  {
   "cell_type": "markdown",
   "metadata": {
    "id": "mhdOBc_58vyY"
   },
   "source": [
    "#Groupby"
   ]
  },
  {
   "cell_type": "markdown",
   "metadata": {
    "id": "ZVmQlykC9O06"
   },
   "source": [
    "used to perform some aggregate analysis based on values in some column"
   ]
  },
  {
   "cell_type": "code",
   "execution_count": 52,
   "metadata": {
    "colab": {
     "base_uri": "https://localhost:8080/",
     "height": 610
    },
    "executionInfo": {
     "elapsed": 484,
     "status": "ok",
     "timestamp": 1615398443363,
     "user": {
      "displayName": "Vishnu Thakral",
      "photoUrl": "https://lh3.googleusercontent.com/a-/AOh14GgyAu0mm-tnCylneImfU3839AzfB7N174RUH66dRg=s64",
      "userId": "15080390568209116376"
     },
     "user_tz": 300
    },
    "id": "joqVAz4j9Y9n",
    "outputId": "5af0eb70-1ea4-4f43-dee8-c7b1e2541a80"
   },
   "outputs": [
    {
     "data": {
      "text/html": [
       "<div>\n",
       "<style scoped>\n",
       "    .dataframe tbody tr th:only-of-type {\n",
       "        vertical-align: middle;\n",
       "    }\n",
       "\n",
       "    .dataframe tbody tr th {\n",
       "        vertical-align: top;\n",
       "    }\n",
       "\n",
       "    .dataframe thead th {\n",
       "        text-align: right;\n",
       "    }\n",
       "</style>\n",
       "<table border=\"1\" class=\"dataframe\">\n",
       "  <thead>\n",
       "    <tr style=\"text-align: right;\">\n",
       "      <th></th>\n",
       "      <th>Name</th>\n",
       "      <th>Type 1</th>\n",
       "      <th>Type 2</th>\n",
       "      <th>HP</th>\n",
       "      <th>Attack</th>\n",
       "      <th>Defense</th>\n",
       "      <th>Sp. Atk</th>\n",
       "      <th>Sp. Def</th>\n",
       "      <th>Speed</th>\n",
       "      <th>Generation</th>\n",
       "      <th>Legendary</th>\n",
       "    </tr>\n",
       "    <tr>\n",
       "      <th>#</th>\n",
       "      <th></th>\n",
       "      <th></th>\n",
       "      <th></th>\n",
       "      <th></th>\n",
       "      <th></th>\n",
       "      <th></th>\n",
       "      <th></th>\n",
       "      <th></th>\n",
       "      <th></th>\n",
       "      <th></th>\n",
       "      <th></th>\n",
       "    </tr>\n",
       "  </thead>\n",
       "  <tbody>\n",
       "    <tr>\n",
       "      <th>242</th>\n",
       "      <td>Blissey</td>\n",
       "      <td>Normal</td>\n",
       "      <td>nan</td>\n",
       "      <td>255</td>\n",
       "      <td>10</td>\n",
       "      <td>10</td>\n",
       "      <td>75</td>\n",
       "      <td>135</td>\n",
       "      <td>55</td>\n",
       "      <td>2</td>\n",
       "      <td>False</td>\n",
       "    </tr>\n",
       "    <tr>\n",
       "      <th>202</th>\n",
       "      <td>Wobbuffet</td>\n",
       "      <td>Psychic</td>\n",
       "      <td>nan</td>\n",
       "      <td>190</td>\n",
       "      <td>33</td>\n",
       "      <td>58</td>\n",
       "      <td>33</td>\n",
       "      <td>58</td>\n",
       "      <td>33</td>\n",
       "      <td>2</td>\n",
       "      <td>False</td>\n",
       "    </tr>\n",
       "    <tr>\n",
       "      <th>321</th>\n",
       "      <td>Wailord</td>\n",
       "      <td>Water</td>\n",
       "      <td>nan</td>\n",
       "      <td>170</td>\n",
       "      <td>90</td>\n",
       "      <td>45</td>\n",
       "      <td>90</td>\n",
       "      <td>45</td>\n",
       "      <td>60</td>\n",
       "      <td>3</td>\n",
       "      <td>False</td>\n",
       "    </tr>\n",
       "    <tr>\n",
       "      <th>426</th>\n",
       "      <td>Drifblim</td>\n",
       "      <td>Ghost</td>\n",
       "      <td>Flying</td>\n",
       "      <td>150</td>\n",
       "      <td>80</td>\n",
       "      <td>44</td>\n",
       "      <td>90</td>\n",
       "      <td>54</td>\n",
       "      <td>80</td>\n",
       "      <td>4</td>\n",
       "      <td>False</td>\n",
       "    </tr>\n",
       "    <tr>\n",
       "      <th>297</th>\n",
       "      <td>Hariyama</td>\n",
       "      <td>Fighting</td>\n",
       "      <td>nan</td>\n",
       "      <td>144</td>\n",
       "      <td>120</td>\n",
       "      <td>60</td>\n",
       "      <td>40</td>\n",
       "      <td>60</td>\n",
       "      <td>50</td>\n",
       "      <td>3</td>\n",
       "      <td>False</td>\n",
       "    </tr>\n",
       "    <tr>\n",
       "      <th>716</th>\n",
       "      <td>Xerneas</td>\n",
       "      <td>Fairy</td>\n",
       "      <td>nan</td>\n",
       "      <td>126</td>\n",
       "      <td>131</td>\n",
       "      <td>95</td>\n",
       "      <td>131</td>\n",
       "      <td>98</td>\n",
       "      <td>99</td>\n",
       "      <td>6</td>\n",
       "      <td>True</td>\n",
       "    </tr>\n",
       "    <tr>\n",
       "      <th>717</th>\n",
       "      <td>Yveltal</td>\n",
       "      <td>Dark</td>\n",
       "      <td>Flying</td>\n",
       "      <td>126</td>\n",
       "      <td>131</td>\n",
       "      <td>95</td>\n",
       "      <td>131</td>\n",
       "      <td>98</td>\n",
       "      <td>99</td>\n",
       "      <td>6</td>\n",
       "      <td>True</td>\n",
       "    </tr>\n",
       "    <tr>\n",
       "      <th>646</th>\n",
       "      <td>KyuremWhite Kyurem</td>\n",
       "      <td>Dragon</td>\n",
       "      <td>Ice</td>\n",
       "      <td>125</td>\n",
       "      <td>120</td>\n",
       "      <td>90</td>\n",
       "      <td>170</td>\n",
       "      <td>100</td>\n",
       "      <td>95</td>\n",
       "      <td>5</td>\n",
       "      <td>True</td>\n",
       "    </tr>\n",
       "    <tr>\n",
       "      <th>699</th>\n",
       "      <td>Aurorus</td>\n",
       "      <td>Rock</td>\n",
       "      <td>Ice</td>\n",
       "      <td>123</td>\n",
       "      <td>77</td>\n",
       "      <td>72</td>\n",
       "      <td>99</td>\n",
       "      <td>92</td>\n",
       "      <td>58</td>\n",
       "      <td>6</td>\n",
       "      <td>False</td>\n",
       "    </tr>\n",
       "    <tr>\n",
       "      <th>673</th>\n",
       "      <td>Gogoat</td>\n",
       "      <td>Grass</td>\n",
       "      <td>nan</td>\n",
       "      <td>123</td>\n",
       "      <td>100</td>\n",
       "      <td>62</td>\n",
       "      <td>97</td>\n",
       "      <td>81</td>\n",
       "      <td>68</td>\n",
       "      <td>6</td>\n",
       "      <td>False</td>\n",
       "    </tr>\n",
       "    <tr>\n",
       "      <th>244</th>\n",
       "      <td>Entei</td>\n",
       "      <td>Fire</td>\n",
       "      <td>nan</td>\n",
       "      <td>115</td>\n",
       "      <td>115</td>\n",
       "      <td>85</td>\n",
       "      <td>90</td>\n",
       "      <td>75</td>\n",
       "      <td>100</td>\n",
       "      <td>2</td>\n",
       "      <td>True</td>\n",
       "    </tr>\n",
       "    <tr>\n",
       "      <th>464</th>\n",
       "      <td>Rhyperior</td>\n",
       "      <td>Ground</td>\n",
       "      <td>Rock</td>\n",
       "      <td>115</td>\n",
       "      <td>140</td>\n",
       "      <td>130</td>\n",
       "      <td>55</td>\n",
       "      <td>55</td>\n",
       "      <td>40</td>\n",
       "      <td>4</td>\n",
       "      <td>False</td>\n",
       "    </tr>\n",
       "    <tr>\n",
       "      <th>365</th>\n",
       "      <td>Walrein</td>\n",
       "      <td>Ice</td>\n",
       "      <td>Water</td>\n",
       "      <td>110</td>\n",
       "      <td>80</td>\n",
       "      <td>90</td>\n",
       "      <td>95</td>\n",
       "      <td>90</td>\n",
       "      <td>65</td>\n",
       "      <td>3</td>\n",
       "      <td>False</td>\n",
       "    </tr>\n",
       "    <tr>\n",
       "      <th>89</th>\n",
       "      <td>Muk</td>\n",
       "      <td>Poison</td>\n",
       "      <td>nan</td>\n",
       "      <td>105</td>\n",
       "      <td>105</td>\n",
       "      <td>75</td>\n",
       "      <td>65</td>\n",
       "      <td>100</td>\n",
       "      <td>50</td>\n",
       "      <td>1</td>\n",
       "      <td>False</td>\n",
       "    </tr>\n",
       "    <tr>\n",
       "      <th>385</th>\n",
       "      <td>Jirachi</td>\n",
       "      <td>Steel</td>\n",
       "      <td>Psychic</td>\n",
       "      <td>100</td>\n",
       "      <td>100</td>\n",
       "      <td>100</td>\n",
       "      <td>100</td>\n",
       "      <td>100</td>\n",
       "      <td>100</td>\n",
       "      <td>3</td>\n",
       "      <td>True</td>\n",
       "    </tr>\n",
       "    <tr>\n",
       "      <th>181</th>\n",
       "      <td>Ampharos</td>\n",
       "      <td>Electric</td>\n",
       "      <td>nan</td>\n",
       "      <td>90</td>\n",
       "      <td>75</td>\n",
       "      <td>85</td>\n",
       "      <td>115</td>\n",
       "      <td>90</td>\n",
       "      <td>55</td>\n",
       "      <td>2</td>\n",
       "      <td>False</td>\n",
       "    </tr>\n",
       "    <tr>\n",
       "      <th>469</th>\n",
       "      <td>Yanmega</td>\n",
       "      <td>Bug</td>\n",
       "      <td>Flying</td>\n",
       "      <td>86</td>\n",
       "      <td>76</td>\n",
       "      <td>86</td>\n",
       "      <td>116</td>\n",
       "      <td>56</td>\n",
       "      <td>95</td>\n",
       "      <td>4</td>\n",
       "      <td>False</td>\n",
       "    </tr>\n",
       "    <tr>\n",
       "      <th>715</th>\n",
       "      <td>Noivern</td>\n",
       "      <td>Flying</td>\n",
       "      <td>Dragon</td>\n",
       "      <td>85</td>\n",
       "      <td>70</td>\n",
       "      <td>80</td>\n",
       "      <td>97</td>\n",
       "      <td>80</td>\n",
       "      <td>123</td>\n",
       "      <td>6</td>\n",
       "      <td>False</td>\n",
       "    </tr>\n",
       "  </tbody>\n",
       "</table>\n",
       "</div>"
      ],
      "text/plain": [
       "                   Name    Type 1   Type 2  ...  Speed  Generation  Legendary\n",
       "#                                           ...                              \n",
       "242             Blissey    Normal      nan  ...     55           2      False\n",
       "202           Wobbuffet   Psychic      nan  ...     33           2      False\n",
       "321             Wailord     Water      nan  ...     60           3      False\n",
       "426            Drifblim     Ghost   Flying  ...     80           4      False\n",
       "297            Hariyama  Fighting      nan  ...     50           3      False\n",
       "716             Xerneas     Fairy      nan  ...     99           6       True\n",
       "717             Yveltal      Dark   Flying  ...     99           6       True\n",
       "646  KyuremWhite Kyurem    Dragon      Ice  ...     95           5       True\n",
       "699             Aurorus      Rock      Ice  ...     58           6      False\n",
       "673              Gogoat     Grass      nan  ...     68           6      False\n",
       "244               Entei      Fire      nan  ...    100           2       True\n",
       "464           Rhyperior    Ground     Rock  ...     40           4      False\n",
       "365             Walrein       Ice    Water  ...     65           3      False\n",
       "89                  Muk    Poison      nan  ...     50           1      False\n",
       "385             Jirachi     Steel  Psychic  ...    100           3       True\n",
       "181            Ampharos  Electric      nan  ...     55           2      False\n",
       "469             Yanmega       Bug   Flying  ...     95           4      False\n",
       "715             Noivern    Flying   Dragon  ...    123           6      False\n",
       "\n",
       "[18 rows x 11 columns]"
      ]
     },
     "execution_count": 52,
     "metadata": {
      "tags": []
     },
     "output_type": "execute_result"
    }
   ],
   "source": [
    "#Normal Group by\n",
    "pokemon_data.groupby('Type 1').head(1)\n",
    "#The above code displays the top row within each group."
   ]
  },
  {
   "cell_type": "code",
   "execution_count": 53,
   "metadata": {
    "colab": {
     "base_uri": "https://localhost:8080/",
     "height": 610
    },
    "executionInfo": {
     "elapsed": 377,
     "status": "ok",
     "timestamp": 1615398446231,
     "user": {
      "displayName": "Vishnu Thakral",
      "photoUrl": "https://lh3.googleusercontent.com/a-/AOh14GgyAu0mm-tnCylneImfU3839AzfB7N174RUH66dRg=s64",
      "userId": "15080390568209116376"
     },
     "user_tz": 300
    },
    "id": "pofYXZaH9487",
    "outputId": "db74d0de-9718-418b-f8c8-67991ef4c1c4"
   },
   "outputs": [
    {
     "data": {
      "text/html": [
       "<div>\n",
       "<style scoped>\n",
       "    .dataframe tbody tr th:only-of-type {\n",
       "        vertical-align: middle;\n",
       "    }\n",
       "\n",
       "    .dataframe tbody tr th {\n",
       "        vertical-align: top;\n",
       "    }\n",
       "\n",
       "    .dataframe thead th {\n",
       "        text-align: right;\n",
       "    }\n",
       "</style>\n",
       "<table border=\"1\" class=\"dataframe\">\n",
       "  <thead>\n",
       "    <tr style=\"text-align: right;\">\n",
       "      <th></th>\n",
       "      <th>HP</th>\n",
       "      <th>Attack</th>\n",
       "      <th>Defense</th>\n",
       "      <th>Sp. Atk</th>\n",
       "      <th>Sp. Def</th>\n",
       "      <th>Speed</th>\n",
       "      <th>Generation</th>\n",
       "      <th>Legendary</th>\n",
       "    </tr>\n",
       "    <tr>\n",
       "      <th>Type 1</th>\n",
       "      <th></th>\n",
       "      <th></th>\n",
       "      <th></th>\n",
       "      <th></th>\n",
       "      <th></th>\n",
       "      <th></th>\n",
       "      <th></th>\n",
       "      <th></th>\n",
       "    </tr>\n",
       "  </thead>\n",
       "  <tbody>\n",
       "    <tr>\n",
       "      <th>Bug</th>\n",
       "      <td>56.884058</td>\n",
       "      <td>70.971014</td>\n",
       "      <td>70.724638</td>\n",
       "      <td>53.869565</td>\n",
       "      <td>64.797101</td>\n",
       "      <td>61.681159</td>\n",
       "      <td>3.217391</td>\n",
       "      <td>0.000000</td>\n",
       "    </tr>\n",
       "    <tr>\n",
       "      <th>Dark</th>\n",
       "      <td>66.806452</td>\n",
       "      <td>88.387097</td>\n",
       "      <td>70.225806</td>\n",
       "      <td>74.645161</td>\n",
       "      <td>69.516129</td>\n",
       "      <td>76.161290</td>\n",
       "      <td>4.032258</td>\n",
       "      <td>0.064516</td>\n",
       "    </tr>\n",
       "    <tr>\n",
       "      <th>Dragon</th>\n",
       "      <td>83.312500</td>\n",
       "      <td>112.125000</td>\n",
       "      <td>86.375000</td>\n",
       "      <td>96.843750</td>\n",
       "      <td>88.843750</td>\n",
       "      <td>83.031250</td>\n",
       "      <td>3.875000</td>\n",
       "      <td>0.375000</td>\n",
       "    </tr>\n",
       "    <tr>\n",
       "      <th>Electric</th>\n",
       "      <td>59.795455</td>\n",
       "      <td>69.090909</td>\n",
       "      <td>66.295455</td>\n",
       "      <td>90.022727</td>\n",
       "      <td>73.704545</td>\n",
       "      <td>84.500000</td>\n",
       "      <td>3.272727</td>\n",
       "      <td>0.090909</td>\n",
       "    </tr>\n",
       "    <tr>\n",
       "      <th>Fairy</th>\n",
       "      <td>74.117647</td>\n",
       "      <td>61.529412</td>\n",
       "      <td>65.705882</td>\n",
       "      <td>78.529412</td>\n",
       "      <td>84.705882</td>\n",
       "      <td>48.588235</td>\n",
       "      <td>4.117647</td>\n",
       "      <td>0.058824</td>\n",
       "    </tr>\n",
       "    <tr>\n",
       "      <th>Fighting</th>\n",
       "      <td>69.851852</td>\n",
       "      <td>96.777778</td>\n",
       "      <td>65.925926</td>\n",
       "      <td>53.111111</td>\n",
       "      <td>64.703704</td>\n",
       "      <td>66.074074</td>\n",
       "      <td>3.370370</td>\n",
       "      <td>0.000000</td>\n",
       "    </tr>\n",
       "    <tr>\n",
       "      <th>Fire</th>\n",
       "      <td>69.903846</td>\n",
       "      <td>84.769231</td>\n",
       "      <td>67.769231</td>\n",
       "      <td>88.980769</td>\n",
       "      <td>72.211538</td>\n",
       "      <td>74.442308</td>\n",
       "      <td>3.211538</td>\n",
       "      <td>0.096154</td>\n",
       "    </tr>\n",
       "    <tr>\n",
       "      <th>Flying</th>\n",
       "      <td>70.750000</td>\n",
       "      <td>78.750000</td>\n",
       "      <td>66.250000</td>\n",
       "      <td>94.250000</td>\n",
       "      <td>72.500000</td>\n",
       "      <td>102.500000</td>\n",
       "      <td>5.500000</td>\n",
       "      <td>0.500000</td>\n",
       "    </tr>\n",
       "    <tr>\n",
       "      <th>Ghost</th>\n",
       "      <td>64.437500</td>\n",
       "      <td>73.781250</td>\n",
       "      <td>81.187500</td>\n",
       "      <td>79.343750</td>\n",
       "      <td>76.468750</td>\n",
       "      <td>64.343750</td>\n",
       "      <td>4.187500</td>\n",
       "      <td>0.062500</td>\n",
       "    </tr>\n",
       "    <tr>\n",
       "      <th>Grass</th>\n",
       "      <td>67.271429</td>\n",
       "      <td>73.214286</td>\n",
       "      <td>70.800000</td>\n",
       "      <td>77.500000</td>\n",
       "      <td>70.428571</td>\n",
       "      <td>61.928571</td>\n",
       "      <td>3.357143</td>\n",
       "      <td>0.042857</td>\n",
       "    </tr>\n",
       "    <tr>\n",
       "      <th>Ground</th>\n",
       "      <td>73.781250</td>\n",
       "      <td>95.750000</td>\n",
       "      <td>84.843750</td>\n",
       "      <td>56.468750</td>\n",
       "      <td>62.750000</td>\n",
       "      <td>63.906250</td>\n",
       "      <td>3.156250</td>\n",
       "      <td>0.125000</td>\n",
       "    </tr>\n",
       "    <tr>\n",
       "      <th>Ice</th>\n",
       "      <td>72.000000</td>\n",
       "      <td>72.750000</td>\n",
       "      <td>71.416667</td>\n",
       "      <td>77.541667</td>\n",
       "      <td>76.291667</td>\n",
       "      <td>63.458333</td>\n",
       "      <td>3.541667</td>\n",
       "      <td>0.083333</td>\n",
       "    </tr>\n",
       "    <tr>\n",
       "      <th>Normal</th>\n",
       "      <td>77.275510</td>\n",
       "      <td>73.469388</td>\n",
       "      <td>59.846939</td>\n",
       "      <td>55.816327</td>\n",
       "      <td>63.724490</td>\n",
       "      <td>71.551020</td>\n",
       "      <td>3.051020</td>\n",
       "      <td>0.020408</td>\n",
       "    </tr>\n",
       "    <tr>\n",
       "      <th>Poison</th>\n",
       "      <td>67.250000</td>\n",
       "      <td>74.678571</td>\n",
       "      <td>68.821429</td>\n",
       "      <td>60.428571</td>\n",
       "      <td>64.392857</td>\n",
       "      <td>63.571429</td>\n",
       "      <td>2.535714</td>\n",
       "      <td>0.000000</td>\n",
       "    </tr>\n",
       "    <tr>\n",
       "      <th>Psychic</th>\n",
       "      <td>70.631579</td>\n",
       "      <td>71.456140</td>\n",
       "      <td>67.684211</td>\n",
       "      <td>98.403509</td>\n",
       "      <td>86.280702</td>\n",
       "      <td>81.491228</td>\n",
       "      <td>3.385965</td>\n",
       "      <td>0.245614</td>\n",
       "    </tr>\n",
       "    <tr>\n",
       "      <th>Rock</th>\n",
       "      <td>65.363636</td>\n",
       "      <td>92.863636</td>\n",
       "      <td>100.795455</td>\n",
       "      <td>63.340909</td>\n",
       "      <td>75.477273</td>\n",
       "      <td>55.909091</td>\n",
       "      <td>3.454545</td>\n",
       "      <td>0.090909</td>\n",
       "    </tr>\n",
       "    <tr>\n",
       "      <th>Steel</th>\n",
       "      <td>65.222222</td>\n",
       "      <td>92.703704</td>\n",
       "      <td>126.370370</td>\n",
       "      <td>67.518519</td>\n",
       "      <td>80.629630</td>\n",
       "      <td>55.259259</td>\n",
       "      <td>3.851852</td>\n",
       "      <td>0.148148</td>\n",
       "    </tr>\n",
       "    <tr>\n",
       "      <th>Water</th>\n",
       "      <td>72.062500</td>\n",
       "      <td>74.151786</td>\n",
       "      <td>72.946429</td>\n",
       "      <td>74.812500</td>\n",
       "      <td>70.517857</td>\n",
       "      <td>65.964286</td>\n",
       "      <td>2.857143</td>\n",
       "      <td>0.035714</td>\n",
       "    </tr>\n",
       "  </tbody>\n",
       "</table>\n",
       "</div>"
      ],
      "text/plain": [
       "                 HP      Attack     Defense  ...       Speed  Generation  Legendary\n",
       "Type 1                                       ...                                   \n",
       "Bug       56.884058   70.971014   70.724638  ...   61.681159    3.217391   0.000000\n",
       "Dark      66.806452   88.387097   70.225806  ...   76.161290    4.032258   0.064516\n",
       "Dragon    83.312500  112.125000   86.375000  ...   83.031250    3.875000   0.375000\n",
       "Electric  59.795455   69.090909   66.295455  ...   84.500000    3.272727   0.090909\n",
       "Fairy     74.117647   61.529412   65.705882  ...   48.588235    4.117647   0.058824\n",
       "Fighting  69.851852   96.777778   65.925926  ...   66.074074    3.370370   0.000000\n",
       "Fire      69.903846   84.769231   67.769231  ...   74.442308    3.211538   0.096154\n",
       "Flying    70.750000   78.750000   66.250000  ...  102.500000    5.500000   0.500000\n",
       "Ghost     64.437500   73.781250   81.187500  ...   64.343750    4.187500   0.062500\n",
       "Grass     67.271429   73.214286   70.800000  ...   61.928571    3.357143   0.042857\n",
       "Ground    73.781250   95.750000   84.843750  ...   63.906250    3.156250   0.125000\n",
       "Ice       72.000000   72.750000   71.416667  ...   63.458333    3.541667   0.083333\n",
       "Normal    77.275510   73.469388   59.846939  ...   71.551020    3.051020   0.020408\n",
       "Poison    67.250000   74.678571   68.821429  ...   63.571429    2.535714   0.000000\n",
       "Psychic   70.631579   71.456140   67.684211  ...   81.491228    3.385965   0.245614\n",
       "Rock      65.363636   92.863636  100.795455  ...   55.909091    3.454545   0.090909\n",
       "Steel     65.222222   92.703704  126.370370  ...   55.259259    3.851852   0.148148\n",
       "Water     72.062500   74.151786   72.946429  ...   65.964286    2.857143   0.035714\n",
       "\n",
       "[18 rows x 8 columns]"
      ]
     },
     "execution_count": 53,
     "metadata": {
      "tags": []
     },
     "output_type": "execute_result"
    }
   ],
   "source": [
    "#Aggregate Functions on groups\n",
    "pokemon_data.groupby('Type 1').mean()"
   ]
  },
  {
   "cell_type": "code",
   "execution_count": 54,
   "metadata": {
    "colab": {
     "base_uri": "https://localhost:8080/",
     "height": 431
    },
    "executionInfo": {
     "elapsed": 3440,
     "status": "ok",
     "timestamp": 1615398453796,
     "user": {
      "displayName": "Vishnu Thakral",
      "photoUrl": "https://lh3.googleusercontent.com/a-/AOh14GgyAu0mm-tnCylneImfU3839AzfB7N174RUH66dRg=s64",
      "userId": "15080390568209116376"
     },
     "user_tz": 300
    },
    "id": "IPSvGOz--G_l",
    "outputId": "63fe5cae-c0cd-4f54-aa16-3cb56f02842f"
   },
   "outputs": [
    {
     "data": {
      "text/html": [
       "<div>\n",
       "<style scoped>\n",
       "    .dataframe tbody tr th:only-of-type {\n",
       "        vertical-align: middle;\n",
       "    }\n",
       "\n",
       "    .dataframe tbody tr th {\n",
       "        vertical-align: top;\n",
       "    }\n",
       "\n",
       "    .dataframe thead th {\n",
       "        text-align: right;\n",
       "    }\n",
       "</style>\n",
       "<table border=\"1\" class=\"dataframe\">\n",
       "  <thead>\n",
       "    <tr style=\"text-align: right;\">\n",
       "      <th></th>\n",
       "      <th></th>\n",
       "      <th>HP</th>\n",
       "      <th>Attack</th>\n",
       "      <th>Defense</th>\n",
       "      <th>Sp. Atk</th>\n",
       "      <th>Sp. Def</th>\n",
       "      <th>Speed</th>\n",
       "      <th>Generation</th>\n",
       "      <th>Legendary</th>\n",
       "    </tr>\n",
       "    <tr>\n",
       "      <th>Type 2</th>\n",
       "      <th>Type 1</th>\n",
       "      <th></th>\n",
       "      <th></th>\n",
       "      <th></th>\n",
       "      <th></th>\n",
       "      <th></th>\n",
       "      <th></th>\n",
       "      <th></th>\n",
       "      <th></th>\n",
       "    </tr>\n",
       "  </thead>\n",
       "  <tbody>\n",
       "    <tr>\n",
       "      <th rowspan=\"2\" valign=\"top\">Bug</th>\n",
       "      <th>Poison</th>\n",
       "      <td>40.000000</td>\n",
       "      <td>50.000000</td>\n",
       "      <td>90.000000</td>\n",
       "      <td>30.000000</td>\n",
       "      <td>55.000000</td>\n",
       "      <td>65.000000</td>\n",
       "      <td>4.000000</td>\n",
       "      <td>0.000000</td>\n",
       "    </tr>\n",
       "    <tr>\n",
       "      <th>Rock</th>\n",
       "      <td>60.000000</td>\n",
       "      <td>110.000000</td>\n",
       "      <td>75.000000</td>\n",
       "      <td>55.000000</td>\n",
       "      <td>65.000000</td>\n",
       "      <td>60.000000</td>\n",
       "      <td>3.000000</td>\n",
       "      <td>0.000000</td>\n",
       "    </tr>\n",
       "    <tr>\n",
       "      <th rowspan=\"3\" valign=\"top\">Dark</th>\n",
       "      <th>Fighting</th>\n",
       "      <td>95.000000</td>\n",
       "      <td>124.000000</td>\n",
       "      <td>78.000000</td>\n",
       "      <td>69.000000</td>\n",
       "      <td>71.000000</td>\n",
       "      <td>58.000000</td>\n",
       "      <td>6.000000</td>\n",
       "      <td>0.000000</td>\n",
       "    </tr>\n",
       "    <tr>\n",
       "      <th>Ghost</th>\n",
       "      <td>50.000000</td>\n",
       "      <td>92.000000</td>\n",
       "      <td>108.000000</td>\n",
       "      <td>92.000000</td>\n",
       "      <td>108.000000</td>\n",
       "      <td>35.000000</td>\n",
       "      <td>4.000000</td>\n",
       "      <td>0.000000</td>\n",
       "    </tr>\n",
       "    <tr>\n",
       "      <th>Grass</th>\n",
       "      <td>76.666667</td>\n",
       "      <td>95.000000</td>\n",
       "      <td>53.333333</td>\n",
       "      <td>88.333333</td>\n",
       "      <td>53.333333</td>\n",
       "      <td>65.000000</td>\n",
       "      <td>3.000000</td>\n",
       "      <td>0.000000</td>\n",
       "    </tr>\n",
       "    <tr>\n",
       "      <th>...</th>\n",
       "      <th>...</th>\n",
       "      <td>...</td>\n",
       "      <td>...</td>\n",
       "      <td>...</td>\n",
       "      <td>...</td>\n",
       "      <td>...</td>\n",
       "      <td>...</td>\n",
       "      <td>...</td>\n",
       "      <td>...</td>\n",
       "    </tr>\n",
       "    <tr>\n",
       "      <th rowspan=\"5\" valign=\"top\">nan</th>\n",
       "      <th>Poison</th>\n",
       "      <td>66.000000</td>\n",
       "      <td>72.266667</td>\n",
       "      <td>67.266667</td>\n",
       "      <td>57.400000</td>\n",
       "      <td>61.866667</td>\n",
       "      <td>54.466667</td>\n",
       "      <td>1.933333</td>\n",
       "      <td>0.000000</td>\n",
       "    </tr>\n",
       "    <tr>\n",
       "      <th>Psychic</th>\n",
       "      <td>72.552632</td>\n",
       "      <td>64.947368</td>\n",
       "      <td>67.236842</td>\n",
       "      <td>98.552632</td>\n",
       "      <td>82.394737</td>\n",
       "      <td>78.868421</td>\n",
       "      <td>3.342105</td>\n",
       "      <td>0.236842</td>\n",
       "    </tr>\n",
       "    <tr>\n",
       "      <th>Rock</th>\n",
       "      <td>67.111111</td>\n",
       "      <td>103.333333</td>\n",
       "      <td>107.222222</td>\n",
       "      <td>40.555556</td>\n",
       "      <td>58.333333</td>\n",
       "      <td>32.888889</td>\n",
       "      <td>3.888889</td>\n",
       "      <td>0.111111</td>\n",
       "    </tr>\n",
       "    <tr>\n",
       "      <th>Steel</th>\n",
       "      <td>62.000000</td>\n",
       "      <td>90.000000</td>\n",
       "      <td>132.000000</td>\n",
       "      <td>64.000000</td>\n",
       "      <td>92.000000</td>\n",
       "      <td>54.000000</td>\n",
       "      <td>4.200000</td>\n",
       "      <td>0.200000</td>\n",
       "    </tr>\n",
       "    <tr>\n",
       "      <th>Water</th>\n",
       "      <td>66.847458</td>\n",
       "      <td>71.830508</td>\n",
       "      <td>69.203390</td>\n",
       "      <td>72.949153</td>\n",
       "      <td>65.033898</td>\n",
       "      <td>67.881356</td>\n",
       "      <td>2.864407</td>\n",
       "      <td>0.050847</td>\n",
       "    </tr>\n",
       "  </tbody>\n",
       "</table>\n",
       "<p>154 rows × 8 columns</p>\n",
       "</div>"
      ],
      "text/plain": [
       "                        HP      Attack  ...  Generation  Legendary\n",
       "Type 2 Type 1                           ...                       \n",
       "Bug    Poison    40.000000   50.000000  ...    4.000000   0.000000\n",
       "       Rock      60.000000  110.000000  ...    3.000000   0.000000\n",
       "Dark   Fighting  95.000000  124.000000  ...    6.000000   0.000000\n",
       "       Ghost     50.000000   92.000000  ...    4.000000   0.000000\n",
       "       Grass     76.666667   95.000000  ...    3.000000   0.000000\n",
       "...                    ...         ...  ...         ...        ...\n",
       "nan    Poison    66.000000   72.266667  ...    1.933333   0.000000\n",
       "       Psychic   72.552632   64.947368  ...    3.342105   0.236842\n",
       "       Rock      67.111111  103.333333  ...    3.888889   0.111111\n",
       "       Steel     62.000000   90.000000  ...    4.200000   0.200000\n",
       "       Water     66.847458   71.830508  ...    2.864407   0.050847\n",
       "\n",
       "[154 rows x 8 columns]"
      ]
     },
     "execution_count": 54,
     "metadata": {
      "tags": []
     },
     "output_type": "execute_result"
    }
   ],
   "source": [
    "#groupby with more than 1 column\n",
    "#order in which columns are specified is important\n",
    "pokemon_data.groupby(['Type 2','Type 1']).mean()"
   ]
  },
  {
   "cell_type": "markdown",
   "metadata": {
    "id": "8mUvESbHCv3h"
   },
   "source": [
    "#Apply "
   ]
  },
  {
   "cell_type": "markdown",
   "metadata": {
    "id": "GZ8vBdzVC9l6"
   },
   "source": [
    "It can also be used to transform data\n",
    "\n",
    "We use apply to manipulate/ create new data from existing info\n",
    "\n",
    "syntax: df.apply('transformation code')\n",
    "\n"
   ]
  },
  {
   "cell_type": "code",
   "execution_count": 55,
   "metadata": {
    "colab": {
     "base_uri": "https://localhost:8080/",
     "height": 254
    },
    "executionInfo": {
     "elapsed": 342,
     "status": "ok",
     "timestamp": 1615398457735,
     "user": {
      "displayName": "Vishnu Thakral",
      "photoUrl": "https://lh3.googleusercontent.com/a-/AOh14GgyAu0mm-tnCylneImfU3839AzfB7N174RUH66dRg=s64",
      "userId": "15080390568209116376"
     },
     "user_tz": 300
    },
    "id": "xYHdNSLoCTGX",
    "outputId": "90ce80f4-30da-4ba3-ef4e-0b492aa51d02"
   },
   "outputs": [
    {
     "data": {
      "text/html": [
       "<div>\n",
       "<style scoped>\n",
       "    .dataframe tbody tr th:only-of-type {\n",
       "        vertical-align: middle;\n",
       "    }\n",
       "\n",
       "    .dataframe tbody tr th {\n",
       "        vertical-align: top;\n",
       "    }\n",
       "\n",
       "    .dataframe thead th {\n",
       "        text-align: right;\n",
       "    }\n",
       "</style>\n",
       "<table border=\"1\" class=\"dataframe\">\n",
       "  <thead>\n",
       "    <tr style=\"text-align: right;\">\n",
       "      <th></th>\n",
       "      <th>age</th>\n",
       "      <th>gender</th>\n",
       "      <th>category</th>\n",
       "    </tr>\n",
       "  </thead>\n",
       "  <tbody>\n",
       "    <tr>\n",
       "      <th>0</th>\n",
       "      <td>10</td>\n",
       "      <td>M</td>\n",
       "      <td>child</td>\n",
       "    </tr>\n",
       "    <tr>\n",
       "      <th>1</th>\n",
       "      <td>22</td>\n",
       "      <td>F</td>\n",
       "      <td>Teenager</td>\n",
       "    </tr>\n",
       "    <tr>\n",
       "      <th>2</th>\n",
       "      <td>34</td>\n",
       "      <td>F</td>\n",
       "      <td>Adult</td>\n",
       "    </tr>\n",
       "    <tr>\n",
       "      <th>3</th>\n",
       "      <td>36</td>\n",
       "      <td>M</td>\n",
       "      <td>Adult</td>\n",
       "    </tr>\n",
       "    <tr>\n",
       "      <th>4</th>\n",
       "      <td>48</td>\n",
       "      <td>M</td>\n",
       "      <td>Adult</td>\n",
       "    </tr>\n",
       "    <tr>\n",
       "      <th>5</th>\n",
       "      <td>25</td>\n",
       "      <td>M</td>\n",
       "      <td>Adult</td>\n",
       "    </tr>\n",
       "    <tr>\n",
       "      <th>6</th>\n",
       "      <td>61</td>\n",
       "      <td>F</td>\n",
       "      <td>Senior</td>\n",
       "    </tr>\n",
       "  </tbody>\n",
       "</table>\n",
       "</div>"
      ],
      "text/plain": [
       "   age gender  category\n",
       "0   10      M     child\n",
       "1   22      F  Teenager\n",
       "2   34      F     Adult\n",
       "3   36      M     Adult\n",
       "4   48      M     Adult\n",
       "5   25      M     Adult\n",
       "6   61      F    Senior"
      ]
     },
     "execution_count": 55,
     "metadata": {
      "tags": []
     },
     "output_type": "execute_result"
    }
   ],
   "source": [
    "data = pd.DataFrame({\n",
    "    'age' :     [ 10, 22, 34, 36, 48, 25, 61],\n",
    "    'gender' :  [ 'M', 'F', 'F', 'M', 'M', 'M', 'F']\n",
    "})\n",
    "def category(age):\n",
    "    if(0 < age <= 16):\n",
    "        return 'child'\n",
    "    elif(16 < age <= 22):\n",
    "        return 'Teenager'\n",
    "    elif(22 < age <= 50):\n",
    "        return 'Adult'\n",
    "    else:\n",
    "        return 'Senior'  \n",
    "        \n",
    "data['category'] = data['age'].apply(category)\n",
    "\n",
    "data.head(8)"
   ]
  },
  {
   "cell_type": "markdown",
   "metadata": {
    "id": "7cz0FWZ3VcWd"
   },
   "source": [
    "#Interesting Facts\n",
    "copy\n"
   ]
  },
  {
   "cell_type": "code",
   "execution_count": 194,
   "metadata": {
    "colab": {
     "base_uri": "https://localhost:8080/"
    },
    "executionInfo": {
     "elapsed": 332,
     "status": "ok",
     "timestamp": 1615394053628,
     "user": {
      "displayName": "Vishnu Thakral",
      "photoUrl": "https://lh3.googleusercontent.com/a-/AOh14GgyAu0mm-tnCylneImfU3839AzfB7N174RUH66dRg=s64",
      "userId": "15080390568209116376"
     },
     "user_tz": 300
    },
    "id": "lEVjuIlxVh16",
    "outputId": "50e76ce9-2606-410e-b409-1853f9ef9f27"
   },
   "outputs": [
    {
     "name": "stdout",
     "output_type": "stream",
     "text": [
      "Index(['Name', 'Type 2', 'HP', 'Attack', 'Defense', 'Sp. Atk', 'Sp. Def',\n",
      "       'Speed', 'Generation', 'Legendary', 'hp'],\n",
      "      dtype='object')\n",
      "Index(['Name', 'Type 1', 'Type 2', 'HP', 'Attack', 'Defense', 'Sp. Atk',\n",
      "       'Sp. Def', 'Speed', 'Generation', 'Legendary', 'hp'],\n",
      "      dtype='object')\n"
     ]
    }
   ],
   "source": [
    "#copy function will copy entire data to another variable and if we make some changes in pokemon_data, those changes will be not reflected in another assigned variable\n",
    "\n",
    "diff_df = pokemon_data.copy()\n",
    "\n",
    "#Try out some manipuation and check results for both dataframes\n",
    "same_df = pokemon_data\n",
    "same_df.drop('Type 1',axis=1,inplace=True)\n",
    "print(same_df.columns)\n",
    "print(diff_df.columns)"
   ]
  },
  {
   "cell_type": "markdown",
   "metadata": {
    "id": "ciJyN1tiWaMe"
   },
   "source": [
    "Q. As a data scientist you are asked to get the details of strongest pokemon for each category in type 2.\n",
    "Criteria for strongest is HP, in case of clash it should be resolved by Attack then Defense and speed.\n"
   ]
  },
  {
   "cell_type": "code",
   "execution_count": null,
   "metadata": {
    "id": "lkgBPWtkAKpl"
   },
   "outputs": [],
   "source": [
    "#Ans"
   ]
  },
  {
   "cell_type": "markdown",
   "metadata": {
    "id": "oZA6LHlzXdsN"
   },
   "source": [
    "#Assignment\n",
    "Amazon Transaction Data "
   ]
  }
 ],
 "metadata": {
  "colab": {
   "collapsed_sections": [],
   "name": "Copy of pandas.ipynb",
   "provenance": [
    {
     "file_id": "1RjrrOv-egolkpbJ_u120eYmodW6CvKoz",
     "timestamp": 1615398481467
    },
    {
     "file_id": "1DiE37cRjiZJi9iwM8Ieec0pFcrNnPjIt",
     "timestamp": 1602089856514
    },
    {
     "file_id": "1dMq6FbmhAgjqwb6NRo_2nlj-2NMyF5jR",
     "timestamp": 1600880251764
    },
    {
     "file_id": "1nVaCsk0EIW-Klr2EHx5hlUXEA4h30W-O",
     "timestamp": 1594927506413
    }
   ]
  },
  "kernelspec": {
   "display_name": "Python 3",
   "language": "python",
   "name": "python3"
  },
  "language_info": {
   "codemirror_mode": {
    "name": "ipython",
    "version": 3
   },
   "file_extension": ".py",
   "mimetype": "text/x-python",
   "name": "python",
   "nbconvert_exporter": "python",
   "pygments_lexer": "ipython3",
   "version": "3.8.5"
  }
 },
 "nbformat": 4,
 "nbformat_minor": 1
}
