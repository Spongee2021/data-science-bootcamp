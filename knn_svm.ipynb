{
  "nbformat": 4,
  "nbformat_minor": 0,
  "metadata": {
    "colab": {
      "name": "knn_svm.ipynb",
      "provenance": [],
      "include_colab_link": true
    },
    "kernelspec": {
      "name": "python3",
      "display_name": "Python 3"
    }
  },
  "cells": [
    {
      "cell_type": "markdown",
      "metadata": {
        "id": "view-in-github",
        "colab_type": "text"
      },
      "source": [
        "<a href=\"https://colab.research.google.com/github/vvthakral/data-science-bootcamp/blob/main/knn_svm.ipynb\" target=\"_parent\"><img src=\"https://colab.research.google.com/assets/colab-badge.svg\" alt=\"Open In Colab\"/></a>"
      ]
    },
    {
      "cell_type": "code",
      "metadata": {
        "id": "M-q-shLau43D"
      },
      "source": [
        "#Load the necessary python libraries\n",
        "import numpy as np\n",
        "import pandas as pd\n",
        "\n",
        "%matplotlib inline\n",
        "import matplotlib.pyplot as plt\n",
        "import seaborn as sns\n",
        "\n",
        "from sklearn.model_selection import train_test_split\n",
        "from sklearn.neighbors import KNeighborsClassifier\n",
        "from sklearn import metrics"
      ],
      "execution_count": 1,
      "outputs": []
    },
    {
      "cell_type": "code",
      "metadata": {
        "id": "9DwCeE2MvNaK",
        "colab": {
          "resources": {
            "http://localhost:8080/nbextensions/google.colab/files.js": {
              "data": "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",
              "ok": true,
              "headers": [
                [
                  "content-type",
                  "application/javascript"
                ]
              ],
              "status": 200,
              "status_text": ""
            }
          },
          "base_uri": "https://localhost:8080/",
          "height": 73
        },
        "outputId": "748f2d9e-6a62-4bf4-823e-f68d2315dd1c"
      },
      "source": [
        "#Load file from local\n",
        "from google.colab import files\n",
        "upload = files.upload()"
      ],
      "execution_count": 2,
      "outputs": [
        {
          "output_type": "display_data",
          "data": {
            "text/html": [
              "\n",
              "     <input type=\"file\" id=\"files-f9f7f8a1-5872-4693-a56d-9a74c7d147a4\" name=\"files[]\" multiple disabled\n",
              "        style=\"border:none\" />\n",
              "     <output id=\"result-f9f7f8a1-5872-4693-a56d-9a74c7d147a4\">\n",
              "      Upload widget is only available when the cell has been executed in the\n",
              "      current browser session. Please rerun this cell to enable.\n",
              "      </output>\n",
              "      <script src=\"/nbextensions/google.colab/files.js\"></script> "
            ],
            "text/plain": [
              "<IPython.core.display.HTML object>"
            ]
          },
          "metadata": {
            "tags": []
          }
        },
        {
          "output_type": "stream",
          "text": [
            "Saving diabetes.csv to diabetes.csv\n"
          ],
          "name": "stdout"
        }
      ]
    },
    {
      "cell_type": "code",
      "metadata": {
        "id": "PB9EAW0gyXIK",
        "colab": {
          "base_uri": "https://localhost:8080/",
          "height": 195
        },
        "outputId": "4d51e6a2-3caf-4e17-9d26-fdc1820c1cee"
      },
      "source": [
        "#Load the dataset\n",
        "#Source: https://www.kaggle.com/uciml/pima-indians-diabetes-database\n",
        "df = pd.read_csv('diabetes.csv')\n",
        "df.head()"
      ],
      "execution_count": 3,
      "outputs": [
        {
          "output_type": "execute_result",
          "data": {
            "text/html": [
              "<div>\n",
              "<style scoped>\n",
              "    .dataframe tbody tr th:only-of-type {\n",
              "        vertical-align: middle;\n",
              "    }\n",
              "\n",
              "    .dataframe tbody tr th {\n",
              "        vertical-align: top;\n",
              "    }\n",
              "\n",
              "    .dataframe thead th {\n",
              "        text-align: right;\n",
              "    }\n",
              "</style>\n",
              "<table border=\"1\" class=\"dataframe\">\n",
              "  <thead>\n",
              "    <tr style=\"text-align: right;\">\n",
              "      <th></th>\n",
              "      <th>Pregnancies</th>\n",
              "      <th>Glucose</th>\n",
              "      <th>BloodPressure</th>\n",
              "      <th>SkinThickness</th>\n",
              "      <th>Insulin</th>\n",
              "      <th>BMI</th>\n",
              "      <th>DiabetesPedigreeFunction</th>\n",
              "      <th>Age</th>\n",
              "      <th>Outcome</th>\n",
              "    </tr>\n",
              "  </thead>\n",
              "  <tbody>\n",
              "    <tr>\n",
              "      <th>0</th>\n",
              "      <td>6</td>\n",
              "      <td>148</td>\n",
              "      <td>72</td>\n",
              "      <td>35</td>\n",
              "      <td>0</td>\n",
              "      <td>33.6</td>\n",
              "      <td>0.627</td>\n",
              "      <td>50</td>\n",
              "      <td>1</td>\n",
              "    </tr>\n",
              "    <tr>\n",
              "      <th>1</th>\n",
              "      <td>1</td>\n",
              "      <td>85</td>\n",
              "      <td>66</td>\n",
              "      <td>29</td>\n",
              "      <td>0</td>\n",
              "      <td>26.6</td>\n",
              "      <td>0.351</td>\n",
              "      <td>31</td>\n",
              "      <td>0</td>\n",
              "    </tr>\n",
              "    <tr>\n",
              "      <th>2</th>\n",
              "      <td>8</td>\n",
              "      <td>183</td>\n",
              "      <td>64</td>\n",
              "      <td>0</td>\n",
              "      <td>0</td>\n",
              "      <td>23.3</td>\n",
              "      <td>0.672</td>\n",
              "      <td>32</td>\n",
              "      <td>1</td>\n",
              "    </tr>\n",
              "    <tr>\n",
              "      <th>3</th>\n",
              "      <td>1</td>\n",
              "      <td>89</td>\n",
              "      <td>66</td>\n",
              "      <td>23</td>\n",
              "      <td>94</td>\n",
              "      <td>28.1</td>\n",
              "      <td>0.167</td>\n",
              "      <td>21</td>\n",
              "      <td>0</td>\n",
              "    </tr>\n",
              "    <tr>\n",
              "      <th>4</th>\n",
              "      <td>0</td>\n",
              "      <td>137</td>\n",
              "      <td>40</td>\n",
              "      <td>35</td>\n",
              "      <td>168</td>\n",
              "      <td>43.1</td>\n",
              "      <td>2.288</td>\n",
              "      <td>33</td>\n",
              "      <td>1</td>\n",
              "    </tr>\n",
              "  </tbody>\n",
              "</table>\n",
              "</div>"
            ],
            "text/plain": [
              "   Pregnancies  Glucose  BloodPressure  ...  DiabetesPedigreeFunction  Age  Outcome\n",
              "0            6      148             72  ...                     0.627   50        1\n",
              "1            1       85             66  ...                     0.351   31        0\n",
              "2            8      183             64  ...                     0.672   32        1\n",
              "3            1       89             66  ...                     0.167   21        0\n",
              "4            0      137             40  ...                     2.288   33        1\n",
              "\n",
              "[5 rows x 9 columns]"
            ]
          },
          "metadata": {
            "tags": []
          },
          "execution_count": 3
        }
      ]
    },
    {
      "cell_type": "code",
      "metadata": {
        "id": "Js9RgKcyvi0-",
        "colab": {
          "base_uri": "https://localhost:8080/"
        },
        "outputId": "60b08d87-0814-4268-d468-55e2ce97fc87"
      },
      "source": [
        "#Find shape\n",
        "df.shape"
      ],
      "execution_count": 4,
      "outputs": [
        {
          "output_type": "execute_result",
          "data": {
            "text/plain": [
              "(768, 9)"
            ]
          },
          "metadata": {
            "tags": []
          },
          "execution_count": 4
        }
      ]
    },
    {
      "cell_type": "code",
      "metadata": {
        "id": "-rE40Vsr2Fzs",
        "colab": {
          "base_uri": "https://localhost:8080/"
        },
        "outputId": "12ac13b3-4dfd-45ff-dd7a-09ad4f03c3d1"
      },
      "source": [
        "#Some basic analysis\n",
        "df.groupby('Outcome').size()"
      ],
      "execution_count": 5,
      "outputs": [
        {
          "output_type": "execute_result",
          "data": {
            "text/plain": [
              "Outcome\n",
              "0    500\n",
              "1    268\n",
              "dtype: int64"
            ]
          },
          "metadata": {
            "tags": []
          },
          "execution_count": 5
        }
      ]
    },
    {
      "cell_type": "code",
      "metadata": {
        "id": "sQ9qnPFt2T8P",
        "colab": {
          "base_uri": "https://localhost:8080/",
          "height": 350
        },
        "outputId": "73d1db4e-bd1b-4bf0-ca8d-4ae76043577a"
      },
      "source": [
        "sns.countplot(df['Outcome'],label=\"Count\")"
      ],
      "execution_count": 6,
      "outputs": [
        {
          "output_type": "stream",
          "text": [
            "/usr/local/lib/python3.7/dist-packages/seaborn/_decorators.py:43: FutureWarning: Pass the following variable as a keyword arg: x. From version 0.12, the only valid positional argument will be `data`, and passing other arguments without an explicit keyword will result in an error or misinterpretation.\n",
            "  FutureWarning\n"
          ],
          "name": "stderr"
        },
        {
          "output_type": "execute_result",
          "data": {
            "text/plain": [
              "<matplotlib.axes._subplots.AxesSubplot at 0x7f23537b6d50>"
            ]
          },
          "metadata": {
            "tags": []
          },
          "execution_count": 6
        },
        {
          "output_type": "display_data",
          "data": {
            "image/png": "[encoded data removed]",
            "text/plain": [
              "<Figure size 432x288 with 1 Axes>"
            ]
          },
          "metadata": {
            "tags": [],
            "needs_background": "light"
          }
        }
      ]
    },
    {
      "cell_type": "code",
      "metadata": {
        "id": "c-0kLJKkv5rM",
        "colab": {
          "base_uri": "https://localhost:8080/"
        },
        "outputId": "aab0b7ef-6625-4a62-ab34-25be7dccadac"
      },
      "source": [
        "print(df.isnull().sum())"
      ],
      "execution_count": 7,
      "outputs": [
        {
          "output_type": "stream",
          "text": [
            "Pregnancies                 0\n",
            "Glucose                     0\n",
            "BloodPressure               0\n",
            "SkinThickness               0\n",
            "Insulin                     0\n",
            "BMI                         0\n",
            "DiabetesPedigreeFunction    0\n",
            "Age                         0\n",
            "Outcome                     0\n",
            "dtype: int64\n"
          ],
          "name": "stdout"
        }
      ]
    },
    {
      "cell_type": "code",
      "metadata": {
        "id": "62lr74jlwDpo"
      },
      "source": [
        "#Creating X and Y for training and testing\n",
        "X = df.drop('Outcome',axis=1).values\n",
        "y = df['Outcome'].values"
      ],
      "execution_count": 8,
      "outputs": []
    },
    {
      "cell_type": "code",
      "metadata": {
        "id": "3sJbQHPBwout"
      },
      "source": [
        "#Split data into train and test\n",
        "X_train,X_test,y_train,y_test = train_test_split(X,y,test_size=0.2,random_state=0, stratify=y)"
      ],
      "execution_count": 9,
      "outputs": []
    },
    {
      "cell_type": "code",
      "metadata": {
        "id": "hBISgpmo-gqo"
      },
      "source": [
        "help(KNeighborsClassifier)"
      ],
      "execution_count": null,
      "outputs": []
    },
    {
      "cell_type": "code",
      "metadata": {
        "id": "yu2BmZBbxBrB"
      },
      "source": [
        "#Checking train and test accuracies over a range of K values\n",
        "neighbors = np.arange(1,20)\n",
        "train_accuracy =np.empty(len(neighbors))\n",
        "test_accuracy = np.empty(len(neighbors))\n",
        "\n",
        "for i,k in enumerate(neighbors):\n",
        "    #Setup a knn classifier with k neighbors\n",
        "    knn = KNeighborsClassifier(n_neighbors=k)\n",
        "    \n",
        "    #Fit the model\n",
        "    knn.fit(X_train, y_train)\n",
        "    \n",
        "    #Compute accuracy on the training set\n",
        "    train_accuracy[i] = knn.score(X_train, y_train)\n",
        "\n",
        "    #Compute accuracy on the test set\n",
        "    test_accuracy[i] = knn.score(X_test, y_test) "
      ],
      "execution_count": 10,
      "outputs": []
    },
    {
      "cell_type": "code",
      "metadata": {
        "id": "jMT9C7mZzZQW",
        "colab": {
          "base_uri": "https://localhost:8080/",
          "height": 295
        },
        "outputId": "52e8718d-1660-4ed7-b4ef-50da91424e7c"
      },
      "source": [
        "plt.title('Number of neighbors vs Accuracy')\n",
        "plt.plot(neighbors, test_accuracy, label='Testing Accuracy')\n",
        "plt.plot(neighbors, train_accuracy, label='Training accuracy')\n",
        "plt.legend()\n",
        "plt.xlabel('Number of neighbors')\n",
        "plt.ylabel('Accuracy')\n",
        "plt.show()"
      ],
      "execution_count": 11,
      "outputs": [
        {
          "output_type": "display_data",
          "data": {
            "image/png": "[encoded data removed]",
            "text/plain": [
              "<Figure size 432x288 with 1 Axes>"
            ]
          },
          "metadata": {
            "tags": [],
            "needs_background": "light"
          }
        }
      ]
    },
    {
      "cell_type": "code",
      "metadata": {
        "id": "DI2lbcfJw0Mt"
      },
      "source": [
        "#Setup a knn classifier with k neighbors\n",
        "knn = KNeighborsClassifier(n_neighbors=7)"
      ],
      "execution_count": 12,
      "outputs": []
    },
    {
      "cell_type": "code",
      "metadata": {
        "id": "HZTWJCHT1Ewu",
        "colab": {
          "base_uri": "https://localhost:8080/"
        },
        "outputId": "402c8623-bff1-4027-c489-05d11c7a4b8c"
      },
      "source": [
        "#Fit the model\n",
        "knn.fit(X_train,y_train)"
      ],
      "execution_count": 13,
      "outputs": [
        {
          "output_type": "execute_result",
          "data": {
            "text/plain": [
              "KNeighborsClassifier(algorithm='auto', leaf_size=30, metric='minkowski',\n",
              "                     metric_params=None, n_jobs=None, n_neighbors=7, p=2,\n",
              "                     weights='uniform')"
            ]
          },
          "metadata": {
            "tags": []
          },
          "execution_count": 13
        }
      ]
    },
    {
      "cell_type": "code",
      "metadata": {
        "id": "dDAcK05i1ISY",
        "colab": {
          "base_uri": "https://localhost:8080/"
        },
        "outputId": "013c26c7-324b-4c72-af2d-47dfa989149c"
      },
      "source": [
        "#Get accuracy. Note: In case of classification algorithms score method represents accuracy.\n",
        "y_knn = knn.predict(X_test)\n",
        "knn.score(X_test,y_test)"
      ],
      "execution_count": 14,
      "outputs": [
        {
          "output_type": "execute_result",
          "data": {
            "text/plain": [
              "0.7922077922077922"
            ]
          },
          "metadata": {
            "tags": []
          },
          "execution_count": 14
        }
      ]
    },
    {
      "cell_type": "code",
      "metadata": {
        "id": "YsPGaMss1W68",
        "colab": {
          "base_uri": "https://localhost:8080/"
        },
        "outputId": "37d0c2d6-ec7a-4569-b5fb-5670c7799546"
      },
      "source": [
        "from sklearn.svm import SVC\n",
        "svc = SVC()\n",
        "svc.fit(X_train, y_train)\n",
        "print(\"Accuracy on training set: {:.2f}\".format(svc.score(X_train, y_train)))\n",
        "print(\"Accuracy on test set: {:.2f}\".format(svc.score(X_test, y_test)))"
      ],
      "execution_count": 15,
      "outputs": [
        {
          "output_type": "stream",
          "text": [
            "Accuracy on training set: 0.77\n",
            "Accuracy on test set: 0.77\n"
          ],
          "name": "stdout"
        }
      ]
    },
    {
      "cell_type": "code",
      "metadata": {
        "id": "Bu1_kMNn21jA",
        "colab": {
          "base_uri": "https://localhost:8080/"
        },
        "outputId": "7c336705-74ac-4416-cf55-2e35c6335a79"
      },
      "source": [
        "from sklearn.preprocessing import MinMaxScaler\n",
        "scaler = MinMaxScaler()\n",
        "\n",
        "X_train_scaled = scaler.fit_transform(X_train)\n",
        "X_test_scaled = scaler.fit_transform(X_test)\n",
        "\n",
        "svc = SVC()\n",
        "svc.fit(X_train_scaled, y_train)\n",
        "\n",
        "print(\"Accuracy on training set: {:.2f}\".format(svc.score(X_train_scaled, y_train)))\n",
        "print(\"Accuracy on test set: {:.2f}\".format(svc.score(X_test_scaled, y_test)))"
      ],
      "execution_count": 16,
      "outputs": [
        {
          "output_type": "stream",
          "text": [
            "Accuracy on training set: 0.79\n",
            "Accuracy on test set: 0.79\n"
          ],
          "name": "stdout"
        }
      ]
    },
    {
      "cell_type": "code",
      "metadata": {
        "id": "UdnJZgC827td",
        "colab": {
          "base_uri": "https://localhost:8080/"
        },
        "outputId": "c3cc84b6-8c46-4789-d56a-bb5d39292db6"
      },
      "source": [
        "svc = SVC(C=10)\n",
        "svc.fit(X_train_scaled, y_train)\n",
        "\n",
        "print(\"Accuracy on training set: {:.2f}\".format(svc.score(X_train_scaled, y_train)))\n",
        "print(\"Accuracy on test set: {:.2f}\".format(svc.score(X_test_scaled, y_test)))"
      ],
      "execution_count": 17,
      "outputs": [
        {
          "output_type": "stream",
          "text": [
            "Accuracy on training set: 0.81\n",
            "Accuracy on test set: 0.81\n"
          ],
          "name": "stdout"
        }
      ]
    },
    {
      "cell_type": "code",
      "metadata": {
        "id": "5N_kQAh53jJU",
        "colab": {
          "base_uri": "https://localhost:8080/"
        },
        "outputId": "7d14a084-a2e2-403b-bc5b-ff8657675d81"
      },
      "source": [
        "y_pred = svc.predict(X_test_scaled) \n",
        "print(metrics.classification_report(y_test, y_pred))"
      ],
      "execution_count": 18,
      "outputs": [
        {
          "output_type": "stream",
          "text": [
            "              precision    recall  f1-score   support\n",
            "\n",
            "           0       0.81      0.92      0.86       100\n",
            "           1       0.80      0.59      0.68        54\n",
            "\n",
            "    accuracy                           0.81       154\n",
            "   macro avg       0.80      0.76      0.77       154\n",
            "weighted avg       0.80      0.81      0.80       154\n",
            "\n"
          ],
          "name": "stdout"
        }
      ]
    },
    {
      "cell_type": "markdown",
      "metadata": {
        "id": "1v1aDh9j3wAT"
      },
      "source": [
        "![Capture.PNG](data:image/png;base64,iVBORw0KGgoAAAANSUhEUgAAATAAAAD/CAYAAAB2MoomAAAAAXNSR0IArs4c6QAAAARnQU1BAACxjwv8YQUAAAAJcEhZcwAAEnQAABJ0Ad5mH3gAAG6uSURBVHhe7b2HdxVXlvb9/RHft9Y7Mz3zznRwu93ObhuTcw4i55yTCBIig8hJRJGzyCCBAIEAkXPOmAwGAzYYbDA4u92zv/Pb0hGly73SlRBC0j3PWsdGdetWnapb56md9/8jDg4ODgUQ/+//93/EEZhDnuHy5csSv2aNTJsyVRbMny9zZs2SGbGxMtv8f9GCBTJz+gyZMnmyHD9+XG7fvi0pW7fJjOnTJXbqNJk3Z64sWrhQFs5fIHGLFsnnN2/KL7/8knZkh1CEIzCHPAXk1aFde2nSqLH07tVLKpQtJ59+8onUCQuTPhER0rljRylTspQsW7pULpw/L1MnT5EP3n1PPnr/A2nWpIlERUZK927dpGH9+jJ3zhy5euWK/P7772lHdwg1OAJzyDP87//+ryxbtkxmzZwpX967p9siekdIx/btZW1Cgv4NZpvPjx09qvtfu3ZNSa5F8+ayZ88e/fzRw4cqlVUoV07mzZ0nT58+1e0OoQdHYA55hh9++MEQ0zE5eeJkutSEJNUnIlKOHzumf4Pdu3bJzTT1ECL7+5tvyuiRo+TypUv6Occ5ePCglC1dWoYNHSY3b9zU7Q6hB0dgDnmGf/7zn/Ldd9/Js6fP5Mcff5QTx09IudJlZOqUKfLo0aO0vUS+/eYb+cl8/tWXX0rcosXy3//5X7J50yb9rn7+7beyJC5OihctqvYy73cdQguOwBxeCx4aNXDWjJlSqXwFWb1qlV871ulTpyWiZy8jgf3N/PuUSmSQ1b69+6RdmzbStnUb2bZ1q/z6669p33AINTgCc3gtwMMICTVu2FC2p6Skbc0IyKlKxUpSxqiKyZs3y8mTJ2Xrlq1q/+rUoaPaze6l2dIcQhOOwBzyHBjnP7twQd575x3p1qVLBvuXBermimXL5Z23/q4G/J49ekgvM/r1iVIj/5dGvfztt9/S9nYIVTgCc8hzPHv2zEhX2+S//uMPasMinssX165ek2FDo6VEseJy5MgRtYdhG8P+9ezpU1U5IUKH0IYjMIc8B4QFcfka571AfSS8olGDhhom4WK9HPzBEZhDnoPQiK6dO0vRIp/K6dOnVV30BRH69evUkf59+8m//vWvtK0ODhnhCMwhT0EMV0J8vFSpVEnq1akrV69eTVcF+T+S1r27dyWiV2+pXKGCTDWSGgTn1EUHfyiQBMbDbEcwyO7+Dq8GkNOlixdl5PDh8vGHH0rzpk3l/Pnz6WEQfI66uHDBQqlVvYZ6IKdPnaY2s385FdLBDwocgUFCxAPxJg82kffnn3/WhcFCcST2+nD71i3ZuX2HLFkcp57EBfPmy5bNyemhEPxOly5dknUJazVxe+7sOZKwZo2S3k8//aT7ODh4UeAI7BfzkJPoO3niRNm3d2/a1syxd88efeuzGHibO7wefP/99/Lg/gO588Wd9IF3kah8gASGQZ8QCfs5OZNsc0Z8B38osAQ2cUJMenJvVtize7cMi47WSgiOwBwcCg+yTWCoYHiF+D8qmT8PEdu82+3+vsA4G+jNas/D597v8jfJu2dOn5G7d++mbRUNamTY/fm3/R5GYYIlSRD2F/zoew4v7DwsfK/NwcHh9SFLAmMB/9Ms+h9/+EFFeQZSDOrA9evX5ZtvvkknCwiN7QQb8n/+xvb0+PHjdPsTpEWiLvaOBw8eaE4c/7bgc/7m+0+ePNHPUTF+/+fvZh7/1H8/NXPABsZ5//X7v3RuX977Um0p5MoxR+bAOX/+6Sc9FoPjWqLSeZjPOB7nYZ7Y1Ozn9lo4Fv//7dff9P/Mh31zG5wXIg12BHopODiEErIkMBbr0SNHZOjgwVK9ajXpF9VX1qxerTalurVrS6+ePVVFgzC2b0uRXuE9pH/fvkZdi5ekjRs1123MqNFy/dp1Q1w/yVkjOU0YN06rb2LHGjZkqFbZtKCIHZUGJsVMlJUrVsqg/gMkcW2iXLzwmZnHURk1YqTUrFZddu7YoST0xe3bMmXSZK3YOXPGTD33oAED5cFXD+Qz8x2MxV07dzHfG5GBvE6cOCGx06ZJzPjxsmLZMhk2dKisXLkylawMMW7amCRdOnXS4yVv2iw7zPlIe6ljrnnB/AV6nNwE5Hrr1i25cuWKVi3NbLAPRArJOjiEMrIkMBbz3Tt3ZPKkSVKqRAmNjiZKGpVs/Nix6u7GW4T0QvpH29atNQWEPDa8TX0iI2XZkqVamI7ywJMnTtJ6T9R2SkxYKwP79Zexo8eodHX65CmZETs9vRrnhQsXDAE20nIr58+dl4sXL8rw6GipVrmKkiaEdPbMGWlUv4EkGMKkYgFlikcMG24kr59V8qNcccd27WWyIUQLEoPHjx1nyG2WOe45o5LeUDKDxDYlJamEw/lw87du0VLWJyZKyrZtMm3qVKldK0wmGeLNTXC+a1evSmTv3tLbvBDI+Usd/Nv7d+pgn1EjR+o9cnAIZQRlA0NlROKqX6euxEyYoJUEkBg2JK6XalWq6oKGTFDfmjRqJMOHDlOphXpPBw4c0MUJ6UFUE833vzH7UQp4zqzZRjobpcb127duGzIbIBMMsVD0DqDixU6LNeSRouomx6HsMIv4jCEuQCR3WI2aOj/sYhDr1i1b9DMwMSZGyxBvM9sgiitGgunfr5+RKIfIKUOYFtSd6t6lq5HmJul+Fz/7TFo1byGtW7bS4zHf5UZSg6Cp356bQB3Enjdn9uygxlwzli5Zoja93AQvA6RmN54PNAuH/IugCIwfsWG9+qo+Hj50SLdhx0LCalCvntYmR+K5cP6C1ncaHj1Mzp09q/sBVDYkJ8qnsACRpNbGJ8hoQ16ENqAWrV27VooX+VRWGbURGxdgYd+/fz89BgiCql+3rixeuCjdgE9e3dAhQ6R0yZJaP51FaAvcIT32MyogEuGdL75Q0oV8WjZvrpKaFzSZQNpCHeV7SF1cc8/u4em1qMaNGavkyWeFEUTI942KcsMzUOsd8i+CMuJ/9dVXUsyQyzpDMjZm57snT1SywS6ESoYRff6ceVK6eAnZuH6DGtkBJAQBtmjWTJs1dO/aVYYMGiQrli9XozvHJ1CR3LjKFSpqsTovrLGacejgQSU5orchFD7DDvSFISfsc6iWSEnsy2dIbeFdu6lUBbBvtWrRQjp16CBbkpN1G4BgIWcaTaxasUKJDhJGukS1BFwPEtn4MePkglEvcxtIfTgjghrmN4DU+U5ugkDTkydOuOEZPDMO+RdZEhjkk7w5WWpUqy779u1TYoA8MCTXqlFD7VUQBaTSoV07VcPOGLWO/YDad65d09rn3cxnqG2okJREUU/gjz/Jvj17pW5YmDQ1BOKtDcUxCIFgweIN3GRE+orly6tNjm0Pv/5aHhgJDcIhortenTpqG7KG+O3bt0tEr15GYluoRIcqXMtcB3a3E8eP6zmYw/Fjx6Vtq9YSPWRoemBlu7Zt9VinjPTFPgRXQrCrVhoJ0cyd4+cWuEfkBOIQCWZgA4seOlTOeqTc3ADXxL104/mwz7FD/kSWBHbjxg31/LUy6hUVMa19CCkq2qhuqIr80Hv37pXSJUpqCog3PosHAAmuRbPmqpKtT1yvx7BpJScMeRw5fFg6GvIrZaS3pI1JKl1ANhDhgf37tQsNqiHeyzatWqntbNfOnbJxw0YzNqjERTgHBImNjoXIMVBb+/bpo9uwY0FsLY0kCIGhCjMPvHk0lcDLimOA7zFfCNuSFcdet3adJh/j7cQBkZseQOYPQTOnYAfSAfNycAhlZElgLJR6tetI+zZtNXwCQqGUL8Z3FpKNC6OuU9VKlTXkwit2szghhemxsVrDvE/vCFVFsSNBKpDBHSNRxa9eowSHPQv1ErV0h5GgkOwgkf379suAfv2kR/dwWbJ4sR5j+rRYQ2rj1ejPeSdNnKReRIAU1btHD1VzaePFvJEcOTZEGGeOsd9IlBTWI0o/JSVFCYG5YstrZ+bK5wA7HM1U27RspQSNtIRUVljBteHBxZYIwfsbNt6OfZHSfT8nti4vwzx4zvh9/c3FO/iNeTZ4yfFc+X7OdfMMOBQMZEpgqoZtS5EP331P47VIviVGa50hsM+MFGbVKH50CAJvJA+IP7EbNXJp3BKNq0LaQbqxvQHZn4eJeCwkO4gKYztSl10ExHRRpQCvJLYzDOsQKcSyauUqWb5suUpQqJyAh3nhggUya8YMtZ0xVx5yyBXiXDBvnixetEhjzXAOcH7Aw825Vq5Yke7lY6GStjQpJkalRWvfK6yABOLj42XdunX6QuBlw++1Yf16fbHwN//mvvLywtOcEJ+gzTmQiLeY+8uLgXvFyykv1DCkaeZ90MyF52LNmjWy2cyVuTAwgySa61mbsFZfmux77tw5cx0b9KXGNXFteMsxleCthpx5ZhzyLzIlMFQ3JJUP3/9AVT4eEofCDcgG1f2tv74p1SpXNpJoa431e/tvf5NGDRqo0wZVGhV74IABKrUQU1eyeHH58L33pWmjRtIzPFylaZwqSLuQXLDg/BBHdkmPFxSqf4yRyEuXLCWfflJEOnfspHNhYF4gAPrTjz9RT/eN6zeUuOqE1Za//PFPRsuorYHLOJtqVK2mHvOvv/66UEvahQGZEhiGbkIQmjVpasjM9d4LBXz15VeyPWW7SqdIKsS/Eb9XtlRpjbnDvknJG6Qb1H4WOJJLnbAwdYRgE8Wpg5SM7bRF02YaZhMMsKXiHKJ6CJJbdoCkxFwIj6lpCJcAYFR/5qLj/gOVwgb2HyBfm7+R0DE94BQpWqSImkMItcGJs2bVao0tHDposG5zyL8ISGBHDh1WVa9yxYra2p04Ld62DoUbENTBAwfTu/6QctW3T5TUr1tPbUNIRhACoS+YBQxzaGxf9apVZZCRyMg9taDvI/ZTykIHA9R3HEUESJNnmxPwwq0TIFuCcJvdO3emq4aE0hBWU6NaNXny+HF60UQyRSBkMjwgVIf8i4AEhhpBChC5ggR37k7Ld3Qo3MDed/fOcy8yti8WOWqYBYHGdAhCYoIIKP9cu1YtdZZYYCccO2aM1DUq2rixY9O2Zg5i3KiXT0FDJcdsgHkgVbVs3kLzb7HHsQ2zB44obKMQMM4HtoP5c+fqvHt0755uz+WasO9R8prYRCqfOORfZKpCOoQ2kLawYTWoW1dr0/uCzyGFBvXqawwfpEGAM6obHtzwbt3VDkXISzB4GQLD2UOKW6UKFdRWR3wiKvCxY8dk9MiR6mTygv1J8MdzTnobjqiHXz+UU0YCxLNNjCNedxeqkr/hCMwhIPDYEraCFEWYjC+QVshPLVu6jBrt582Zo55gUr0aN2goXQx5JW3YmLb3i4AAveP7Z880HIY0M2xvvp9byckfIE5Ca0oULaZGfNLCCIUpWay4poNxXC8IhoZgyQ4hRQyPKgRM5kazJk1k5vTpzoBfAOAIzMEvIAsyJBrWb2CkqI5y6/PP0z55DozhxOKVL1tOU7FWLl+hnj0qkVB+CHIL5IG0EhOSFnYmBgn6CQkJMsOQx/aUlPTtdhBbFgj3v/pKQ3Cw15JBgcmDkA7UQEIk8FB6AUk2bdxEmjdtpvPWuZt545Agw+Hxt99mSpgO+QOOwBz8AomHmmwVy1eQwQMH+Q3uhNSozoHEQuwVoTbYjG59fktVMmtX8gfSyYgrJAEfgzsDWxklhSjZNHjAQD2//YyBgT+QVETSNYn+SF0Y5zk/BLl40WItl4R9zAsCsQmZoFoJxn32+dxcD6ETLpC14MARmINfQGDkthLL5a98EMZxQiaIqyKHlNpt2QHOAtRSJCHKKTFIxKfGHMHO1HGz2+1ArfQXi8g26rd99P4HEjN+gmZKAEjryuUrGQgJqQrpj8ySbp27qKTnUHDhCMzhBSDlIIlAXtRDIzrdF6iGSDp/+Ld/V7URdfJlkVMjPqrl5k2b5Y0//Vk2GVKEHAMB8kJaq1yxkoYJ3chhuIZD/oAjMIcMQPIi3g+D9icf/UMGDxqkMV9eexASDx6+MSNHKYHt3bM3V9SunBAY8yXkZ0C//lry6eyZs7rNH9hOGMXypcukqNmXGnA2hcyhYMIRmEMGkP+JN5H4KFJs8C4ujYtTO5EFEezkxlI95D8MgQ0fNkyLUr4sckJghD0MGzJEihpV9m9vvKG2LcjVHyh+SXAtoRNcW/u27TTq36HgwhGYQwagfn124YKqjSQ/E5WO7cnrTSTOi7ptND4hiRvjOkbzl0VOCAxVl7ngccTbCKEFCrjm2uiBQEoR5ZGIDbNdwR0KJhyBOeQbYHTHG0j3Kd+wBwcHf3AE5pBvgJ0NEvvuyXfyy88Zwx4cHPzBEZiDg0OBhSMwBweHAgtHYA4ODgUWjsAcHBwKLByBOTg4FFg4AnNwcCiwcATm4OBQYOEIzMHBocDCEZhDnoOkapK/Kdec2SD1h/1IYyI9yPdzgl4DJW47hAYcgTnkOSAmqp6Sj5icnKx1wWiksWHDBtm+fbs2HuZv6urTXo1E8W3btkniukRJ2rhR276lmL8PHz6sCdreTvAOoQVHYA55Dsrf9ImIkHfe+rvUrV1bqlepIp9+/LH2Z6S5bJNGjbVQItUi6O5Nl++6derKu2+/I2VLl9YS11ReLfKPjyWiZy9tAegQmnAE5pDngMCopU8N/Bs3bmgXoAb16mn/SMr2UHBwzqxZsmjhQm3P9uzpM+nUoaPUrllLJk+cpFIZ++3csUO6de0qA/v315r4roZ96MERmEOeA4Ki1RqVX6mbP2L4cKlvJKy4xYvTSYguQnTLpngiFVcb1K2nPR+TNibp54CKFT3Cw7Uxx+lTpxyBhSAcgTnkOTDK0/kbIE116dRZ1UYIy5IQ3b8f3L8vP/7woxw9elRbpUVFRmodfgtIi7r9Hdq1VzuZI7DQgyMwh9cKjPGNGjSUnuE9tFORLx49fKQ9GilvTQPau3fvypPHT7Sv48SYido1nKa71Lp3CD04AnN4rYidOlXqhIXJmNFj0rZkBBIaRvsP3n1PoocM0ca5eCj7R/WVShUqaus1PJEOoQlHYA6vFRG9ekvL5s21qaw/UFqabtvNmzRVAz7NRlYsWyarV65KrdxqVFHfno8OoQNHYA6vBRjnsYXVr1tPW/zv37c/7ZPn+Pnnn9UuRgOO+XPnyelTp5XQ6PiNF5IgVxfIGtpwBObwWvDjjz/K6dOnpWK58jJuzNgMXY8saLiBZ/K9t99RQ35mnb4dQhOOwBxeC+g9OT02VipWqCCrjDpISIUv6DbUq0cPqVMrLOguRQ6hBUdgDq8F169flyoVK2pwKp5IfyDFiH1QMW/fvp221cHhORyBZQFsNb6qi79tDsEB1fHC+QsydfIU+fP//FFKFCsuM2Kny+1bt9L2EO0xuSkpSdq1aStvv/WWhlns27NHnn73XdoeDg6pcATmBxiGaea6bOlSmTd3rhqY2fbF7S/UhT939hxNKnbIPki8JuiUJrRjx4zRlKLNmzfL559/nraHaKUJms4umD9fYibEyMIFC+XsmTPy9OnTtD0cHFLhCMwPkLDo4Ny+bVtp0ay5bNywUQns9q3bMqB/f2ncsJHMmD49bW+H7ICQB0rjEJDqHd7O3uQ/0nHb+7ktn+Pg4IUjMD+ArFg0rVu2ku5du8oVIzEA3PqRERHSplVrSdmWotscHBxeHxyB+QH2rc1Jm6RenboyetQoTVOB1K4YtbJZk6bSq0dPjRB3cHB4vch3BAZ53L9/X426JOdS/I6qA/zfC/bBLnLOqHqoFt5EXlzyqCQk/l66eFEe+cmxo8IBKSjk1KGeEIdk90PSGjd2rDRt3FjtMBybecWvWWNIrY7ablzunYPD60e+ITDsTtevXZNlS5ZqfNC6hASt2jlm1GiZNXOm1pCCqHCnJ65bJ1u3blVD+qIFCzVK++l3T/UYN65fV/f7urVr5dDBg7J0yRLZZP6msgFEhBfsoNmetGGjpJhjJG/aLJNiYpSoqE8F2AcPGDFI1JwCkNrw6GhNHl6+dKluy01g9+H8J0+ckBPHj2cxTpjrvOEqkTqEPPIPgf3zd/X8kRvXqUMHQ0pzZUtystqgJk6I0ZSSy5cuydw5c2ThggWyd88edbWPiB6m1Tm/fvC1fr5q5UqJnTpNyY1iedFDo2WiISiIDykqeXOyHjshPl4OHUglsorlysmggQPl1MmTSoKQXeWKlWTKpMlyK807BqmRs9e3Tx/1kOUmrM0tdto0mTxpkkyOmZg6JqYN+3f69kmaO3jr8+ehBw4OoYh8pUJCHsMNIfXpHSEbEhNV2qAuOsR05tQpWWikpGaNm6jqh7q3zUhQI4YNl7GjR2vaCS75oYOHaAlii6lTpsgCQ3ioiZAYNiykMlRQcumISSpW5FOZOX2GbkOqOWLIskSxYirFQXrMC69YpfIVZNqUqXLHT9rLy0AlR0O2I4cPD26MGGHIdZKqx7mJrx88UCnYjRcHL5gfnMSb75BvCAz1DrtUeLdu6v1DMmKbHVQhaNG0mSycN0/tVahxvXv2lNEjRsq9O/dUQuN7MRMmqLpnATkg4WB0nzJ5srRp1Sq9cN53T76THSk7pFzpMirtsY39YsaPl7phtWXP7j16jO/MvPA6lilV2kh9m3S/3AbHZK7ZGbk9D+x+JYsXTx3FPP+3w/uZv78Dbc9sH+/w3SfQft7hb79gvu/93N++Pn936dxZX6bcd4f8g3xDYNi3UAmbN22qRnIqcloQwEjxuqKfFJGoiEiZERurnWsw0iN5UTMd4qI658oVK/wubOxpdQwpEfVtgyaxlyHtoRrS4QYg1bRs1kx6du+uFT8BhDlm1Chp1KCB7Nu7V7flNlBRL372WdDjhpEKqOaQm+Befnbhght+BlI/z+GreHk55Bz5hsAwYg+LjtbidWsTEjK86Sg/HD10qJQuUVKj4zHOq0hvvvOzUQPvmX9369JFOhoC27hhQ9q3UkHQJA8e3W0+fO99VTuR9FApE9eukzIlS8ooo5KdO3NWvn/2vezfv1+73cw0RAeZqZppHuC6tetIv6gordXOttwEEiLXiIq8cP6CtOH9t88wKvEaI5FSW97BIZSRLwiMBYzERW2o6CFD5eSJk2mfpILKBWNGj5YK5crJ0iVL1ZZ107wRz58/r9IIIRd9I/tI00aNZe7s2WrLwmZ16dIlOX/uvIZhHDxwQP765z/L4kWL5AgNIwyhYex/w2yjA47Wmrp6TZYvWyZ/+u//kQVGVeXNCwGSSkRJl9GG6KgI6pUOcwNcP/YnvKv0Pkz9vx38nXGsN2NL8haVmBwcQhn5gsBQHyGb8mXLGQljvnoBvcCQjncxrGZNTe1BQluxfLlKIlu3bFVVCq8i3WkIfdi4foPs2L5dyYqQCQz+J06cUMM8NjCM4OxPrSmksvlz5mjpFqS0yTGT5N2/v62ePsgP8txi1FV6GI4eOVJVV3+1qwoTkH65p9gIkVb9DeLyMGrz2yDh+n7ONn5XyDkvgGr3qzmfv7l4B+E22EiZO//mOnzDUZgzc/dePyq+Q/5DviAwFgsEA0FcMFKVPzsDUlVSUpKqipDU0rg4DbuwC4RFt82Qy6D+/TUMg9CLi0YFRM3keEg4kB7fhQyR4oisj+zdW+PGkKqQ2lKrILSRPXv2aDAsDzJzI1QD4kTVK+x2EJwWODUS1sRr6WZ/A/WbUJYvjRTI/fP9nPuI95j7nxfgd8KmiZPFdy7esSFxvea57t29R//Ni2z3rl0ZiBaywvMYv3pN+vcoX+2Q/5AvCAzy4S2IShToTcebHkLBmIoR/qEhG6+3EbDwkI4ISeBY3pLDfB9JjLgu/s8Dz/dRPzkun9tz8H3e5ET0833mRuDot998I78V8gh8rpnshioVK0lEr14ad9YnIlJqVK0mgwcO0lCVQQMGSs/wcA04/vWXX2VtfIK0btFSTQCEwVCtY+TwEdplm6R37ml2QJZDdr19/E78nrycWjVvoeEy06dN07kwCJPBYdOwXn3ZnrJdzp45a16CSzRguWnjJvpi4vcH/J/ngpI/UX36GJJL0BeoQ/5DvjHiO+QP4NwgXGD82HGyNXmLUcV3aMfsksVLqPqMfRJHCOo7Hl+Ara5m9RrSpGEj2b4tRQnw4IGDuvip6EEKVjCAuJCMT508pRJzTkA375rVq0vHdu3Vi8xcGGQ5LDFSe4/u4XLzxk21bXId9JQkDnCNkba4dgAZPrj/QMNuMEOgFbjUsfwJR2AOGYDkeujQIY2HQxI5d/ackbgGqBcWSZTF/dgsfip04J0FixcuklqGwAb065ch2JMUMHJHIcBg8KNRN48dPSrrEtbmuIQ0yfeUoCaWz8JKdDh+kjdvTpfKIepB/QdoV/DOHTqq5G2BlD5p4kQlL2f/yr9wBOaQAUgh2JIsUA+x/4V37Za2ReSJUQnZD2LAHkiPxrAaNTQVygIVnRzTumFhqlYGg5chMOaB+tvSqI8N69eXlcuXp2+DmFD/1TDvKQpAyA3Bu3ijixYpkqFxCPZQ5l3YHTYFHY7AHDKARW8lFECAMFkJdA6yYB+G/Xf9evXV5kS1Wgu8yh3bt5fGDRuqRzgYvAyBQVQPjdpZtVJlaY8TZteutG0PzdzHpAcg23mDzZs2G9VxtaqXf3/zTVU/cUoAR2AFA47AHAICRwZeWgzf/kpo4yQhDq9cmbJStXIVGTF8hKZ80W0b8upnJDNCWnCuBIOXITAkKwi0eNFiUsxIU5RCwhtdu1YtiejZS44ePpK2Zyq+MkSFBLZt2zY12Deq30CbhxAvCHnt3bNX4tfEqyrpkH/hCMzBL5BUiItr0qixdGjbTkNWfMHiXrRggVQoV1769olSY/0GQ1h4AglZodpHIGM85Ec4A4Z2qoAwyLAgxxXPJ8Rnt9uBYd0rHXrBZ3g+K5Qtp8SJZEVMIWliBCf7JuATcrOZUI/Ll+WbR9+oGhlWo6ae/+zpMxK3aLGG4eR21oVD7sIRmINfQBSEQFSuWPEF47wFqUxWTcQTSXoXIS44ALwhLP5AcCiSFpVBIAvGvDlztTxS7x49JWb8hPTtdlz87GLA8Aq8l2RikPBva7gRvkHq2c0bN9T+5QXXRjs3HBOEX5BXi/dyxLBhEm/IDwP+MyOBZnYNDq8fjsAc/AKi6Nqpk1QsX16mTpmatvU5/tcsbDx0qGsQHNVxswPU023JWzVYdOXyFTogqTEjR0lUZB+NwbLb7SDVyx8gGaSljz740Kixw+Uzo9YCiMnXi4hkSe05asTt9UnM79a1qwYxE+dGHTZsaA75G47AHF4AixwJqnrVqirREHrgCz7HUP6f//4fhnji5Ksvv0r7JDhwDgiCgeePgR2LUkeookTx2+12BJKGIKh9+/bJX/74R0378lbp4Dtew70a9r9+KPPnzdN6c16gatKDErXZt6CAQ/6EIzCHF4B6h4Gb8kXDh0Ybyedq2ifPwTYKSf7h3/5d9u3dJz//lDErIifIqRGfqiHDjer38UcfyalTpzIlHq6NarY0bfH1MBIn1jO8h3Ts0EH/7SU+h/wJR2AOGYDRnQh8Oi9BYOSObk9JyeCNu379uoYcUB2Xztn8+97dl6+MkRMCI7WMyiEEzJKsj83LhkL4Au8ieZukOE2cMEEdCEh2FqicZBhgH+PfDvkfjsAcMoCcwC2bkzUIFXsSixmjuLdCCBLPqhUrNb5q2NChmoaTG/FSOSEwvKOrVqxIL7dN6AMGfX/g2ggHwUFAExe8oL4pQtjPsmvPc3h9cATmkG9gQytStqbGZjk4ZAVHYA75Buoh/P13+enHnzKodg4OgeAIzCHfASJzBnSHYOAIzMHBocDCEZiDg0OBhSMwBweHAgtHYA4ODgUWjsAcHBwKLByBOTg4FFg4AnNwcCiwcATm4OCQ70AcIJVDfBPzfbc5AnNwcMhXgLxIpr979662v/OCnFu65Vs4AnPIACqXUkpm3ty5Mm3qVG3qsXzpMq2GGoqgmxFVZr/68su0LZmD+0eXd9rOuXZs2cejh4+0q3v7Nm21YxQVQyiBRI+CqD5RWjxzz67daXs7AnPwgOJ/VHegmB+dhGj8SsXUiRNiZPTIUXL16tUXSjMXdlDMkfLSlMwOBtTep+EvpakDVcVwCAxa9lGp992/vy1DBw+RC+cv6IvgxPET2jymc4cOWkjTwhGYQzoef/tYyWvwwIFa/wt7A1VSkcDq1amrpaWpZhoIiP5Z1ZDn86z2yU+AuEaNGKlNQoLBLSOtLVywUCUFJLe8QFb3FJtRQcktfWqet107d8n777wrSxbHqUT226+/yhXzYqWDOiWckG4tHIE5pOPSxUva/5FOPp9duJBe1O/ggYPagr9MqdKZ1uniTQnxIaX5WzCQITaNH374IW3Li2AhUqOLY1HlFRLlb8pEMx/vQuUzttkGu1Sw+MX87TXysj9lemjewTH5jhf2ez98/4Oewx4LcBzUF2wu1PC34Po4HoN/MzgP32M+XCPf8VbUsJ9xHqpt/PO3jPNgXvZY9m/2t38Hwu9mP+ZIAxNfMCeumTpoWR2H+XHtnJNz29/BXpvdh3vCMb8394r76r3XgL85xvfPUu+P7+eAY6b+vtyH3zIchxcAZgvIav++/bqNJsq0zHvv7Xf0BctxLRyBOaTj/ldfyZxZs6VNy1Zaj4sHGNBerVuXLlkS2Llz59R2Rgs0HlBfzJo5U4sPUtHVH3iIWYgUFdyesl0O7N+vhlwadixbssTM44h8//T5w3vv3j3tps3+zBXb3fFjx/Q6AAsP4tm/b5+sWbVKtiYnyz1zPEtQgMVD5+7Eteskzrzxz509pwuYuUDGe/fskQuGzL2L5szpM9r/ktr9p0+f1uvlc675urk/NNH1JTDOw33kPDu37zALNWO9M64TNens6bN6bjo+cf3YgDLDV+ZaE+LjdfiCe0m570EDBmRZIJK50mLuwP4Dem7u22cXPtPre/Y0tccA95jz0UuTzud7d+9Re58XVL2lrwEFL+nqft9TCNOCa9q6ZYteH4SFfctW/KU7VOcOHbUXA/cZ0FVq9KhRUrpkSSU17+/nCMwhHTygLCQrfdk3LyWmG9Stp+3OIIBA4KE/aRYzxtejR46oZAB4qKdNmSKzZszURhpUXvUH3szXr16VGbHTpXmTptpoNnFdonYr6hsVJZ3Mgw3JQBQnTpzQPpAD+/eXxYsWqc2ulZEc+/ftqyQGYSBRjh87TnakpMjunTtl+rRp0s8cx0phdCyiPv6CefPl8qXLsiFxgywy6h/9IllIk2Imasfx9YmJSio06KXn5fRpsWpoRr0cNjRadu/apSS4fVuKDB00WLp06qzSHAuNc50xJEAJaxY1854/d54em/Nzj0+fOq1qag9zvahNe3btkSmTJhtJuIVRRftrmzr7W/gCiZO5ouJCKr+mSVoPzT3Hfjdk0CC9H0hMgQDZbtmUrPcbWyfEs3jhImnauIlMmjgp3fO3y9zDSZMmafPfHeYFM8aQyhTzt8UOQ8zcS0iaZ2jShBidFwTEfcARMj02VrdxjMS1a6Vd6zZ6HPYBkFql8uXNdyeal2iqDRHCQyughR8FL71wBOaQKVA/kKqQyg6at7O//pBeQGKQCYZsykOfNYsLsR/bBY1r/ak6Fjzkj8xCoeQzDWp5C1Od9eiRo7IkLk7qGxId2H+AWaSp0lb3rt20vj2SHYQyLDpa6+NzXqQgWqNBGjeuXZf9RhKJHjJU2rVpq+dB2uC6pk6erPNCrV2+ZJkSB8eibDbNemvXrCXrDYkCpI3BAwdJVESkltlmXuPHjZPzhoj4jHr7kECLZs30BQDpITGgEo0113/q5ClVLyGIfubYs2bM0JcG0lifiAipUrGSzmfblq1G4lwqDerVlzatWusLwCt1+IJ7jhSIlEqvS+xFSDhzZ8/WEtoQfmbfp/8lvy2NfaMHD1HHDY2JuVbKe0MaqHAQd7KRYiEijt+7Zy9zT4foyyLFkDfOnqVxS7RbO70VIGReLpATDg06Qc2eOUvvG5Jc0oYN8slH/zBS/yyVppknL4tPP/5Efy8r+SFBly9TRuaY6/F9gToCcwgIyIbFzCLl4csO8GDy8E4YP15r1R8wCxm7SDCYMG68NqkdPXJkeq19FlGHdu1UgmIxsvA7d+wk4d27G/VwtaqZqKY84JAXHZN6hIcbdfK+tmhjYSGx0UkcsmIxIr15vYt0KkJqQZpCDY3o1duQVR+1AQLUHBZp6xYtZeH8BSoZHD50WG17kBXXzPyGDh6s0iRqOAu8U4cOcsBIHOwDUI8je0dITzM/iA5pDcdJlUqVVPJhvpBq927ddA5WYswMSFgq6cXEyFQj7UKEdJbyqrGBgHQHwdSsVl3Gjhote4xqePXKVZ0HRISkBJnRvVxVfCNd8dJArUOagjBbmxcc3lrUbQCpIp2hTnJsyL1t69Y6R+4/1wQJFv+0qEqIbMPpETt1qpQvW1YJjnmhmq81JIpNjBeTr/3UEZjDC7AEwZuPRU8DDB5ItmX2JveC/ceOGSsN69dX9YkHL5Aa5AX7dO7YUQYa1enwwUNpW41qYQiARruQIYsSVReJpYshMdQRL+YbyQrS4I2NPQe1BTsQdivmBUHRhXuMWayBmpHogq5eQ7uFf34z1ZuIhIBqXLtWmDQ00hHNdr0EQUcjJEKkT7bTIalZkyYSPXRo2h6p95Zu5E3NdsgOAkMFRD1uWL+BSicQHfa17l27KiEFA+4b0iu/VfWq1ZRoIYFgfi9+myPmuiCTEcOGq0RpwVxoNcdc1ieuV7WXF8tAcz/pVsX9Q1oj7AEV0h/ZYrscHj1MpVPuP+BlgPpetVJljbUDSLU9zAupQ9t26eYH7Jv8TvzW1k7mhSMwhxeASsCDQ2ci7Ds8dCxepBwWXDCYbd7QqE5IFixOVJHM1EfAYmGfOrVqGQlnvp7TgrmEG4mE5rPsg2qIrWTW9JlmAWSM1obkKleooJIQatRhI83Qao252+9WrlBRVS4rFfnihpHmPnz/A7XJWA8eZAAxzZg+Q6pVrqLXBRlaYsaDi5TIvWMbKi1/Q2QWfH+CkWiRdrD18VLAAI+tLaJ3b50f5xljJMioyEiVooIB39uze7c6W5A++/XtK7HTpuncsyIxrnX82LEq+ew2x7C/MR5OTAj169aVWka9xD6GaovkiY0NexvqIkRcJ6y2qrH+ALHTgm/xwoXyU9pvimSPTQspEwkWcJ/U7hYzMd1pgkqMqYCu6ZbUvHAE5pABkMYlozrMnDFDTp44kb6g+D/GWX8PkRfYa1ADMNijBhEYq+pDq9Zq+2FBBAKq1K4dO/Vh32De9pAACxzVokmjRiqN8G+OQZwV3iqkAN+3PupOvdp11BiPBMYCYVEyd1TRGUYig/wgMi+QJpBiWJyog+VKl5GDaXY7DOl45ZgT0h9Blq2atzDXtlkXOt+Niuyjiw3Jh3NBQL179szQ2Rw7WI/u4dLVEI0lP1T0flF9ZeP6VJWPubK4IQzUNfsbBAIGds4BYaOyYR/ckpxsiGyMkiWxVZZk/QEVrl2bNjpf1EF7LubC71erRg3p2rmLquao6JALzoNvjESEgwSps1GDBnLG046O2C3mjn1t8sRJ5qUUpk4Afk88otw/SBx1F08kAayYG/jdsKFyjyHfxYsWS+OGDfV5ZD/7MrFwBOaQjl9+/kWOGRUGcZ+HBqln7pw5qoohLcSYBwybSCBgiEViYOEcOmAW/rePdeFAahjhUUfxaPpTBQB2J87dvGlTQyDbUj2JhkyxpQwZNFhVWhYARuFqVaro9iuXr6R9+zlYtLWNFMd8IWFCAzBSQ15IG8yxcsWKMshIhxyTPpAnjh1XgztEdP7ceRlpVCkWLtIDGQjYuiBQ5gRhkmaFt5EQAKQ4CAPVp2P7Diq1QcZIEhG9eqmKxcLj/nBPIRrmYIkX9QzHBaoqpIHtrHGDhjKgbz8NrUACDkRgfLbTLHgkTY7JC4h96eMJqWGU5/y+4Q4WSFHY/nCa4GGFvC24LsIg8ACiCmOfw4ZFaAZqO46OY0b1HG4kzVIlSqiExf1GQiNkxHqiJ5vfCSM818jLjDASiL5MyVIybcpUVaH5bawjY9PGjarCo1ryW1Yy0vTsWbNUwuO+ehEyBMZbjbcxN4o3RaBBy3yv2M2PiI0Az4s//b4w4cnjJ5KwJt6QVyOpa96EDerVUxsW3j8M10guvO0DwTaZxYPkjZviXkI8cYsW6SL7wjyc/nDj+g2pWrmyGntZTMePH5ekNO8iC+K7J6nGciKxsU/xpvYnEbJwMZC3btFCjfV4JlFhWSj8liwO1J6unTurlEOYBp9DUmQasEgH9R+gNhuM9ahJO41kyDFZnBAeHkzIHWmQ60MN7Nunj0p/eOR4VvYbIkPCwNtIvBrSJVIGZMe8+R7PGqEf2Od4RvkbVR2Jh9AKzpfZc2elL+4T5OcFn+EwgEC4Zn9AOkOyxqaH6gtBWzA/zo3Bvr0hZyRHQkC4JxvXr9e1wssJaZUXHveUFx22LYgKpwrHwwuNZxYPMNI5L5Oxo8YoSSNh8YIgvGTQgIHqvEG95CWHNIz0xnOI6opEF7JGfN5A2E9w7ZIoiq0gsnfv1NGrt7bQRxTGs0LkL7o6bI86cPLESVm1fGW6AbKwgocGtY9YJN+xzjyEVw1xoDoEAovP9w3pC4jNS24WEBMvkD//zx/1jR4zbrxKMBiOCT2wi5hF/rlRkfAqPnroX5JDCiHebMrkyWrMPmrIDxXFiztmQRPcilTFc4FUZ68NKQTJDJUO+xrfhbQgdyQGQkJQXa3xGRDAyjYcD9wHC9QeDPJ0MF+9clWGFwDXzLOG7QrJ0Ltt+dKleg1ZgXNBEr7kZYEEDFkGIkHU0+NG+ly3dm2GeXvBcw8p83sg6V0wQoCXSPgeaig2NwibfVHbrRDAGuLeYFbgPvEbouriBIHkmBvz2LQxSV8m3CPmzUuPlxQvC7ufL0KGwLgh6Owd27VX3XvUyJHqebEDd3qUeYMi8vMw8IOgOmHDwEXcJyJS3zaFGfahgQB8h03rsQ+lP/BZZp+DQPtwb9esWiNv/uUNXVCW6HjYmZcF32WRk47j3e4F+/Abssg4Btfku68ewyx8Puf/2LHsvOx9sOdmcDz2s8dk0XqPyb1hG9/zXp89D8TO/33noecy3/MuTraxbyBS8oJz2REIvuf0gs84D9ca6Bhs59q47h9/+FHTf7z78m97vxm+94Z7wDY+s88Q94lrtNfN/syBZ81+156Xbd7740VoEZh5s1WvUlWaN21m3jjr9KGyw0YuY/PgxvFGwGCMaI8qgfoQyI7g8PJAtSfQFBUSlcLBIRiEDIHB4qS5FP2kiHp8SN8AEBueFd4O2DOwd3hBECP7OwJ7dSASnYoXxG5hLMZ1zsvGwSErhJQNjMjwD959T9MZiNBG8sIwSMIunyPq+orteUVgnBuXM/YKbC6ZDrMP4jbfKQyg5tPKFSvVZjV18hT1VAZbQNAhtBEyBIaRFPsWdYZIf8DmcujQIU3VwFDsL2se5BWBYSg9YuaDQZd4mcwGwaWkeUDADg6hjJAhMFzoGO/JqcLli8exaePGUqJYcQ1QDGQwzQsCQ5Ii3omo7fZt2/oZbLejre6Hyz5Q5LODQ6ggJAgMDwYxOR+9/74GShIkSXwNyaQESH79IHC2f14QGOdGmmJOwQ5y0vzFQL0MdhnJbsb06c9HbNrwbgtmBPudnBzbdwSaY6DtORlZHcv7WWb72u2Z7RNoZLW/7zFzco6shveYOT1+sN/xt1/aNiIELEKCwDRxdPlyefuttzTT3qpexPGQQIqBPxBCyYiPLZDSJm64kZ8HQa8WIUFgSCtk2ZcqUVJz2iyIMcH2FSjGBISSBEb6CdH0briRn4fXQ13oCQxyQGXEfoSbPrskRM4Xhe3IV3uVNjAK7GGXC2aQAkMyM0Tm4BDKKPQEhnF+zuw5UtpIX0hh2Y0vIgO/e5euUr9OHU3GfVVgnqTMBDMem4H0RTSzg0Moo9ASGJIXi3zb1q0qQVGviJAJcv1s/aFAILiVnC3sZkg6ZOOT1DxyxAhNMsZj6ODg4B/YlCnpQ0MQmz+MuYbYPgzw2KRtutDLolATGLlbhBqQ3U5G/KakTVrviKj7zMDNpQAeMVe244sdFHwLVMXTIX8BqZbfkTCZQCV8fIGZgHpVSNs8Qw7ZAx59KrOOHjVaA8Zp9EuVE/KNKUFEoj7VRByBOThkARwjSOCUcKGiSDBAQqfuFd97HZkOkC71wMi0KIigphm1820TWkpY4Shbvmy5VsFt3bKl5r3mFhyBORRaYO+kEF6XjqmVW4MBHYgoJMj3MvNOvypg36QhB5JLQQTESwejokWKaFgOKiSS7N69e7UwIXFcdz2RAC8LR2AOhRaoKUhhEBmlW4IB9hsqkdhYwbwGKW7UqMuqEW1+BXW76CVZoWxZVcf5DbinmHA+/vAjrfkW7G8RDByBOeQaaBWP5EBFVuyF9ITkgaa6BFU9sUfa+vTUPMcuQsE6YvOovomBl0KCljww/PJZ8qbNWnAP2wp15L3AHklxPJrKIj1R8poFwuLhfOS5ci48tqhnFNdDQli9cqXaRjkn58DhQyVUclFPnTql+1ogid29c1dLIW9J3iLbtmxRNc9+hopEDbPdu3ZrcQCu7+yZs3p8HD7ZkeSYNzGHxDsFC6QcwnBo3su94B5z3ynrTdVUqwpjB0y9J4maPM8cfR1alNOmcuyWzckqtUI+1hbIPaRiC2WnsA9TcBFC8t4vKtdSHLRd27Za7RVwD2h2XLVyFb1XuWX/Ao7AHHINPOwsPLr90AiX+u/UW6fyJvXO6cPIQoegqJ0+asQI7b7DYqH6KeWYacHGQ47UdPjwYW1RBqkRzkLfQTrXsKAgBZLaITYIEnWFLtxJGzbqoiXZnUqyNN6gVyH7X7t6TRYuWKile6h4ga0GexfnY1BxlVQzzmFJB0cQNe6ZB4REizA6LlHNFYcQJMs1U/qY8tTUj+PaUssDddQWasE6EEBOCIzvbNy4UYtucj7uC+W/qQLLCwJyocYa94lGt5APaTk08YXAIRSIjDLQ3E+yU2g6S5clrp3PqExLWWzuDZ8zqLA6Yvhw/Y612cUtTm3CAWFZZxkpe8Qudu7U6QXCfFk4AnPINfCGxmhLukeJokW1fDcLBqmAuvD0HSQMBaKj4UPd2rVVXaKd/+wZs8ybu6e2/8dLxduf8sTUnVeJzUhJECAt05CwKPFMb8K5s+fo/ixiyoFzHjr/IBnQXqxk0WLpzVZph9+0USOdA9V5CZOhgCUSCoRJ+WkCnqnEC0nSARwyIH6QBiGQAIsd0iOZHrKAHKjxTxchqv1Sgx8JZ83qNdrViAYnSH3BIicExtyXGmIpV6as3g/qxw8ZNEh7YaaWq76h/SKx69FlCRKZOX2GtqlDmuL7EB3Vh5k7Uhb3LyoyUl8+SKhUbsGLiEMEFZswib5RUVKjWnU9BkTO7wLphdWspWTINu4jLfKouU+ppKwiALILR2AOuQoefiqrVixXXt/GLBYeWppy0IWG+vM81Egv5c2CG2wW2tatWzXuju8SqGt7AY4xhESNNCS2BfPmy4B+/XVBUWe+U/sOKr2hpgJsR3SwQa1BpTpz+ow2iUCVsWoni9lWIkFCQ4WCCC2YC4TKgvztV0NMt77QdmHEEdIdyCJpY5IS3fBhw/RvSK1tmzbamgxSozkGi7xB3bqyaOFC3ccXkOaP5r58Z1RX1Fc7sH0xP6Q473YGhOBP/WI7JdHx/EGudAuCYCjUyTxoJIIExMuElwf3A28gEhQFPPcY6bVJo8ayYO7c9Dps586d0+vjd2F/XiY0tLWkhKmA+9KiaTPtJsW8mHvvnr20q5TdBqnxO9ElCik6t4OvHYE55CpQ3ypXrKQSCmTCQwyJYTvizcxC46FGLfzrn/+iEhUSEpIMi5r96QjUN7KPqoCQCeon7cGwQbGYsGG989bfVbKzC4LvQgZ2kUNWdCVC7bQSEM1A8PC9+cYb2u0Zd753QbUy+w8ZPFjzTFH7JpvvhtWoqV12OK4F0gsSBV2DrPTGtdHBGjULEkYtbt6kqdoC/QEbFXOh3yVB0nbQ1PfD99+XmtWqZdjOoBOQv74MqQQzVSpVqKgEjzpM3XrUYEisYtlyKj3REYrYrPCuXZVYKZnOC4AAbaRFYt+4HsB9gfz4XejJiLS1auUqJS/AdUJWqK32O6jYkHhk74j0bRBhty5dpUWz5voc2O/nFhyBOeQaaE5x5NBhJaYEo0LZDjwYwHnY6S1AbikLhw42b73xV20x5msXYVG3adVK1UdUG8gOUqF6CAZhJK2ypUqrpOEPLJ7EtWuletWqSnLYsdjG/8kfpcVX9SpV1JBP9ylVA41EQSs5FjgSHwuf9m6ohqiRXrBosa1hD2JfFi49JKfHxirx4Uggg6O3UYmxzfkD30MKxMa0Dxtf2oBkmjRspDY373YGqpy1NXmR2pI/XAkTYrRki+TL9UP22BuxD+7euUtfLDg22A97GCor5M2cvOBFgCGe+nM0vKEkuwUSGT0wUUstpum29noPLfA+8n2kYUtquQlHYA65BqKwaR32piEmFgnEgDoHAZQrU0bVKxbOMX1799QegEhsvm/lGkb66NCuvS5m6uWzaFF9kD5YcP379tMGqHjeLJAYUJvYFxKhFRcEBskhSdy+dVsJgEWKVFelUiV1GBCpz7YtW7ao6oOtCIkKFamBkbJYeKhzgAWPvY0emUhwkClkheqJygvZMg/sVwRtYlPju6jBwSInNjBazCH5YLj3EhzXzbW+8ac/qxSFxEnfSyQzfgfUUiRiCIZCBxC8xbOnEOxlbTeH+hc9dKhKstwDgoJpjMM1E/DL/YLs+kRGqrRMo127DUcOEti8ufPSt+UmHIE55Bqwp9B9u2iRT/VtTWgEZMXbuo2RZiArFo+ShZEWUBExpvuiaeMm6sHj7Y3hHHsZIQ7njRSGtEGENw4BDMUsdFQoOnRT6w3CRMrCDlc7LExVSY6BpwzVE2mPhdjcSGGol0heECMeROxYqFqEQrAPUg0EhhSFF45zTJ8aq31EkWQgXpwWYWnSFzYg1GMM3n8zJD7DqJo0yeU+BIvsEhjno+N1l46dlFC9Ug7EzD2hDwQSL3W0mCM2OrqQ4xjBQ4gxH5KCbPmc+wnZcY3c9zrmPpJHjB0TSZiXFJ28e3TvrnYtpD7uKznDUYbE2I/jMBdsiswNiZJjWe9ubsERmEOuAVWP8Amkm8R1ifr2R8rBGwYhIJExCDWoV7t2ajPZNHXHi1TbUw1dOHgeGfPnzVci0kW5a7cUMwSGIRppDG8jHaOxpbGgkdw6GFWGjs6LFyyQfYaAqLyLEwDJEEkJVWdDYqIuKCQzjNGN6jeQGDNfPHAQIR45GiDj2cSDyTmaN2miEiULlgWKGkiAJgSJhIFUg1RC8UzsaZBudpBdAkMdHzRwoHb39gfsYc3My6Ji+QpajnzokCH6ktm/NzU8AgKfOX26fPqPj9XQz33Ckxi/Jl4b3yCxoSqWKVVKJVQkKs7Jv5HCEuITdM6QJ/cPVRT1nd8baQvJDnshaqUNZ8lNOAJzyDWsNxIOVT94gDFeEwphbVcsdiQWVCw8W5AdZObPqAsJIPWgGtH2nje8NSizKFB1WAzk19H1muBMCIdjczwWLduOHTmiNpxrhgzwNiJ1bEzcYKSOrdrkBRsR+2MHIx5KbUOGzCBVzsPnSCObN23WGDFi2PCuQZJ8zjWhrmLHYxHzN3OEFIgxu3rlqs4pO8gugUGaSHmBiBLCYD7rEtaqgR8b5ONvH2ujYq6Bz7FVEtYy36jdSLVIvNZuyEANx86Hd5jfhmvcYSRh7Gs4LNiH69ywfoNKvLotjaggc6RmbIr298lNOAJzyBXwNifUoW6dutokGBsL9iHfuB8WDQRgo7QDgeN9ee9LlQKIx/I++PybxcDnuP19jc8sMM5rbTr8m8Hiu3f3nhIc+1goWZl92ce7HXAeSAUpjTn5zoP9IVcrWbANOxSxYf4M7lkBIiZOjXMGA87PdWIjDAQIht+EMBXugS+4fr7PnFGnyajwguuAKCEmC66Z+853LSBCju/dxvfsy+dVwBGYQ64AiSfaqCd47hxyDhY6djVfEnHwD0dgDi8N3rJEtYd37SZRkX1UDcuu6uTgkBM4AnN4aWDjILiT0IIJ48YbVXJetvL/HBxyCkdgDi8N7CfYPrCRYO/AvoXdxcHhVcMRmIODQ4GFIzAHB4cCC0dgDg4OBRaOwBwcHAosHIE5ODgUWDgCc3BwKLBwBObg4FBg4QjMwcGhwMIRmEOhA2lMBNeSnG3/b//t/Zu8Q5KwSS4nIdq7D4MkZm9i8qsE8yD/8YfvM87Zzkn/bebInKh8y5z5Wytn/J5xjlwXn/M9W1lDPEnohQmOwBwKHSj1XL9OXSlftqzW76paubIOapA1btDAbC8nNatX16oP1AajZlXpkiWlerVq2sSDfRo1bKidfShFkxegfBBlt8uWLiP169WTsJo1teosXX+oXFu9SlUto00jDTof0fiDv2nYcenipbSjpILSP507dJSmjRtrPTYKSeakMkZBgCMwh0IFpA8qvdJjklphFDcsVaKk1tmfO3u21u5aGrdUW7hRGZbFTSu3//uH/5R+UX1lzerVWveKCqIQBwX8qDQbLCghRF2x7KZSUTyRYoJ0FWJelK2mzj6t46irtilpkxZhpG0a1VIpGFmyeAlDynW0cKQX1DqjnDWFJKkVRrOTwpra5QjMoVDhi9tfaFE9ChTawoeUP6a3I920US+ps0+3b8oe04mH3pB//uMflQhsbTG2d2jbTntXJiUl6bZgQIXWpXFx2ap/xZyo9U/Ja/JIqSlGHfmunTpr8UULmuVSrhmVEMmQ0ttFPv5EJTJvnS/UTQoQQsaFHY7AHAoVaI1PMUVsSo+//VbiFi2S0kYCo8kHdiHIQnsmGoKiLyNNcKntTllo+kRaUCiRWvGVK1YM2BrNH2hTRjXW7JQTgnCYE3XAkJQoT1TPqMAD+w/Q6qgWZ06d1mYj2LYgZqRMegPQxozrsKCaK7Xuqb5a2OEIzKHQApLqbiQZ7EeoaP5AyWM6CGEvouY+0g/kRznoCuXKaYHGQK3R/CEnBObF90YCRBLj3LNmzvR7HKrDUoMfqY3OQPQGWGyI2iLeSF6oylSeLexwBOZQaEEj22qVqyiJHT54KG3rcyCR0ert/Xff1W46qJhIbdicevboIZXKV9B/U0o6WLwsgVFHbXh0tNQNq602PG8Jaws6PtHmDEmNXo+ouoMHDEz7VFSl3LZ1W3qZ68IMR2AOhRKEDxw/flze/ttbMm3KVFXRfIENDNsYjV8phw2ZLTODLkQzYqcreUES2QmleFkCQ/2lI1PbVq21UKQvmAt2MIz7EPCD+w9k2JChuj9lvZHgaPGGdBYKcATmUCjBwqZr0Z/++39UnfJt/AFoj4axvGqlyroPdiO68kAcFz+7mClxoZ7RlQf7mHdMnjhJwzLo+u3dznFpopsZsUG69LR87+131P5FJyVfUDASlXbWjJm6P0B9bNmsuYwfO05b+SO5nTNEGgpwBOZQKHHu7DmNmfrHhx9q2IE/rDAE18ZILoMHDsy2ukWrMfpEdu/aNcOgX2LlChW0x6J3+xBzDkgFA3wg0DkI8qGTNsfGhucLiBVvKSqxnXNqDFlPtfXRWfzokaMqOYYCHIE5FDpgN9q5Y6fUrV1HmjVpon0ofcE+xEq1at5Cjea5FSf1Mirk5cuX1bb17t/f1lAQK2F5wXUh0fGZtY8hDc40ai/Ex/XSATtU4AjModABdTFucZwUL1pMxo8bp/0QfUEPwz4REdKuTVslOH/G8pzgZQiMsIeG9etLWI2aKq35mxNBtr7GfSQx1N9SxUtIi2bNHIE5OBRU0FgkJSVFVbj333lXhkVHa9t7K81ALLTGnz1zpoZPEKFP0Cvbc4PEckJgqJUEwE6eNEk+NipvrerVZdeuXel2O2xxBKoeOnhQRo0Yqa3/bet+C9TkQUZNHTlsuNwy1xcqcATmUKhAKAQqId7FnuE9ZO6c1NQb26Ubz93p06c1fSiiVy8ZPXKUSj6QSHa8jYGQEwKDdI8dPaqkir1smFEjITCkRICEhXdyy+bNMnXyFO2AfvPGjQzzxeaFUwHvI6EgoQJHYA6FCnj6iEQnf9EOAj+JugcQyw2z+JF47OfXr1/PtcoTHBf1NTupREhXSE3eORPiYdODILAH9+9r3qbO13yGwf9/febL/J8+fZpth0RBhiMwB4dcBJLQZ4ZkcoMMHbKGIzAHh1wE3szCWromPyJHBIZB9MGDB/LNo0cqstqOzL7gh0R8v37teroNwgs+xwVMEivpGvatxXaOhy5vtyH6s8/XRnS2Lm/2Q8zG2Ml+vP180z743qOHj9KNnvyf7/iK+BzjrpkrojzJtfa8bLe2CIB4TiE5rtvBweH1ItsExiI/sH+/7Nq5S/bu2Svr1yVK4rp1WgPJgnSGzy5c0Ihm9k3akCR7du/RTHoACWBYJRJ69+7dangktuXe3btKaATmEZDHcSETgP6PcZaIZggTV/HahAQtSkfA35EjR9Rgi/ET4FEir4y0C47PPHaY+UyZPFld1BAYJAWxYsQl7mb/vn2yY/sOWblipVy5fFmOHj0qS5cs1RQT5swxOdf2bSlaZyo3wfG/NQQMQfNyyGxQc4p5F9YaTw4OwSJbBHbv7j0llSmTJsva+AQt+kYKQ6cOHSVp40Zd4HhzII05s2YpWUAMM6dPl2FDozW3DC8Qhs7YadO0WBxVAqggWScsTA4akjlqiIhkVrLxKXMCCUE0CYasyLqfaL5z+/ZtrXXUqEFDLTuCzYHj1apRU6ZNnapk8MhITVQamGHODcmR9NquTRv55KN/6HbmiiQGeY0cMULLrWzbtk1rLlE/CoKCEBvUr2/OUUelTQjjwrnzMnrEKIno1Tvtrrw8mIu6/828uI8QdWaDuR07eswQXuh4mxwc/CFoAoNERg4fri5eW3ESiYk4mh7dwoUUB6SaU6dOaX4ZuVpax9sMggmHDh6sEtmF8+ela+cumjOGNwh1FGIr+kkRTY/ADQ3ptG/bTvdBJeQYU6dM0TK7+/buVRKkjO6I6OHSrHETDeIjtWOZkZZ279qtKh/SWZvWrWWfkaogNEizfZu2muoBwTJXpDay/pECITOky0ULF2pZX+bGNVOeuEmjxnLyxAlVWVFJkRDZL7fAvURiZW7BDIIVw7t11/il3ATXy71yw438NDLTNIIiMBbuViMdEKOy2CxcpKx/GgKAjCCQmPETdB/IBmlsePQwOXr4iC4IBmrR/a/ua3IqmfJVKlWSM+bfEBHSB3ama1evKVFhWyKOBmLZnrJd90Hli+zdW9MkUJ045sb1G1QKioyIUNWPSpaPv32sn585fUbTSFA3kcQ4B3OlgqVWJrhxU2NmBvTrpwGPVLfkJkFqSEK41W3gI/lyzZs2Sycw1DwIEHU0t8D8OPYXRrIMdvDyyCyvLifgt6X+VcbRxuff3r/9DbuP736Zfc/f/lmNYL5j98lsv6yO4R3+jpXV8b3Dd99gvmv3CWZfhr99gv1eMPsFGr7fz+p49vNA+z3/DD4IhKAIDGKCKIYYKQpbEmDxLJg3T2t3I/mwAKkSWbZ0af0b1c8X2MGoRd6+bVu1dbFwfUGMy4B+/TWlAnsTDLwkLk5aGBIhOdeCqGVUwmlGMsMuZFmagL+4xYuletVqGkvD95krUl6ZUqVk146d8t2T72Tl8hVKknNmz06Pt/GHdQlrpU2rVlpA7snjx6rionYSl5ObgDCZe7CD+we55yaQLKm5njpme/7t72/vdjsy+9z7b+/wt7/33/729f7bO/zt62/428ffd/1t827PbJu/v+2/fYe/72W1v7/97L8Dbcts+O7v/Y7v35ntY7f5fu4d3n0D7ff8M0w+gRAUgWH/qVi+gi52vIosNoimRbPm0rN7uBq+kbKwzxQvWlTztSyhQFIQCN/BboX6Q/SzlzSQfCAHJCuIBkmvZ3i4fufK5StKaO0MEy+cv0AJCbKMioyUbmY/VEovbK0k9ofYOCYOg1EjRmiuGIGAEDIRzRSsw8DvlWSYC95PO38y/+kAQ30oG+mc27lmzBFCWrF8eXBjxQq91/wWuQk8v7w03HAjP43MKmsERWAPv34o//jgQzVqk8JALhlNET58732JHpJqE0PaQfIqWay4dkyBoFAJWRSoh0wCe1Kj+g1kxPDhmmALcdAxBXXo6uXLSh54/Lp26aI5X3gtE9euU3tYn96RsiNlh0p2RFp3bN9Bxo0dm54vZgF5Uo8JOxwlgonMRjWqXbOmNKhbz8z1hB53wrhxSmBbk5OVoFE9UR+ZC9fIXAB2u149esjQwUNkzqzZWm/JS3i5AciSgntjR48ObowZo6kwVC9wcAhlBEdgDx9K0U8+0R57LKC4hYuUaKh2SbIsi5xmChiiP/34Y1UTradsy+ZkWbNqtao97Ic6VrpkKW0dhcGfz9fGx2v5X+xqeC5RFykDjO4LCWFXg8SQOg4bCQuvJgb5pXFL0mb4HJQbocZTGXOO2TNnqQiKrYtj0isPDyo2LsIjmAetqvYY1enIoSPqDV2zapVKeFa9PXjgoPQK7yE1jEpKFQAkpVAA15/VsMjss7yGv7n4Dgt/27zI6vNXBe95Aw3vfgHhs39ewp430PAiq88zQ1AERuAmYQod2rZVAiPxFMN3qxYtVBLAQI495tnTZ6risOAhBoz5Ses3avDob78a1cxIY6hgeCEJiegXFaWkQCAr3YaZOCQV1aePDB40SHvaIcWNMxIHXkzsb0hJkBIND44fex57ZgHZIgHWCaut4Rhk8FNtkzpLlA2+cP6CSlDMf6WZKza8TmaueFhTtqXoHFHpLNgfyQtHxZ0v7qRLZoUZEDgSNeo2dk1/A68v4Sz87sTo+X5OQDBSbV4BKRbTgL+5eAdSK+YO5odnmm2+5XTssQjPsd/jBfyqwbOFhpHZfWfwUsdjbufH+vENrEYDQpOw32EN8ru+ajwz82A+9ryBBhoYaxunGM+S9zOun/sdzHyDIjDsToQVQCB4DyERwgkgB06OGghY+F99+ZUcPnRYOx5jj7p967Z+336OfYmKkRjmsF9xk70T5YdBJUU642bwHQiSCgI2Cv/ypcu6wCAbX3AufiwkMY6D6ootDA+oJUQeVubPTcRwvSMlRY3zX97LWDeKYyFVEkPGg893Cju43zRGpdsN8XHY/rAfdjMvnQljx2l833ijukP4cXFxulAS4hO0KSySN7F9VBO1cX54grnn2QG/sfclEgz4rVj8SPv9+kSpjZS5MhcGhmGugxpge81zd+TQIVm+dKk2f6Uiq9fuyfPIPSAUaPSoUbJqxUoljWDB8wUZZUeSAHiXcVj179tXO2pjK46K7KOD+RNeRPNbHFh4xRPXrtX5I1QQb+kFL+g1q9eo44vy1qyXYJ0+3Ht7L7ILBAjWPvcU2zFFI9N/gzlzjAY0STuQE//JS4L1v2jBAjXTYOtGu5qXth8aGBxi+cMfgiKwUALSGTY2pAv6BEK2EGaogIfqwP4DqbF8RsrFrtmjW3cp8o+PVRLFK0vQL4uLBYWUhSpfpVJlqVGtmsyfN0+DcbF3dunUWUnN19ESCDyovKQCvZwyA4sOeygLgDpfjRo00KBr5mKDg1noOJF4sSF9IYETmlP8009lz65d6VIMLype2COHj9DrxMyRHdMBhA2hZObd9gdelqNHjlTi5/5BwnRVIvyHuEayVSCwMeY6kBoJ/CaMCVvupIkT046SCu7jiuUrNBCbF/R9tKAgtQdICGLBNpzdFwn3kJcW5a1LFC2mzrLnv8EGDX7v3LGj/h9CxR4NyWE779CuvZqTNhhyI86SEApeIAgwgeAIzAcY8WdOn6E/ftyixXLMEFgoAeLGVol6giSCVMCCqWYeSEiFNzMLk9i8g4boACEmYTVraV12L/HQ3QfHCQ1YgwElbzBPQJKQWE4wIzZW6tSqJSOGDUvb8hwQBI1urXRBIDDSTsnixVViQGqxQHLnWCeOHU/XMIIFZEEWSXavAdvs6lWr0qU3vP6EE8UYaeyXn1PjEnFCkcLH5xA+8y5W5FN94fDysVIfnxGojSnmp2w6nXhxY8NGa8lM+gkEwox4iWAmOu+HfHC0oQ0BXjqxU6fqC5Dr9YLnpknDRi9s98IRmA+QvnhD8ADSpirUgNsa9cSC/oJ4fAmZscCzi9PFLhikhkoVKqjK6QUqA635sYkGg9wgMIoY2vg+XxCqc8Mc1y5ypLJB/QdIf6P+suAgOAskGGyoXlILFjklMEiTFwMESwgRnm8WNml0VnpCYkG9ZR9MOWSo1KhaVRrXbyBbNiWrrRmgTmMeQXXjWNnByxIYBPXe22+rZPXF7RfvH13PmTtAymvVvLnUrFZdU/68IP2QFEMiBgLBEZgPrNShRfByOVyiIICF4r1u7BGkiw0xb3IL9mFRsIggAwKTGzdsqA4cCx5MbBo4U0jMDwYvQ2CoOqiznA81ETWGuaEOkt96+tTpdGKw2Jy0SRYtWKgL7u2//U0XrVX7UglsWJ4SGGSBWsW8ITJeHKi4OCasKsf1cA38RhRD2GRUM2ySBHX3MhLwjz+k/na8hLieK+aFbCXOYPEyBMb9Qm0kxOrQoUP6m6BSY5hPMsdkffH8cFwG4UMlihY16mM7jQYAzJeXJBH5bN++fbtu9wdHYA4BwYOG97de7ToZWtdb8ACSqoXtC5vTksVxutjIaSWPFUmWXoVIDMHgZQiMBY1KWLZUaaPuVlHyYc6ov4TR4HDyAukR5wwLFQdN+bJlNT4RlYdFx/+x+UFG2UVOCcwL7F28ODB4c1+s1GiBqk4EAKoYKhu/E1IkkjEkR7WY+DXx6YSYHbwMgTEX0vNoFkxIFLYscqFHGSkdO9gvHocdGTEY/Nm3c8dO+kIhpxqpH+mra6fO6tTACRcIjsAc/MM88xhyibdr1iQ1Ad4XGGx3pGyXcmXKaHv7xQsX6UOIUZ9AZIz91tbhC96ykAiqhB24znmgl5jvY+vxfsbweqt9gcSH17F0yZLSwqgk48eNVwMwKgg2JN/sCcwDSAQQJgZ6vKgYy1lkEC4OgL2792iObSAgFTEn33nSRIRgapwFvp9BKMFIRCz6xg0bvWCct0BFHDpkiM6V47LQMYRD/t88+kalSjyyWYH5I3V650huMdI0zhckUbsd0sRmlRkhYsPDHlqlYiWZMH68ekyJ/eR+cF+8hEiEAp9/8N57EhURqd5evJO8OAh74lg8g5nBEZiDX/CQxq9eI7Wq11ApAILwBQ4POkjjccLewaLZtDFJtm7ZqqpLZnFgqBUYmfHW7dy5UwdpW3g+saXhhbPb7UCtD7R4ID/e/MyXlDOkHyQyAq1JAfP1CCItEh/I251Fuc3MmUVHsj8kihv/ofksMwkEMqKJCNVMvPPEZoVE6u8a8G5mFlbC9XFOjPKoUDhIfAFxIuURFoIKBgi4blivvlYpIVuElDxsfFkBcwnhUd454klGcp1n/k+HJ7sdmxrhTIHuCRI7UlclIwmOHTVapVh+B15k3E8+9wIJDxURT+t8s8/W5C36/JCvTEhTMGFLjsAc/IJF0jcqSiUaJBl/wJVPihYZDoeM2sjisyMrEIM3sH9/zbjg+6ibPMws/LAaNaRF06a6zTsgFt9FYIEkUr5MWYns1VuJCxBYjTry5PGLXkRi2rAhAa4VMkLiIQ8XwzgLMSv1CfJDYuvWpUuGeeJ9K1rkUy195N3OSFizJtOgWKQzwhgoHdWje7iRFE+lffIcECAOBwK6eYmAz29+rlkmnJcsGQonUJUlK1CKiu5M6XM0vwWeP35XVFgkJ/19zEAtRqpCpfUHflMkWeaOxG4JiBp61mPtBWo9GS54UjE9ZOf5sXAE5uAXLGoKRuJFJF7KFxAJ6hfdoJFasL1kB7+Zh5uFTNgGUgyD2CzUOhwHvO3tdjtQWf093CyU40Zde+PPf1GbCwsJWDXVq7JxXUiGUw1B2coqgO0Yw1EjySJZOH9+lgTGPUCy814DA9URo7q/a0AVy0yygJyQBpFKppr7yvx9QbgFFVdOnzqVLuVCwGSmfPLxxxp6QYYL58oKHB/PpneOkBpSLP9HYrTbkdaQ/LhX/rDXSKIUUcCpY4szAOb2/bOM0jiqKxIi8YUEFvtmEgQLR2AOLwCDOJkQGMSRAvzZv7AbYXf5w7/9u2xKSsp2rJQ/5NSIT4oXasp7b78j+w0pZWYrgyCw7RAYylvfCyQCpMDWLVtpZkaghZoVXsaIj82JyPsaGlawyu8c+G2GDxumDhRLzhA7L4TGRmqiMS4ElhUBB0JOjfjYIPEAY7DPys53/dp1Tc8j2BXPZVb7B4IjMIcMQKKAsFgg7779ttpisFN535Cki/H27NiuvRLY8mXLM/UUBYucEBh12ShvTrI+rnuMwIHKr3BtkFT/vv00NYdgXe8CRRqxebdIENlRZbzICYFBupRsxy5XsngJLWs+2xACaXEW3B+OiXQEyWIU95I1cyYolOKf2MByiuwQGMTDs8G+hH3gASaIGCk40AsAiZXwlYb1G2iJKzI/fKvKBAtHYA4ZQKkkMhAwIFevWlUDQ6nSgZphgYpEeARGYwJY8SRlJ1cwEHJCYGeMNBIzbpz2LahVo4aqhjgQ/IEEbrpak8BPDuGBAwdekNbIQsCZ8DLICYFBPrw4Jowbr+ojcXUx48dnCCpGOkPaHWAIGBUVsvNmPhAfRvwY5AO55RSUdQ+WwFCHkYAhVYo71K9bV18A/I6B7JXEe2H/rF0rTFV2gm0h75zAEZhDBiB18Obkzfr7P80w/+dvrzTi3YcH3PfznCInBJZhvn7m6oXvvv72Y0FmN3LdFzlVIdPnZ+5poGvh78zmzzZsTpnZ2bJCdggMpM87bV7/CjA3C+816P6Z/GZZwRGYQ74BiwX1D48aQY6vAyyknC4mC2yIqKr+DPB5gZchBMBvgJr3Mmp0XsERmEO+AYsFEvv5p5+DevPnV0AgBMAW1GtA9bOpYvkdjsAcHBwKLByBOTg4FFg4AnNwcCiwcATm4OBQYOEIzMHBocDCEZiDg0OBhSMwBweHAgtHYA4ODgUWjsAc8hSkuZD4TZmWzAbNRUgItn8THe6bHkNuILmbfE7kOKVlCkLwpUPuwRGYQ56CYoM0vSWZl8KBlA7u36+f1qNn+9gxY7QzO1UlDh88KPPmzNW8QvoIQlJeUPImdlqsTIyZqMUO6fJckCP4HbIPR2AOeYo1q1druRcqFmjbtbDa2owivFs37V5ENYkmjRprTfazp0/L7JmztM4Xbd327duXdpRUUHGU3oHUz6IbPCVZnAQWWnAE5pBnIEeQKgdIV+Tb8TfdaCjJTPVPi/j4eLlw4YLmRlLRoWb1GvKPDz/SUsneShGolLTXpzihQ2jCEZhDnoHqDDSWpbYY5EV11KqVq8igAQPlkqdr0Plz5+XB/Qdaq4va71GRkfKukcL69+uvbbcsbt28KZuTkl6QzBxCB47AHPIMWmnCkBKSE1U86WJUrnRpVR297e8pR4OERh32DUZio3AfpZ7bm7FmzZq0vVLV0e3mGHR6dghNOAJzeC2gVDJ9DatXraZqpT+cOHFCJk+erPtixKcKKUZ+W+mTzkF0Fvr1JQsQOhRcOAJzeC2gDRrk1bpVK22y4QukNfotUpsfdZNwicjeEdr38OqVK/LzTz9pL0pvZyGH0IMjMIc8B+REZ2xasuFFvHD+fNonz/H428eqYsZOnaYEBvh3y+YttNnFTUOANIYIpvehQ+GFIzCHPAct2fAo0tEI+xdBq744c+q0JK5N1AattqxxcnKydOzQQZtB0Iaemu250c7NoeDCEZhDnoOOObTe+ttf3pD9+/apOugLQi2IBfPWlSeQdfy4cfL+O+9K9y5dtBOSi/sKbTgCc8hzYPOi7X6VSpW0G7dv4wg8lcuXLVMC84Lt8atXS+mSJaVNy5ZyM5vdwB0KHwo0gfFA84YmB87aSRzyL4iUx3g/bcpUKfpJEe3lSPce2x4f2xg5jxjmR44YIdNjY+Xhw4f6mQVt16IiI2XIoEHaidohtJGvCQxSIibIX36bLoYbN+TYsWNy5MgRefj11xpflJ02UKgfHN+RX94AFRAJqnuXrlK+TFlp1qSJrFy+Qu7euaOfk+h97tw5GT1qlHRo21ZJ7NTJUxl+U+xndApP2rgxQ1NXh9BEviUwSAWSwojLQ+uLdWvXyuyZM2XGtGnaxZi3+pXLVwJ2A/aHb7/9Vo8PiTm8evCb/mZeMgStInURic9Lx75AICpeKkjW/Cb839fGxb58x+U9OoB8S2CoEkkbNkqDuvX0jWsfVh7eDevXy6KFC2Xvnj2aajLDqBrVq1RRErt2NbhuyFQuIICyTq0wbTlvFxEE+OjRI3Xjcy6H/An7ezmENvItgfF2Pnf2rMROnap5cjywqJLUiOrUsaOsWrlK7n91X9WOy5cvq71k544dWiMqGHD8M6dPyzRz/EcPH6arKffu3pU5s2frsf2prg4ODvkHLxAYCxkRH6mE6GfUNwrQIZkg9kMQpHZgPIcEvrh9W768d0+JxBdIMHz385s35e6duyr2ewFBYMfgGDdv3EhXC3QO5niQCPPgPHQ6pkLBakNc2E/4/5MnT/QYqIIk+fq2o+f8GIFvfX5L7nxxR375+Rc9NmTIMbmOW7du6bWhsmBTI2Wlds1acuH8BT0e3+caLDjm0++evrbW9w4ODs+RgcAscRAgiAt7+bLlqsZZg+nlS5dV7WKRHz16VM6fPy9LFsepyxtpyWuTgBAgLgrNrV6xUlaYY5HbRjkUe54vvvhC6zglrl0ny5YslcOHDxvV7lslyksXL8maVasNMX2mf6MqxoyfINUqV9FBnSjiiQiCRPLasH5DekAk8+A7ENLe3XskfvUaWZewVo+pBPT0qZw8cVKv66yZN3O6fv26FtSrWb26VK5QSb9z5PAR2ZSUpN+11waBHz1yVPbvzd0UFo7PvHgxBDO4v9777eAQishAYJAKaR0tmzeXXTt3qu1p5PDh0qtXL5XGNm1MklYtWkqFsuVkyqTJSijRQ4ZK/Tp1NdEWu5W1TezauUvGjBolGxITtapAn8hILZty2qhtkMjBAwe1CufCBQs0t+30qVPSoF59rTwAqbHvR+9/IEcNqSEt4Y0i7aTIx59Iq+YtZNWKVYa4dsr0abFSo2o16RvZR0kOIJFtSd4iERERSlIcn7SUju07qDTFtXVo115z8ZgnZAAJtm/bzhz/Y+nZPdxc23iJGTdemjZqrPPCLgZhnD1zVoaYeXQxamxu4uHXD5XkF85fIAvmzc90sM+O7TsySIYODqGIDASGCnfo0CGpVL6CSk5IGxjKx44eo5IRNqPuXbtJeUNg8WvWKDGg+lFVAGM40hJksGzJEhk/dqysX5coD4wKCoF16tBBhg0dqlLQKUNWvXr0lISEBJXCbt+6rRIYpYMpOYzkNHP6dClRrLgGK0IczA3p76MPPpD1ietVJYSotqekSLkyZdSoj/0KEt22dat07tRJ9pi5s8jPnzuni37UiJH6OZJbv759pU5YbY0lQg0loLJ/335So1o1zdP7/Obnql5OnTxFK4RCjkhqzIPie1QTzS1A+qjKEP6oESPMSyPzwXXMmjFD77+DQygjA4EhGV0xi6JyxUrSJyJSDuw/IF8/+NqoWyf0M6QUSKZr5y5KXCx8xqSYiVK3dp10SQqSGz92nEpzR4wEhVGcxbnVSFeQYL+oKD3+GaOqsnhRnSANIrSxOfG9iRMmaLS2Nco/MSoslTeRkDgP52VOVCwoXrSoEh/kCeH2NcdHWoO8UFf5/0lzfAaueVTZgQMGSDdzHValJUCSOu3du3bVfdgGUKWbN2lqpMJDKqFCgOwLOeYWOBcqOgGcwQ7mgFSYm9i8abOMHjnKDT8jbvFiNaFYDcMhf+AFIz72lQFmIZctXUbVQ+xYFlQDoPzvIqP2WSBBjRg2XAvOQRTz586ThvUbaN0mSAW1aIqRYsh5Q0JCRfz4w4+UGJDO/GFHynaJ7NVbSQ/iAngiYwypVa9aVY3vALKjqF3F8uXVkYDdCztWWI2aKkFCaP6QuG6dIdG+MnnipLQtonY9arVPN9/3AkmzVYsWZnFvUikUgiZ6HKkyt5BuE7z9RXDD3HMkx0DXl1OQYN3ZqMZuvDjIweS3dwSWv5BOYEgzSB5INqhYbVq1kob16qtqB1DjeoSHS+9eveTE8eO6jR8TNZA6TUhhz4wkFWUkK9TJXuE9lLywZyHl4Olj8VEK5e2/vaWOArYDFrCV5jgmZNLWnB+bG9IZn1O4jnP36tkzXfLAcUBNqK6dOyuBIT2iGtIo4pGR3KyRm2NybP7mWDOnz5DBAwaqnYx5sX3MqNFGKoyQnTt36r7sB5I3b5YunToblW2mnD97Tr+DRJqb4Pxf3vtSli9dFvRYG5/wQpceB4dQQzqBIR4fOXREN7KgEtclqjEbmwsEgCpH6sfw6GhVd9hGGAMqF9IMHknIhu4yzYzqR5yWJS7IAJUT1YcWWBAYaiKkCahGQCgFg/Io2J3qhIXJlcuXVdJB0sAr2LJZc5k7e46eByDNhRuVdvKkSXLKkMqBffulpyFO1FnsY5bA2P/OnTsaEgI5oT4Ojx4m169dUwmTa0PtReJEsiG1hf0ABv8IIw2OMvdh2pQp+hbObckHIFVCksEMPLCrlq/U8BAHh1BGOoHhrYOcUPsgFlJ1WNB4CZHMthhJpFb1GjJuzFglMAhhUkyM5qvh4fvxhx91Yc+YPl0N4RAbNquN6zdo7aYjRhIjVIHjvv/OO2pvQorgu8lGPcMYz3FPHD+h6mPVSpVVzcSQTtQ8Aa2kDOEoYH6QI4b0yhUrqo0CAz9xYnhGy5YqpU4ECG7bli16fM7P/JAu8Ta2bd1Gv4M9jf6CbVq1lk7tO8j2bSkajmEJDHURCbORUYshdYgG8s5tcD3c02AGBGuDeB0cQhnpBAaRUKMJssFGtGzpUl3geA2/f/ZMxhviam4kMDyJ2IOIj1qyeLEcPHAg3dDOoodE2DfCqHuoZaig+/bsVekKGxVSz6SJE9XehHdzaVyc7Ny+PT2PEW8goRED+vZTuxlS3qXPLpp9R+sxf/zhB5Xo2JeUot49e2m8GJ7Gx0bqgow4Ltuxca1euVKPg6cT4kHtGjd2nEwYN17JGqM8rbsoXYwHkG3M05IUFT9JUeKY7AeZF3ZA9Kj4OAqIhfM3MCOcO3NWOwgdO3rM3Lfj+ht7wXHwrtrvnD51Wu/3qwa/EXZC73z9DRLHyewgSJrYPu9nPEc4e3hh/RICv3lBRTqBIR2lGOlje8p2rZKJx5EfF2BIb2ckFpqREo6AYTt5c7I+sP4W9BWjjhIAC7EcP3o83dYFIDmM75APBvj9e/ep/coC8iDWCnXTEsm2LVvVxuZbH4oQCzyXqKcQGuBcN2/cVBUWtRNC8nrrkN7YRjwa8WV2G95LzmmdBoDthE8kb9osFy9ezHAdhRWo3ajtqNjcc1RWpFmax/L3nFmz9cWApLtg7jzZtWOnqrRDBw8x93xlBvUahxASLM03eJlh08TWFyz4Tb3dioIFvyv2UST0Ht3D9dzYPXEw2TF8aLTOG/LlBbzSvLgH9h+g8YdcJx3B+T4hQZAZDhyH/Id0AgsECASViuBVCAmJ6FWDB9emD1G9AO8Y0f6oT68aECyqLLY4Ys2IWcPuFSrgvh80pFO9SlUZY6TepXFLVJr95KOP1GHCSwEC69unj/6NXRFyqFCuvKrm2C0t+B1xeCA9EzpDBVX7ogkGvHjwPluHSnaA5LTYaAj/9R9/UBPAEnMdmDPswGRAQPJhc62QLvGPxBMSFI2ZhOyQuEWLpHatWhLetZsGDudkHg6vFlkSGMZwPHElixVTqSwvfkQM69jKZs6YoSolqixvQWuUf5VA+kCVRM3lDU38l7WHhQJQvfD4ct+RoLARDjPSSqUKFZVQWOxILMTU7TPSMy84TA5kK9SsVl1tpl4gCbENW2Z2VTFiCMmIsOp8doCDI3bKNCUwPMsEICNB24Gne++evfpCRspDKifHFknTppfhXKJxCGE5mDxCQQIvaMiUwO6btxhR53jt6taurW9Sgk9fNbCT7DKLCKcC6UzYzazn8VWDWDUcEQQuYgPJC4kzP+HrBw/UQ8xi5WWFF5ZWZrQ/4wXCNu4JEo5VzefNnSvRQ4ZovBT7ekGAMqoY6nh2X37YV3ES5YTAsN91bN/evHiLq62Lc3NNvJCRMjGZUASTa+J5Q4pk3xmx0zM8a1xbZUPeeOS5Bof8hUwJjAeVhxkJDJsVwaG8SV81eFAgEuxSpBV57SqvGmqDM29gvJV5RZr5CXg2UaEtsAWRSkVmgwV2T/azhMaiRwojnIVKHjhkrG0UrzKSbE7wMgTGi5eUuNYtWmoZa+bKb5oQH69zZ1jJmmcN9RePNp9zPga/f++ePVWyRG3OCw3AIXvIUoV0CF0gsQweNFhzRlGlfKH2QiPRkGCO44WXXM3qNZSwcNRgR4SEVhl1LSfIKYEhYcUtjpMP3n1PpTBSpFAXkbL69onKYBLg2ARAly5RQrM8Fs6fr57048ePq7cdWxnkjTPCIf/BEZhDQOBl7mAIoHnTZqqS+QK70l6j4hPPh6R86OAh6dqps5obCDmhXwHxhVk5QTDsI2UTruMdSPx4vpGEvNshKCv9+QMSIHa7N994Q1qYuZNJ0aBePQ1wJhHeS2CcF+/zG3/6k5ZSwtkweuRINfxT9YTMEZwPDvkTjsAc/AJyICaQ2mtkN/iL3yL8hbhAPI2QGQG22Lv++z//S22XhFWsNSoZhJMZiDWkcglSnncMMdIf5YwI3fFuhzAJ8Qnk0eTcECkeRex0OCMgUZxB2w0peiU60tvmzJwtb/31TQ3J4TowneCo4P8QXCg5cQoaHIE5+AWLHNWpYrny2iXI3yJGQiN1DOkLiQiVE88hjWdJfsabS+hNViogBnXiCimO6R1kgjRr3ETiFi3OsJ2mtxBTIGIh7IYKIuS2WrsVhIdH1VYoscBGR6xYWK1aaiMDfO7sXQUDjsAcXgALGDJq3LCRJsaTlO8LHC3YjkgJswHPgEyHzh076XexNxEYnRWQdKi/RtCwd5C03rtHT4329263GRGBiHFiTIyWYkICtPuQwYF05Ut6ZKCQIjfEqKqEkDgULDgCc3gBxD+Rc1qqRElNcqfvpi+QZHbv2i2LFy7KoF5CRhsS12tMFWWWsEflFDkx4hNYG9G7t3Rs116JLpCdDKBaEqNWomgxJbtv0sJCHAoOHIE5ZAB2JVTCcWPHaknvUSNHKhF47U1IP/v37ZcJ48fL7p27lAgsUaB6EYbR1Kh+9FR4mRCY7BAY+2BrIz2NUA4Kb2L8D/RdroHoe7IMin1aVCPtmXdmhOeQ/+AIzCEDCCEYN2aMUR3DpEzJktKoQQOJnRabQZKicggVQyh5hIcPtQ6V0wLSIAWJhPCXIYTsEBiS3+pVq6Rt69ZSoWxZnRtR/IFsZTsNYfXv21dqVK0qFcuVk57h4Vot2FX4KFhwBOaQAUgtV69c1WoTqI6kDJEcj/3IIjVa/4Km3xD/5U/SIVL/+2ffp/2VM5A+RmnxYAgMCZFabpCQVpIw8yf8IVAGAF5G1GTCQxjUs0OSdMb7ggVHYA75FhQRgIycWucQCI7AHBwcCiwcgTk4OBRYKIHxHzfccMONgjgcgbnhhhsFdjgCc8MNNwro+D/y/wO303RRC7AcnwAAAABJRU5ErkJggg==)"
      ]
    },
    {
      "cell_type": "markdown",
      "metadata": {
        "id": "Gbu-xmI13_Bc"
      },
      "source": [
        "Based on the above metrices what can a doctor tell with the most probability?"
      ]
    },
    {
      "cell_type": "code",
      "metadata": {
        "id": "JbpcTyqH9J7F",
        "colab": {
          "base_uri": "https://localhost:8080/"
        },
        "outputId": "3962cab3-f84b-4278-99ac-b608ab7e29ff"
      },
      "source": [
        "from sklearn.model_selection import cross_val_score\n",
        "clf = SVC(kernel='linear', C=1)\n",
        "scores = cross_val_score(clf, X_test_scaled, y_test, cv=5)\n",
        "scores"
      ],
      "execution_count": 19,
      "outputs": [
        {
          "output_type": "execute_result",
          "data": {
            "text/plain": [
              "array([0.70967742, 0.80645161, 0.80645161, 0.77419355, 0.76666667])"
            ]
          },
          "metadata": {
            "tags": []
          },
          "execution_count": 19
        }
      ]
    },
    {
      "cell_type": "code",
      "metadata": {
        "id": "XlF53k2C9Q-M",
        "colab": {
          "base_uri": "https://localhost:8080/"
        },
        "outputId": "b4756df3-d17b-4634-b773-1f950fcf8641"
      },
      "source": [
        "scores.sum()/len(scores)"
      ],
      "execution_count": 20,
      "outputs": [
        {
          "output_type": "execute_result",
          "data": {
            "text/plain": [
              "0.7726881720430108"
            ]
          },
          "metadata": {
            "tags": []
          },
          "execution_count": 20
        }
      ]
    }
  ]
}